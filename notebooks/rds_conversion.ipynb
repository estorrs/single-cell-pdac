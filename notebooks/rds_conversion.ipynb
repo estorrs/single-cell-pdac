{
 "cells": [
  {
   "cell_type": "code",
   "execution_count": 1,
   "id": "cfe84668",
   "metadata": {},
   "outputs": [
    {
     "name": "stderr",
     "output_type": "stream",
     "text": [
      "Registered S3 method overwritten by 'spatstat.core':\n",
      "  method          from\n",
      "  formula.glmmPQL MASS\n",
      "\n",
      "Attaching SeuratObject\n",
      "\n",
      "Registered S3 method overwritten by 'SeuratDisk':\n",
      "  method            from  \n",
      "  as.sparse.H5Group Seurat\n",
      "\n"
     ]
    }
   ],
   "source": [
    "library(Seurat)\n",
    "library(SeuratDisk)"
   ]
  },
  {
   "cell_type": "code",
   "execution_count": null,
   "id": "a550fb47",
   "metadata": {},
   "outputs": [],
   "source": []
  },
  {
   "cell_type": "code",
   "execution_count": 2,
   "id": "ed6b6698",
   "metadata": {},
   "outputs": [],
   "source": [
    "saveH5ad <- function(obj, h5_fp) {\n",
    "#     obj <- DietSeurat(obj, assay = 'RNA')\n",
    "    for (col in colnames(obj@meta.data)) {\n",
    "        if (!is.null(as.numeric(as.character(obj[[col]][1])))) {\n",
    "            obj@meta.data[[col]] = as.character(obj@meta.data[[col]])\n",
    "        }\n",
    "    }\n",
    "    SaveH5Seurat(obj, filename = h5_fp, overwrite = T)\n",
    "    Convert(h5_fp, dest = \"h5ad\", overwrite = T)\n",
    "}"
   ]
  },
  {
   "cell_type": "code",
   "execution_count": 6,
   "id": "98012966",
   "metadata": {
    "scrolled": true
   },
   "outputs": [
    {
     "name": "stderr",
     "output_type": "stream",
     "text": [
      "Warning message in saveH5ad(obj, \"../data/single_cell/original/inhouse/eus_fnb.h5seurat\"):\n",
      "“NAs introduced by coercion”\n",
      "Warning message in saveH5ad(obj, \"../data/single_cell/original/inhouse/eus_fnb.h5seurat\"):\n",
      "“NAs introduced by coercion”\n",
      "Warning message in saveH5ad(obj, \"../data/single_cell/original/inhouse/eus_fnb.h5seurat\"):\n",
      "“NAs introduced by coercion”\n",
      "Warning message in saveH5ad(obj, \"../data/single_cell/original/inhouse/eus_fnb.h5seurat\"):\n",
      "“NAs introduced by coercion”\n",
      "Warning message in saveH5ad(obj, \"../data/single_cell/original/inhouse/eus_fnb.h5seurat\"):\n",
      "“NAs introduced by coercion”\n",
      "Warning message in saveH5ad(obj, \"../data/single_cell/original/inhouse/eus_fnb.h5seurat\"):\n",
      "“NAs introduced by coercion”\n",
      "Warning message:\n",
      "“Overwriting previous file ../data/single_cell/original/inhouse/eus_fnb.h5seurat”\n",
      "Creating h5Seurat file for version 3.1.5.9900\n",
      "\n",
      "Adding counts for RNA\n",
      "\n",
      "Adding data for RNA\n",
      "\n",
      "No variable features found for RNA\n",
      "\n",
      "No feature-level metadata found for RNA\n",
      "\n",
      "Adding counts for SCT\n",
      "\n",
      "Adding data for SCT\n",
      "\n",
      "Adding scale.data for SCT\n",
      "\n",
      "Adding variable features for SCT\n",
      "\n",
      "No feature-level metadata found for SCT\n",
      "\n",
      "Writing out SCTModel.list for SCT\n",
      "\n",
      "Adding cell embeddings for pca\n",
      "\n",
      "Adding loadings for pca\n",
      "\n",
      "No projected loadings for pca\n",
      "\n",
      "Adding standard deviations for pca\n",
      "\n",
      "No JackStraw data for pca\n",
      "\n",
      "Adding cell embeddings for umap\n",
      "\n",
      "No loadings for umap\n",
      "\n",
      "No projected loadings for umap\n",
      "\n",
      "No standard deviations for umap\n",
      "\n",
      "No JackStraw data for umap\n",
      "\n",
      "Validating h5Seurat file\n",
      "\n",
      "Adding scale.data from SCT as X\n",
      "\n",
      "Adding data from SCT as raw\n",
      "\n",
      "Transfering meta.data to obs\n",
      "\n",
      "Adding dimensional reduction information for pca\n",
      "\n",
      "Adding feature loadings for pca\n",
      "\n",
      "Adding dimensional reduction information for umap\n",
      "\n"
     ]
    }
   ],
   "source": [
    "obj = readRDS('../data/single_cell/original/inhouse/eus_fnb.rds')\n",
    "saveH5ad(obj, '../data/single_cell/original/inhouse/eus_fnb.h5seurat')"
   ]
  },
  {
   "cell_type": "code",
   "execution_count": 8,
   "id": "34321195",
   "metadata": {},
   "outputs": [
    {
     "name": "stderr",
     "output_type": "stream",
     "text": [
      "Validating h5Seurat file\n",
      "\n",
      "Adding data from RNA as X\n",
      "\n",
      "Adding counts from RNA as raw\n",
      "\n",
      "Transfering meta.data to obs\n",
      "\n",
      "Adding dimensional reduction information for umap (global)\n",
      "\n"
     ]
    }
   ],
   "source": [
    "Convert('../data/single_cell/original/inhouse/eus_fnb_rna.h5seurat', dest = \"h5ad\", overwrite = T, assay=\"RNA\")"
   ]
  },
  {
   "cell_type": "code",
   "execution_count": 7,
   "id": "7edf2fa5",
   "metadata": {
    "scrolled": true
   },
   "outputs": [],
   "source": [
    "obj = readRDS('../data/single_cell/original/integrated.rds')\n",
    "saveH5ad(obj, '../data/single_cell/original/integrated.h5seurat')"
   ]
  },
  {
   "cell_type": "code",
   "execution_count": 8,
   "id": "6c249f32",
   "metadata": {},
   "outputs": [
    {
     "data": {
      "text/plain": [
       "$RNA\n",
       "Assay data with 31915 features for 113052 cells\n",
       "First 10 features:\n",
       " AL627309.1, AL669831.5, LINC00115, SAMD11, NOC2L, KLHL17, PLEKHN1,\n",
       "AL645608.8, HES4, ISG15 \n",
       "\n",
       "$SCT\n",
       "SCTAssay data with 29227 features for 113052 cells, and 4 SCTModel(s) \n",
       "First 10 features:\n",
       " AL627309.1, AL669831.5, LINC00115, SAMD11, NOC2L, KLHL17, PLEKHN1,\n",
       "AL645608.8, HES4, ISG15 \n",
       "\n",
       "$integrated\n",
       "SCTAssay data with 3000 features for 113052 cells, and 1 SCTModel(s) \n",
       "Top 10 variable features:\n",
       " SPP1, COL1A1, LUM, MGP, SFRP2, REG1A, COL1A2, PRSS1, APOD, TFF1 \n"
      ]
     },
     "metadata": {},
     "output_type": "display_data"
    }
   ],
   "source": [
    "obj@assays"
   ]
  },
  {
   "cell_type": "code",
   "execution_count": 6,
   "id": "682d3b56",
   "metadata": {},
   "outputs": [
    {
     "data": {
      "text/plain": [
       "$RNA\n",
       "Assay data with 31915 features for 113052 cells\n",
       "First 10 features:\n",
       " AL627309.1, AL669831.5, LINC00115, SAMD11, NOC2L, KLHL17, PLEKHN1,\n",
       "AL645608.8, HES4, ISG15 \n",
       "\n",
       "$SCT\n",
       "SCTAssay data with 29227 features for 113052 cells, and 4 SCTModel(s) \n",
       "First 10 features:\n",
       " AL627309.1, AL669831.5, LINC00115, SAMD11, NOC2L, KLHL17, PLEKHN1,\n",
       "AL645608.8, HES4, ISG15 \n",
       "\n",
       "$integrated\n",
       "SCTAssay data with 3000 features for 113052 cells, and 1 SCTModel(s) \n",
       "Top 10 variable features:\n",
       " SPP1, COL1A1, LUM, MGP, SFRP2, REG1A, COL1A2, PRSS1, APOD, TFF1 \n"
      ]
     },
     "metadata": {},
     "output_type": "display_data"
    }
   ],
   "source": [
    "obj@assays"
   ]
  },
  {
   "cell_type": "code",
   "execution_count": 7,
   "id": "19026b8c",
   "metadata": {},
   "outputs": [
    {
     "name": "stderr",
     "output_type": "stream",
     "text": [
      "Validating h5Seurat file\n",
      "\n",
      "Adding data from RNA as X\n",
      "\n",
      "Adding counts from RNA as raw\n",
      "\n",
      "Transfering meta.data to obs\n",
      "\n",
      "Adding dimensional reduction information for umap (global)\n",
      "\n"
     ]
    }
   ],
   "source": [
    "Convert('../data/single_cell/original/integrated_rna.h5seurat', dest = \"h5ad\", overwrite = T, assay=\"RNA\")"
   ]
  },
  {
   "cell_type": "code",
   "execution_count": 9,
   "id": "a84bbcd8",
   "metadata": {},
   "outputs": [
    {
     "name": "stderr",
     "output_type": "stream",
     "text": [
      "Validating h5Seurat file\n",
      "\n",
      "Adding scale.data from SCT as X\n",
      "\n",
      "Adding data from SCT as raw\n",
      "\n",
      "Transfering meta.data to obs\n",
      "\n",
      "Adding dimensional reduction information for umap (global)\n",
      "\n",
      "Adding scale.data from integrated as a layer\n",
      "\n"
     ]
    }
   ],
   "source": [
    "Convert('../data/single_cell/original/integrated_sct.h5seurat', dest = \"h5ad\", overwrite = T, assay=\"SCT\")"
   ]
  },
  {
   "cell_type": "code",
   "execution_count": 8,
   "id": "f1122c0e",
   "metadata": {},
   "outputs": [
    {
     "name": "stderr",
     "output_type": "stream",
     "text": [
      "Validating h5Seurat file\n",
      "\n",
      "Adding scale.data from integrated as X\n",
      "\n",
      "Adding data from integrated as raw\n",
      "\n",
      "Transfering meta.data to obs\n",
      "\n",
      "Adding dimensional reduction information for pca\n",
      "\n",
      "Adding feature loadings for pca\n",
      "\n",
      "Adding dimensional reduction information for umap\n",
      "\n",
      "Adding integrated_snn as neighbors\n",
      "\n",
      "Adding scale.data from SCT as a layer\n",
      "\n"
     ]
    }
   ],
   "source": [
    "Convert('../data/single_cell/original/integrated_integrated.h5seurat', dest = \"h5ad\", overwrite = T, assay=\"integrated\")"
   ]
  },
  {
   "cell_type": "code",
   "execution_count": null,
   "id": "cd124736",
   "metadata": {},
   "outputs": [],
   "source": []
  },
  {
   "cell_type": "code",
   "execution_count": 4,
   "id": "1c9c99f0",
   "metadata": {
    "scrolled": true
   },
   "outputs": [
    {
     "name": "stderr",
     "output_type": "stream",
     "text": [
      "Warning message in saveH5ad(obj, \"../data/single_cell/original/integrated_subset_malignant.h5seurat\"):\n",
      "“NAs introduced by coercion”\n",
      "Warning message in saveH5ad(obj, \"../data/single_cell/original/integrated_subset_malignant.h5seurat\"):\n",
      "“NAs introduced by coercion”\n",
      "Warning message in saveH5ad(obj, \"../data/single_cell/original/integrated_subset_malignant.h5seurat\"):\n",
      "“NAs introduced by coercion”\n",
      "Warning message in saveH5ad(obj, \"../data/single_cell/original/integrated_subset_malignant.h5seurat\"):\n",
      "“NAs introduced by coercion”\n",
      "Warning message in saveH5ad(obj, \"../data/single_cell/original/integrated_subset_malignant.h5seurat\"):\n",
      "“NAs introduced by coercion”\n",
      "Warning message in saveH5ad(obj, \"../data/single_cell/original/integrated_subset_malignant.h5seurat\"):\n",
      "“NAs introduced by coercion”\n",
      "Warning message in saveH5ad(obj, \"../data/single_cell/original/integrated_subset_malignant.h5seurat\"):\n",
      "“NAs introduced by coercion”\n",
      "Warning message in saveH5ad(obj, \"../data/single_cell/original/integrated_subset_malignant.h5seurat\"):\n",
      "“NAs introduced by coercion”\n",
      "Warning message in saveH5ad(obj, \"../data/single_cell/original/integrated_subset_malignant.h5seurat\"):\n",
      "“NAs introduced by coercion”\n",
      "Warning message in saveH5ad(obj, \"../data/single_cell/original/integrated_subset_malignant.h5seurat\"):\n",
      "“NAs introduced by coercion”\n",
      "Warning message in saveH5ad(obj, \"../data/single_cell/original/integrated_subset_malignant.h5seurat\"):\n",
      "“NAs introduced by coercion”\n",
      "Warning message in saveH5ad(obj, \"../data/single_cell/original/integrated_subset_malignant.h5seurat\"):\n",
      "“NAs introduced by coercion”\n",
      "Warning message in saveH5ad(obj, \"../data/single_cell/original/integrated_subset_malignant.h5seurat\"):\n",
      "“NAs introduced by coercion”\n",
      "Warning message in saveH5ad(obj, \"../data/single_cell/original/integrated_subset_malignant.h5seurat\"):\n",
      "“NAs introduced by coercion”\n",
      "Warning message in saveH5ad(obj, \"../data/single_cell/original/integrated_subset_malignant.h5seurat\"):\n",
      "“NAs introduced by coercion”\n",
      "Warning message in saveH5ad(obj, \"../data/single_cell/original/integrated_subset_malignant.h5seurat\"):\n",
      "“NAs introduced by coercion”\n",
      "Warning message:\n",
      "“Overwriting previous file ../data/single_cell/original/integrated_subset_malignant.h5seurat”\n",
      "Creating h5Seurat file for version 3.1.5.9900\n",
      "\n",
      "Adding counts for RNA\n",
      "\n",
      "Adding data for RNA\n",
      "\n",
      "No variable features found for RNA\n",
      "\n",
      "No feature-level metadata found for RNA\n",
      "\n",
      "Adding counts for SCT\n",
      "\n",
      "Adding data for SCT\n",
      "\n",
      "Adding scale.data for SCT\n",
      "\n",
      "No variable features found for SCT\n",
      "\n",
      "No feature-level metadata found for SCT\n",
      "\n",
      "Writing out SCTModel.list for SCT\n",
      "\n",
      "Adding data for integrated\n",
      "\n",
      "Adding scale.data for integrated\n",
      "\n",
      "Adding variable features for integrated\n",
      "\n",
      "No feature-level metadata found for integrated\n",
      "\n",
      "Writing out SCTModel.list for integrated\n",
      "\n",
      "Adding cell embeddings for pca\n",
      "\n",
      "Adding loadings for pca\n",
      "\n",
      "No projected loadings for pca\n",
      "\n",
      "Adding standard deviations for pca\n",
      "\n",
      "No JackStraw data for pca\n",
      "\n",
      "Adding cell embeddings for umap\n",
      "\n",
      "No loadings for umap\n",
      "\n",
      "No projected loadings for umap\n",
      "\n",
      "No standard deviations for umap\n",
      "\n",
      "No JackStraw data for umap\n",
      "\n",
      "Validating h5Seurat file\n",
      "\n",
      "Adding scale.data from integrated as X\n",
      "\n",
      "Adding data from integrated as raw\n",
      "\n",
      "Transfering meta.data to obs\n",
      "\n",
      "Adding dimensional reduction information for pca\n",
      "\n",
      "Adding feature loadings for pca\n",
      "\n",
      "Adding dimensional reduction information for umap\n",
      "\n",
      "Adding integrated_snn as neighbors\n",
      "\n",
      "Adding scale.data from SCT as a layer\n",
      "\n"
     ]
    }
   ],
   "source": [
    "obj = readRDS('../data/single_cell/original/integrated_subset_malignant.rds')\n",
    "saveH5ad(obj, '../data/single_cell/original/integrated_subset_malignant.h5seurat')"
   ]
  },
  {
   "cell_type": "code",
   "execution_count": 8,
   "id": "4fbee955",
   "metadata": {
    "scrolled": true
   },
   "outputs": [
    {
     "name": "stderr",
     "output_type": "stream",
     "text": [
      "Warning message in saveH5ad(obj, \"../data/single_cell/original/integrated_subset_nkt.h5seurat\"):\n",
      "“NAs introduced by coercion”\n",
      "Warning message in saveH5ad(obj, \"../data/single_cell/original/integrated_subset_nkt.h5seurat\"):\n",
      "“NAs introduced by coercion”\n",
      "Warning message in saveH5ad(obj, \"../data/single_cell/original/integrated_subset_nkt.h5seurat\"):\n",
      "“NAs introduced by coercion”\n",
      "Warning message in saveH5ad(obj, \"../data/single_cell/original/integrated_subset_nkt.h5seurat\"):\n",
      "“NAs introduced by coercion”\n",
      "Warning message in saveH5ad(obj, \"../data/single_cell/original/integrated_subset_nkt.h5seurat\"):\n",
      "“NAs introduced by coercion”\n",
      "Warning message in saveH5ad(obj, \"../data/single_cell/original/integrated_subset_nkt.h5seurat\"):\n",
      "“NAs introduced by coercion”\n",
      "Warning message in saveH5ad(obj, \"../data/single_cell/original/integrated_subset_nkt.h5seurat\"):\n",
      "“NAs introduced by coercion”\n",
      "Warning message in saveH5ad(obj, \"../data/single_cell/original/integrated_subset_nkt.h5seurat\"):\n",
      "“NAs introduced by coercion”\n",
      "Warning message in saveH5ad(obj, \"../data/single_cell/original/integrated_subset_nkt.h5seurat\"):\n",
      "“NAs introduced by coercion”\n",
      "Warning message in saveH5ad(obj, \"../data/single_cell/original/integrated_subset_nkt.h5seurat\"):\n",
      "“NAs introduced by coercion”\n",
      "Warning message in saveH5ad(obj, \"../data/single_cell/original/integrated_subset_nkt.h5seurat\"):\n",
      "“NAs introduced by coercion”\n",
      "Warning message in saveH5ad(obj, \"../data/single_cell/original/integrated_subset_nkt.h5seurat\"):\n",
      "“NAs introduced by coercion”\n",
      "Warning message in saveH5ad(obj, \"../data/single_cell/original/integrated_subset_nkt.h5seurat\"):\n",
      "“NAs introduced by coercion”\n",
      "Warning message in saveH5ad(obj, \"../data/single_cell/original/integrated_subset_nkt.h5seurat\"):\n",
      "“NAs introduced by coercion”\n",
      "Warning message in saveH5ad(obj, \"../data/single_cell/original/integrated_subset_nkt.h5seurat\"):\n",
      "“NAs introduced by coercion”\n",
      "Warning message in saveH5ad(obj, \"../data/single_cell/original/integrated_subset_nkt.h5seurat\"):\n",
      "“NAs introduced by coercion”\n",
      "Warning message:\n",
      "“Overwriting previous file ../data/single_cell/original/integrated_subset_nkt.h5seurat”\n",
      "Creating h5Seurat file for version 3.1.5.9900\n",
      "\n",
      "Adding counts for RNA\n",
      "\n",
      "Adding data for RNA\n",
      "\n",
      "No variable features found for RNA\n",
      "\n",
      "No feature-level metadata found for RNA\n",
      "\n",
      "Adding counts for SCT\n",
      "\n",
      "Adding data for SCT\n",
      "\n",
      "Adding scale.data for SCT\n",
      "\n",
      "No variable features found for SCT\n",
      "\n",
      "No feature-level metadata found for SCT\n",
      "\n",
      "Writing out SCTModel.list for SCT\n",
      "\n",
      "Adding data for integrated\n",
      "\n",
      "Adding scale.data for integrated\n",
      "\n",
      "Adding variable features for integrated\n",
      "\n",
      "No feature-level metadata found for integrated\n",
      "\n",
      "Writing out SCTModel.list for integrated\n",
      "\n",
      "Adding cell embeddings for pca\n",
      "\n",
      "Adding loadings for pca\n",
      "\n",
      "No projected loadings for pca\n",
      "\n",
      "Adding standard deviations for pca\n",
      "\n",
      "No JackStraw data for pca\n",
      "\n",
      "Adding cell embeddings for umap\n",
      "\n",
      "No loadings for umap\n",
      "\n",
      "No projected loadings for umap\n",
      "\n",
      "No standard deviations for umap\n",
      "\n",
      "No JackStraw data for umap\n",
      "\n",
      "Validating h5Seurat file\n",
      "\n",
      "Adding scale.data from integrated as X\n",
      "\n",
      "Adding data from integrated as raw\n",
      "\n",
      "Transfering meta.data to obs\n",
      "\n",
      "Adding dimensional reduction information for pca\n",
      "\n",
      "Adding feature loadings for pca\n",
      "\n",
      "Adding dimensional reduction information for umap\n",
      "\n",
      "Adding integrated_snn as neighbors\n",
      "\n",
      "Adding scale.data from SCT as a layer\n",
      "\n"
     ]
    }
   ],
   "source": [
    "obj = readRDS('../data/single_cell/original/integrated_subset_nkt.rds')\n",
    "saveH5ad(obj, '../data/single_cell/original/integrated_subset_nkt.h5seurat')"
   ]
  },
  {
   "cell_type": "code",
   "execution_count": 9,
   "id": "4218bb5f",
   "metadata": {
    "scrolled": true
   },
   "outputs": [
    {
     "name": "stderr",
     "output_type": "stream",
     "text": [
      "Warning message in saveH5ad(obj, \"../data/single_cell/original/integrated_subset_monodc.h5seurat\"):\n",
      "“NAs introduced by coercion”\n",
      "Warning message in saveH5ad(obj, \"../data/single_cell/original/integrated_subset_monodc.h5seurat\"):\n",
      "“NAs introduced by coercion”\n",
      "Warning message in saveH5ad(obj, \"../data/single_cell/original/integrated_subset_monodc.h5seurat\"):\n",
      "“NAs introduced by coercion”\n",
      "Warning message in saveH5ad(obj, \"../data/single_cell/original/integrated_subset_monodc.h5seurat\"):\n",
      "“NAs introduced by coercion”\n",
      "Warning message in saveH5ad(obj, \"../data/single_cell/original/integrated_subset_monodc.h5seurat\"):\n",
      "“NAs introduced by coercion”\n",
      "Warning message in saveH5ad(obj, \"../data/single_cell/original/integrated_subset_monodc.h5seurat\"):\n",
      "“NAs introduced by coercion”\n",
      "Warning message in saveH5ad(obj, \"../data/single_cell/original/integrated_subset_monodc.h5seurat\"):\n",
      "“NAs introduced by coercion”\n",
      "Warning message in saveH5ad(obj, \"../data/single_cell/original/integrated_subset_monodc.h5seurat\"):\n",
      "“NAs introduced by coercion”\n",
      "Warning message in saveH5ad(obj, \"../data/single_cell/original/integrated_subset_monodc.h5seurat\"):\n",
      "“NAs introduced by coercion”\n",
      "Warning message in saveH5ad(obj, \"../data/single_cell/original/integrated_subset_monodc.h5seurat\"):\n",
      "“NAs introduced by coercion”\n",
      "Warning message in saveH5ad(obj, \"../data/single_cell/original/integrated_subset_monodc.h5seurat\"):\n",
      "“NAs introduced by coercion”\n",
      "Warning message in saveH5ad(obj, \"../data/single_cell/original/integrated_subset_monodc.h5seurat\"):\n",
      "“NAs introduced by coercion”\n",
      "Warning message in saveH5ad(obj, \"../data/single_cell/original/integrated_subset_monodc.h5seurat\"):\n",
      "“NAs introduced by coercion”\n",
      "Warning message in saveH5ad(obj, \"../data/single_cell/original/integrated_subset_monodc.h5seurat\"):\n",
      "“NAs introduced by coercion”\n",
      "Warning message in saveH5ad(obj, \"../data/single_cell/original/integrated_subset_monodc.h5seurat\"):\n",
      "“NAs introduced by coercion”\n",
      "Warning message in saveH5ad(obj, \"../data/single_cell/original/integrated_subset_monodc.h5seurat\"):\n",
      "“NAs introduced by coercion”\n",
      "Warning message:\n",
      "“Overwriting previous file ../data/single_cell/original/integrated_subset_monodc.h5seurat”\n",
      "Creating h5Seurat file for version 3.1.5.9900\n",
      "\n",
      "Adding counts for RNA\n",
      "\n",
      "Adding data for RNA\n",
      "\n",
      "No variable features found for RNA\n",
      "\n",
      "No feature-level metadata found for RNA\n",
      "\n",
      "Adding counts for SCT\n",
      "\n",
      "Adding data for SCT\n",
      "\n",
      "Adding scale.data for SCT\n",
      "\n",
      "No variable features found for SCT\n",
      "\n",
      "No feature-level metadata found for SCT\n",
      "\n",
      "Writing out SCTModel.list for SCT\n",
      "\n",
      "Adding data for integrated\n",
      "\n",
      "Adding scale.data for integrated\n",
      "\n",
      "Adding variable features for integrated\n",
      "\n",
      "No feature-level metadata found for integrated\n",
      "\n",
      "Writing out SCTModel.list for integrated\n",
      "\n",
      "Adding cell embeddings for pca\n",
      "\n",
      "Adding loadings for pca\n",
      "\n",
      "No projected loadings for pca\n",
      "\n",
      "Adding standard deviations for pca\n",
      "\n",
      "No JackStraw data for pca\n",
      "\n",
      "Adding cell embeddings for umap\n",
      "\n",
      "No loadings for umap\n",
      "\n",
      "No projected loadings for umap\n",
      "\n",
      "No standard deviations for umap\n",
      "\n",
      "No JackStraw data for umap\n",
      "\n",
      "Validating h5Seurat file\n",
      "\n",
      "Adding scale.data from integrated as X\n",
      "\n",
      "Adding data from integrated as raw\n",
      "\n",
      "Transfering meta.data to obs\n",
      "\n",
      "Adding dimensional reduction information for pca\n",
      "\n",
      "Adding feature loadings for pca\n",
      "\n",
      "Adding dimensional reduction information for umap\n",
      "\n",
      "Adding integrated_snn as neighbors\n",
      "\n",
      "Adding scale.data from SCT as a layer\n",
      "\n"
     ]
    }
   ],
   "source": [
    "obj = readRDS('../data/single_cell/original/integrated_subset_monodc.rds')\n",
    "saveH5ad(obj, '../data/single_cell/original/integrated_subset_monodc.h5seurat')"
   ]
  },
  {
   "cell_type": "code",
   "execution_count": 10,
   "id": "d661d7bb",
   "metadata": {
    "scrolled": true
   },
   "outputs": [
    {
     "name": "stderr",
     "output_type": "stream",
     "text": [
      "Warning message in saveH5ad(obj, \"../data/single_cell/original/integrated_subset_fibroblast.h5seurat\"):\n",
      "“NAs introduced by coercion”\n",
      "Warning message in saveH5ad(obj, \"../data/single_cell/original/integrated_subset_fibroblast.h5seurat\"):\n",
      "“NAs introduced by coercion”\n",
      "Warning message in saveH5ad(obj, \"../data/single_cell/original/integrated_subset_fibroblast.h5seurat\"):\n",
      "“NAs introduced by coercion”\n",
      "Warning message in saveH5ad(obj, \"../data/single_cell/original/integrated_subset_fibroblast.h5seurat\"):\n",
      "“NAs introduced by coercion”\n",
      "Warning message in saveH5ad(obj, \"../data/single_cell/original/integrated_subset_fibroblast.h5seurat\"):\n",
      "“NAs introduced by coercion”\n",
      "Warning message in saveH5ad(obj, \"../data/single_cell/original/integrated_subset_fibroblast.h5seurat\"):\n",
      "“NAs introduced by coercion”\n",
      "Warning message in saveH5ad(obj, \"../data/single_cell/original/integrated_subset_fibroblast.h5seurat\"):\n",
      "“NAs introduced by coercion”\n",
      "Warning message in saveH5ad(obj, \"../data/single_cell/original/integrated_subset_fibroblast.h5seurat\"):\n",
      "“NAs introduced by coercion”\n",
      "Warning message in saveH5ad(obj, \"../data/single_cell/original/integrated_subset_fibroblast.h5seurat\"):\n",
      "“NAs introduced by coercion”\n",
      "Warning message in saveH5ad(obj, \"../data/single_cell/original/integrated_subset_fibroblast.h5seurat\"):\n",
      "“NAs introduced by coercion”\n",
      "Warning message in saveH5ad(obj, \"../data/single_cell/original/integrated_subset_fibroblast.h5seurat\"):\n",
      "“NAs introduced by coercion”\n",
      "Warning message in saveH5ad(obj, \"../data/single_cell/original/integrated_subset_fibroblast.h5seurat\"):\n",
      "“NAs introduced by coercion”\n",
      "Warning message in saveH5ad(obj, \"../data/single_cell/original/integrated_subset_fibroblast.h5seurat\"):\n",
      "“NAs introduced by coercion”\n",
      "Warning message in saveH5ad(obj, \"../data/single_cell/original/integrated_subset_fibroblast.h5seurat\"):\n",
      "“NAs introduced by coercion”\n",
      "Warning message in saveH5ad(obj, \"../data/single_cell/original/integrated_subset_fibroblast.h5seurat\"):\n",
      "“NAs introduced by coercion”\n",
      "Warning message in saveH5ad(obj, \"../data/single_cell/original/integrated_subset_fibroblast.h5seurat\"):\n",
      "“NAs introduced by coercion”\n",
      "Warning message:\n",
      "“Overwriting previous file ../data/single_cell/original/integrated_subset_fibroblast.h5seurat”\n",
      "Creating h5Seurat file for version 3.1.5.9900\n",
      "\n",
      "Adding counts for RNA\n",
      "\n",
      "Adding data for RNA\n",
      "\n",
      "No variable features found for RNA\n",
      "\n",
      "No feature-level metadata found for RNA\n",
      "\n",
      "Adding counts for SCT\n",
      "\n",
      "Adding data for SCT\n",
      "\n",
      "Adding scale.data for SCT\n",
      "\n",
      "No variable features found for SCT\n",
      "\n",
      "No feature-level metadata found for SCT\n",
      "\n",
      "Writing out SCTModel.list for SCT\n",
      "\n",
      "Adding data for integrated\n",
      "\n",
      "Adding scale.data for integrated\n",
      "\n",
      "Adding variable features for integrated\n",
      "\n",
      "No feature-level metadata found for integrated\n",
      "\n",
      "Writing out SCTModel.list for integrated\n",
      "\n",
      "Adding cell embeddings for pca\n",
      "\n",
      "Adding loadings for pca\n",
      "\n",
      "No projected loadings for pca\n",
      "\n",
      "Adding standard deviations for pca\n",
      "\n",
      "No JackStraw data for pca\n",
      "\n",
      "Adding cell embeddings for umap\n",
      "\n",
      "No loadings for umap\n",
      "\n",
      "No projected loadings for umap\n",
      "\n",
      "No standard deviations for umap\n",
      "\n",
      "No JackStraw data for umap\n",
      "\n",
      "Validating h5Seurat file\n",
      "\n",
      "Adding scale.data from integrated as X\n",
      "\n",
      "Adding data from integrated as raw\n",
      "\n",
      "Transfering meta.data to obs\n",
      "\n",
      "Adding dimensional reduction information for pca\n",
      "\n",
      "Adding feature loadings for pca\n",
      "\n",
      "Adding dimensional reduction information for umap\n",
      "\n",
      "Adding integrated_snn as neighbors\n",
      "\n",
      "Adding scale.data from SCT as a layer\n",
      "\n"
     ]
    }
   ],
   "source": [
    "obj = readRDS('../data/single_cell/original/integrated_subset_fibroblast.rds')\n",
    "saveH5ad(obj, '../data/single_cell/original/integrated_subset_fibroblast.h5seurat')"
   ]
  },
  {
   "cell_type": "code",
   "execution_count": 11,
   "id": "fcc97e58",
   "metadata": {
    "scrolled": true
   },
   "outputs": [
    {
     "name": "stderr",
     "output_type": "stream",
     "text": [
      "Warning message in saveH5ad(obj, \"../data/single_cell/original/integrated_subset_endothelial.h5seurat\"):\n",
      "“NAs introduced by coercion”\n",
      "Warning message in saveH5ad(obj, \"../data/single_cell/original/integrated_subset_endothelial.h5seurat\"):\n",
      "“NAs introduced by coercion”\n",
      "Warning message in saveH5ad(obj, \"../data/single_cell/original/integrated_subset_endothelial.h5seurat\"):\n",
      "“NAs introduced by coercion”\n",
      "Warning message in saveH5ad(obj, \"../data/single_cell/original/integrated_subset_endothelial.h5seurat\"):\n",
      "“NAs introduced by coercion”\n",
      "Warning message in saveH5ad(obj, \"../data/single_cell/original/integrated_subset_endothelial.h5seurat\"):\n",
      "“NAs introduced by coercion”\n",
      "Warning message in saveH5ad(obj, \"../data/single_cell/original/integrated_subset_endothelial.h5seurat\"):\n",
      "“NAs introduced by coercion”\n",
      "Warning message in saveH5ad(obj, \"../data/single_cell/original/integrated_subset_endothelial.h5seurat\"):\n",
      "“NAs introduced by coercion”\n",
      "Warning message in saveH5ad(obj, \"../data/single_cell/original/integrated_subset_endothelial.h5seurat\"):\n",
      "“NAs introduced by coercion”\n",
      "Warning message in saveH5ad(obj, \"../data/single_cell/original/integrated_subset_endothelial.h5seurat\"):\n",
      "“NAs introduced by coercion”\n",
      "Warning message in saveH5ad(obj, \"../data/single_cell/original/integrated_subset_endothelial.h5seurat\"):\n",
      "“NAs introduced by coercion”\n",
      "Warning message in saveH5ad(obj, \"../data/single_cell/original/integrated_subset_endothelial.h5seurat\"):\n",
      "“NAs introduced by coercion”\n",
      "Warning message in saveH5ad(obj, \"../data/single_cell/original/integrated_subset_endothelial.h5seurat\"):\n",
      "“NAs introduced by coercion”\n",
      "Warning message in saveH5ad(obj, \"../data/single_cell/original/integrated_subset_endothelial.h5seurat\"):\n",
      "“NAs introduced by coercion”\n",
      "Warning message in saveH5ad(obj, \"../data/single_cell/original/integrated_subset_endothelial.h5seurat\"):\n",
      "“NAs introduced by coercion”\n",
      "Warning message in saveH5ad(obj, \"../data/single_cell/original/integrated_subset_endothelial.h5seurat\"):\n",
      "“NAs introduced by coercion”\n",
      "Warning message in saveH5ad(obj, \"../data/single_cell/original/integrated_subset_endothelial.h5seurat\"):\n",
      "“NAs introduced by coercion”\n",
      "Creating h5Seurat file for version 3.1.5.9900\n",
      "\n",
      "Adding counts for RNA\n",
      "\n",
      "Adding data for RNA\n",
      "\n",
      "No variable features found for RNA\n",
      "\n",
      "No feature-level metadata found for RNA\n",
      "\n",
      "Adding counts for SCT\n",
      "\n",
      "Adding data for SCT\n",
      "\n",
      "Adding scale.data for SCT\n",
      "\n",
      "No variable features found for SCT\n",
      "\n",
      "No feature-level metadata found for SCT\n",
      "\n",
      "Writing out SCTModel.list for SCT\n",
      "\n",
      "Adding data for integrated\n",
      "\n",
      "Adding scale.data for integrated\n",
      "\n",
      "Adding variable features for integrated\n",
      "\n",
      "No feature-level metadata found for integrated\n",
      "\n",
      "Writing out SCTModel.list for integrated\n",
      "\n",
      "Adding cell embeddings for pca\n",
      "\n",
      "Adding loadings for pca\n",
      "\n",
      "No projected loadings for pca\n",
      "\n",
      "Adding standard deviations for pca\n",
      "\n",
      "No JackStraw data for pca\n",
      "\n",
      "Adding cell embeddings for umap\n",
      "\n",
      "No loadings for umap\n",
      "\n",
      "No projected loadings for umap\n",
      "\n",
      "No standard deviations for umap\n",
      "\n",
      "No JackStraw data for umap\n",
      "\n",
      "Validating h5Seurat file\n",
      "\n",
      "Adding scale.data from integrated as X\n",
      "\n",
      "Adding data from integrated as raw\n",
      "\n",
      "Transfering meta.data to obs\n",
      "\n",
      "Adding dimensional reduction information for pca\n",
      "\n",
      "Adding feature loadings for pca\n",
      "\n",
      "Adding dimensional reduction information for umap\n",
      "\n",
      "Adding integrated_snn as neighbors\n",
      "\n",
      "Adding scale.data from SCT as a layer\n",
      "\n"
     ]
    }
   ],
   "source": [
    "obj = readRDS('../data/single_cell/original/integrated_subset_endothelial.rds')\n",
    "saveH5ad(obj, '../data/single_cell/original/integrated_subset_endothelial.h5seurat')"
   ]
  },
  {
   "cell_type": "code",
   "execution_count": 12,
   "id": "8b1cde9f",
   "metadata": {
    "scrolled": true
   },
   "outputs": [
    {
     "name": "stderr",
     "output_type": "stream",
     "text": [
      "Warning message in saveH5ad(obj, \"../data/single_cell/original/integrated_subset_mixed.h5seurat\"):\n",
      "“NAs introduced by coercion”\n",
      "Warning message in saveH5ad(obj, \"../data/single_cell/original/integrated_subset_mixed.h5seurat\"):\n",
      "“NAs introduced by coercion”\n",
      "Warning message in saveH5ad(obj, \"../data/single_cell/original/integrated_subset_mixed.h5seurat\"):\n",
      "“NAs introduced by coercion”\n",
      "Warning message in saveH5ad(obj, \"../data/single_cell/original/integrated_subset_mixed.h5seurat\"):\n",
      "“NAs introduced by coercion”\n",
      "Warning message in saveH5ad(obj, \"../data/single_cell/original/integrated_subset_mixed.h5seurat\"):\n",
      "“NAs introduced by coercion”\n",
      "Warning message in saveH5ad(obj, \"../data/single_cell/original/integrated_subset_mixed.h5seurat\"):\n",
      "“NAs introduced by coercion”\n",
      "Warning message in saveH5ad(obj, \"../data/single_cell/original/integrated_subset_mixed.h5seurat\"):\n",
      "“NAs introduced by coercion”\n",
      "Warning message in saveH5ad(obj, \"../data/single_cell/original/integrated_subset_mixed.h5seurat\"):\n",
      "“NAs introduced by coercion”\n",
      "Warning message in saveH5ad(obj, \"../data/single_cell/original/integrated_subset_mixed.h5seurat\"):\n",
      "“NAs introduced by coercion”\n",
      "Warning message in saveH5ad(obj, \"../data/single_cell/original/integrated_subset_mixed.h5seurat\"):\n",
      "“NAs introduced by coercion”\n",
      "Warning message in saveH5ad(obj, \"../data/single_cell/original/integrated_subset_mixed.h5seurat\"):\n",
      "“NAs introduced by coercion”\n",
      "Warning message in saveH5ad(obj, \"../data/single_cell/original/integrated_subset_mixed.h5seurat\"):\n",
      "“NAs introduced by coercion”\n",
      "Warning message in saveH5ad(obj, \"../data/single_cell/original/integrated_subset_mixed.h5seurat\"):\n",
      "“NAs introduced by coercion”\n",
      "Warning message in saveH5ad(obj, \"../data/single_cell/original/integrated_subset_mixed.h5seurat\"):\n",
      "“NAs introduced by coercion”\n",
      "Warning message in saveH5ad(obj, \"../data/single_cell/original/integrated_subset_mixed.h5seurat\"):\n",
      "“NAs introduced by coercion”\n",
      "Warning message in saveH5ad(obj, \"../data/single_cell/original/integrated_subset_mixed.h5seurat\"):\n",
      "“NAs introduced by coercion”\n",
      "Creating h5Seurat file for version 3.1.5.9900\n",
      "\n",
      "Adding counts for RNA\n",
      "\n",
      "Adding data for RNA\n",
      "\n",
      "No variable features found for RNA\n",
      "\n",
      "No feature-level metadata found for RNA\n",
      "\n",
      "Adding counts for SCT\n",
      "\n",
      "Adding data for SCT\n",
      "\n",
      "Adding scale.data for SCT\n",
      "\n",
      "No variable features found for SCT\n",
      "\n",
      "No feature-level metadata found for SCT\n",
      "\n",
      "Writing out SCTModel.list for SCT\n",
      "\n",
      "Adding data for integrated\n",
      "\n",
      "Adding scale.data for integrated\n",
      "\n",
      "Adding variable features for integrated\n",
      "\n",
      "No feature-level metadata found for integrated\n",
      "\n",
      "Writing out SCTModel.list for integrated\n",
      "\n",
      "Adding cell embeddings for pca\n",
      "\n",
      "Adding loadings for pca\n",
      "\n",
      "No projected loadings for pca\n",
      "\n",
      "Adding standard deviations for pca\n",
      "\n",
      "No JackStraw data for pca\n",
      "\n",
      "Adding cell embeddings for umap\n",
      "\n",
      "No loadings for umap\n",
      "\n",
      "No projected loadings for umap\n",
      "\n",
      "No standard deviations for umap\n",
      "\n",
      "No JackStraw data for umap\n",
      "\n",
      "Validating h5Seurat file\n",
      "\n",
      "Adding scale.data from integrated as X\n",
      "\n",
      "Adding data from integrated as raw\n",
      "\n",
      "Transfering meta.data to obs\n",
      "\n",
      "Adding dimensional reduction information for pca\n",
      "\n",
      "Adding feature loadings for pca\n",
      "\n",
      "Adding dimensional reduction information for umap\n",
      "\n",
      "Adding integrated_snn as neighbors\n",
      "\n",
      "Adding scale.data from SCT as a layer\n",
      "\n"
     ]
    }
   ],
   "source": [
    "obj = readRDS('../data/single_cell/original/integrated_subset_mixed.rds')\n",
    "saveH5ad(obj, '../data/single_cell/original/integrated_subset_mixed.h5seurat')"
   ]
  },
  {
   "cell_type": "code",
   "execution_count": 13,
   "id": "ed3481fd",
   "metadata": {},
   "outputs": [
    {
     "name": "stderr",
     "output_type": "stream",
     "text": [
      "Warning message in saveH5ad(obj, \"../data/single_cell/original/integrated_subset_malignant_redo.h5seurat\"):\n",
      "“NAs introduced by coercion”\n",
      "Warning message in saveH5ad(obj, \"../data/single_cell/original/integrated_subset_malignant_redo.h5seurat\"):\n",
      "“NAs introduced by coercion”\n",
      "Warning message in saveH5ad(obj, \"../data/single_cell/original/integrated_subset_malignant_redo.h5seurat\"):\n",
      "“NAs introduced by coercion”\n",
      "Warning message in saveH5ad(obj, \"../data/single_cell/original/integrated_subset_malignant_redo.h5seurat\"):\n",
      "“NAs introduced by coercion”\n",
      "Warning message in saveH5ad(obj, \"../data/single_cell/original/integrated_subset_malignant_redo.h5seurat\"):\n",
      "“NAs introduced by coercion”\n",
      "Warning message in saveH5ad(obj, \"../data/single_cell/original/integrated_subset_malignant_redo.h5seurat\"):\n",
      "“NAs introduced by coercion”\n",
      "Warning message in saveH5ad(obj, \"../data/single_cell/original/integrated_subset_malignant_redo.h5seurat\"):\n",
      "“NAs introduced by coercion”\n",
      "Warning message in saveH5ad(obj, \"../data/single_cell/original/integrated_subset_malignant_redo.h5seurat\"):\n",
      "“NAs introduced by coercion”\n",
      "Warning message in saveH5ad(obj, \"../data/single_cell/original/integrated_subset_malignant_redo.h5seurat\"):\n",
      "“NAs introduced by coercion”\n",
      "Warning message in saveH5ad(obj, \"../data/single_cell/original/integrated_subset_malignant_redo.h5seurat\"):\n",
      "“NAs introduced by coercion”\n",
      "Warning message in saveH5ad(obj, \"../data/single_cell/original/integrated_subset_malignant_redo.h5seurat\"):\n",
      "“NAs introduced by coercion”\n",
      "Warning message in saveH5ad(obj, \"../data/single_cell/original/integrated_subset_malignant_redo.h5seurat\"):\n",
      "“NAs introduced by coercion”\n",
      "Warning message in saveH5ad(obj, \"../data/single_cell/original/integrated_subset_malignant_redo.h5seurat\"):\n",
      "“NAs introduced by coercion”\n",
      "Warning message in saveH5ad(obj, \"../data/single_cell/original/integrated_subset_malignant_redo.h5seurat\"):\n",
      "“NAs introduced by coercion”\n",
      "Warning message in saveH5ad(obj, \"../data/single_cell/original/integrated_subset_malignant_redo.h5seurat\"):\n",
      "“NAs introduced by coercion”\n",
      "Warning message in saveH5ad(obj, \"../data/single_cell/original/integrated_subset_malignant_redo.h5seurat\"):\n",
      "“NAs introduced by coercion”\n",
      "Creating h5Seurat file for version 3.1.5.9900\n",
      "\n",
      "Adding counts for RNA\n",
      "\n",
      "Adding data for RNA\n",
      "\n",
      "No variable features found for RNA\n",
      "\n",
      "No feature-level metadata found for RNA\n",
      "\n",
      "Adding counts for SCT\n",
      "\n",
      "Adding data for SCT\n",
      "\n",
      "Adding scale.data for SCT\n",
      "\n",
      "No variable features found for SCT\n",
      "\n",
      "No feature-level metadata found for SCT\n",
      "\n",
      "Writing out SCTModel.list for SCT\n",
      "\n",
      "Adding data for integrated\n",
      "\n",
      "Adding scale.data for integrated\n",
      "\n",
      "Adding variable features for integrated\n",
      "\n",
      "No feature-level metadata found for integrated\n",
      "\n",
      "Writing out SCTModel.list for integrated\n",
      "\n",
      "Adding cell embeddings for pca\n",
      "\n",
      "Adding loadings for pca\n",
      "\n",
      "No projected loadings for pca\n",
      "\n",
      "Adding standard deviations for pca\n",
      "\n",
      "No JackStraw data for pca\n",
      "\n",
      "Adding cell embeddings for umap\n",
      "\n",
      "No loadings for umap\n",
      "\n",
      "No projected loadings for umap\n",
      "\n",
      "No standard deviations for umap\n",
      "\n",
      "No JackStraw data for umap\n",
      "\n",
      "Validating h5Seurat file\n",
      "\n",
      "Adding scale.data from integrated as X\n",
      "\n",
      "Adding data from integrated as raw\n",
      "\n",
      "Transfering meta.data to obs\n",
      "\n",
      "Adding dimensional reduction information for pca\n",
      "\n",
      "Adding feature loadings for pca\n",
      "\n",
      "Adding dimensional reduction information for umap\n",
      "\n",
      "Adding integrated_snn as neighbors\n",
      "\n",
      "Adding scale.data from SCT as a layer\n",
      "\n"
     ]
    }
   ],
   "source": [
    "obj = readRDS('../data/single_cell/original/integrated_subset_malignant_redo.rds')\n",
    "saveH5ad(obj, '../data/single_cell/original/integrated_subset_malignant_redo.h5seurat')"
   ]
  },
  {
   "cell_type": "code",
   "execution_count": 3,
   "id": "23accbca",
   "metadata": {
    "scrolled": true
   },
   "outputs": [
    {
     "name": "stderr",
     "output_type": "stream",
     "text": [
      "Warning message in saveH5ad(obj, \"../data/single_cell/original/combined.rds.h5seurat\"):\n",
      "“NAs introduced by coercion”\n",
      "Warning message in saveH5ad(obj, \"../data/single_cell/original/combined.rds.h5seurat\"):\n",
      "“NAs introduced by coercion”\n",
      "Warning message in saveH5ad(obj, \"../data/single_cell/original/combined.rds.h5seurat\"):\n",
      "“NAs introduced by coercion”\n",
      "Warning message in saveH5ad(obj, \"../data/single_cell/original/combined.rds.h5seurat\"):\n",
      "“NAs introduced by coercion”\n",
      "Warning message in saveH5ad(obj, \"../data/single_cell/original/combined.rds.h5seurat\"):\n",
      "“NAs introduced by coercion”\n",
      "Warning message in saveH5ad(obj, \"../data/single_cell/original/combined.rds.h5seurat\"):\n",
      "“NAs introduced by coercion”\n",
      "Warning message in saveH5ad(obj, \"../data/single_cell/original/combined.rds.h5seurat\"):\n",
      "“NAs introduced by coercion”\n",
      "Warning message in saveH5ad(obj, \"../data/single_cell/original/combined.rds.h5seurat\"):\n",
      "“NAs introduced by coercion”\n",
      "Warning message in saveH5ad(obj, \"../data/single_cell/original/combined.rds.h5seurat\"):\n",
      "“NAs introduced by coercion”\n",
      "Creating h5Seurat file for version 3.1.5.9900\n",
      "\n",
      "Adding counts for RNA\n",
      "\n",
      "Adding data for RNA\n",
      "\n",
      "No variable features found for RNA\n",
      "\n",
      "No feature-level metadata found for RNA\n",
      "\n",
      "Validating h5Seurat file\n",
      "\n",
      "Adding data from RNA as X\n",
      "\n",
      "Adding counts from RNA as raw\n",
      "\n",
      "Transfering meta.data to obs\n",
      "\n"
     ]
    }
   ],
   "source": [
    "obj = readRDS('../data/single_cell/original/combined.rds')\n",
    "saveH5ad(obj, '../data/single_cell/original/combined.h5seurat')"
   ]
  },
  {
   "cell_type": "code",
   "execution_count": null,
   "id": "9cff7e58",
   "metadata": {},
   "outputs": [],
   "source": []
  },
  {
   "cell_type": "code",
   "execution_count": null,
   "id": "5b6091f7",
   "metadata": {},
   "outputs": [],
   "source": []
  },
  {
   "cell_type": "code",
   "execution_count": null,
   "id": "8565269a",
   "metadata": {},
   "outputs": [],
   "source": []
  },
  {
   "cell_type": "code",
   "execution_count": null,
   "id": "c3b9898e",
   "metadata": {},
   "outputs": [],
   "source": []
  },
  {
   "cell_type": "code",
   "execution_count": 14,
   "id": "c126381b",
   "metadata": {
    "scrolled": true
   },
   "outputs": [
    {
     "name": "stderr",
     "output_type": "stream",
     "text": [
      "Warning message:\n",
      "“Unknown file type: h5ad”\n",
      "Warning message:\n",
      "“'assay' not set, setting to 'RNA'”\n",
      "Creating h5Seurat file for version 3.1.5.9900\n",
      "\n",
      "Adding X as data\n",
      "\n",
      "Adding X as counts\n",
      "\n",
      "Adding meta.features from var\n",
      "\n"
     ]
    }
   ],
   "source": [
    "Convert(\"../data/single_cell/original/count_matrix/counts.h5ad\", dest = \"h5seurat\", overwrite = TRUE)"
   ]
  },
  {
   "cell_type": "code",
   "execution_count": 15,
   "id": "a0dccfa4",
   "metadata": {},
   "outputs": [
    {
     "name": "stderr",
     "output_type": "stream",
     "text": [
      "Validating h5Seurat file\n",
      "\n",
      "Warning message:\n",
      "“Feature names cannot have underscores ('_'), replacing with dashes ('-')”\n",
      "Initializing RNA with data\n",
      "\n",
      "Adding counts for RNA\n",
      "\n",
      "Adding feature-level metadata for RNA\n",
      "\n",
      "Adding command information\n",
      "\n",
      "Adding tool-specific results\n",
      "\n"
     ]
    },
    {
     "data": {
      "text/plain": [
       "An object of class Seurat \n",
       "34985 features across 554515 samples within 1 assay \n",
       "Active assay: RNA (34985 features, 0 variable features)"
      ]
     },
     "metadata": {},
     "output_type": "display_data"
    }
   ],
   "source": [
    "obj <- LoadH5Seurat(\"../data/single_cell/original/count_matrix/counts.h5seurat\", meta.data = FALSE, misc = FALSE)\n",
    "obj"
   ]
  },
  {
   "cell_type": "code",
   "execution_count": 16,
   "id": "bbe658f4",
   "metadata": {},
   "outputs": [
    {
     "data": {
      "text/html": [
       "<table class=\"dataframe\">\n",
       "<caption>A data.frame: 6 × 3</caption>\n",
       "<thead>\n",
       "\t<tr><th></th><th scope=col>sample_id</th><th scope=col>dataset</th><th scope=col>tissue_type</th></tr>\n",
       "\t<tr><th></th><th scope=col>&lt;chr&gt;</th><th scope=col>&lt;chr&gt;</th><th scope=col>&lt;chr&gt;</th></tr>\n",
       "</thead>\n",
       "<tbody>\n",
       "\t<tr><th scope=row>htan01_AAACCTGAGACCTAGG-1</th><td>htan01</td><td>htan_surgical</td><td>tumor_primary</td></tr>\n",
       "\t<tr><th scope=row>htan01_AAACCTGAGCAGCCTC-1</th><td>htan01</td><td>htan_surgical</td><td>tumor_primary</td></tr>\n",
       "\t<tr><th scope=row>htan01_AAACCTGAGTGCGTGA-1</th><td>htan01</td><td>htan_surgical</td><td>tumor_primary</td></tr>\n",
       "\t<tr><th scope=row>htan01_AAACCTGCAATCGGTT-1</th><td>htan01</td><td>htan_surgical</td><td>tumor_primary</td></tr>\n",
       "\t<tr><th scope=row>htan01_AAACCTGCACCGTTGG-1</th><td>htan01</td><td>htan_surgical</td><td>tumor_primary</td></tr>\n",
       "\t<tr><th scope=row>htan01_AAACCTGCATCCCACT-1</th><td>htan01</td><td>htan_surgical</td><td>tumor_primary</td></tr>\n",
       "</tbody>\n",
       "</table>\n"
      ],
      "text/latex": [
       "A data.frame: 6 × 3\n",
       "\\begin{tabular}{r|lll}\n",
       "  & sample\\_id & dataset & tissue\\_type\\\\\n",
       "  & <chr> & <chr> & <chr>\\\\\n",
       "\\hline\n",
       "\thtan01\\_AAACCTGAGACCTAGG-1 & htan01 & htan\\_surgical & tumor\\_primary\\\\\n",
       "\thtan01\\_AAACCTGAGCAGCCTC-1 & htan01 & htan\\_surgical & tumor\\_primary\\\\\n",
       "\thtan01\\_AAACCTGAGTGCGTGA-1 & htan01 & htan\\_surgical & tumor\\_primary\\\\\n",
       "\thtan01\\_AAACCTGCAATCGGTT-1 & htan01 & htan\\_surgical & tumor\\_primary\\\\\n",
       "\thtan01\\_AAACCTGCACCGTTGG-1 & htan01 & htan\\_surgical & tumor\\_primary\\\\\n",
       "\thtan01\\_AAACCTGCATCCCACT-1 & htan01 & htan\\_surgical & tumor\\_primary\\\\\n",
       "\\end{tabular}\n"
      ],
      "text/markdown": [
       "\n",
       "A data.frame: 6 × 3\n",
       "\n",
       "| <!--/--> | sample_id &lt;chr&gt; | dataset &lt;chr&gt; | tissue_type &lt;chr&gt; |\n",
       "|---|---|---|---|\n",
       "| htan01_AAACCTGAGACCTAGG-1 | htan01 | htan_surgical | tumor_primary |\n",
       "| htan01_AAACCTGAGCAGCCTC-1 | htan01 | htan_surgical | tumor_primary |\n",
       "| htan01_AAACCTGAGTGCGTGA-1 | htan01 | htan_surgical | tumor_primary |\n",
       "| htan01_AAACCTGCAATCGGTT-1 | htan01 | htan_surgical | tumor_primary |\n",
       "| htan01_AAACCTGCACCGTTGG-1 | htan01 | htan_surgical | tumor_primary |\n",
       "| htan01_AAACCTGCATCCCACT-1 | htan01 | htan_surgical | tumor_primary |\n",
       "\n"
      ],
      "text/plain": [
       "                          sample_id dataset       tissue_type  \n",
       "htan01_AAACCTGAGACCTAGG-1 htan01    htan_surgical tumor_primary\n",
       "htan01_AAACCTGAGCAGCCTC-1 htan01    htan_surgical tumor_primary\n",
       "htan01_AAACCTGAGTGCGTGA-1 htan01    htan_surgical tumor_primary\n",
       "htan01_AAACCTGCAATCGGTT-1 htan01    htan_surgical tumor_primary\n",
       "htan01_AAACCTGCACCGTTGG-1 htan01    htan_surgical tumor_primary\n",
       "htan01_AAACCTGCATCCCACT-1 htan01    htan_surgical tumor_primary"
      ]
     },
     "metadata": {},
     "output_type": "display_data"
    }
   ],
   "source": [
    "metadata = read.table('../data/single_cell/original/count_matrix/metadata.txt', sep='\\t', header=TRUE, row.names=1)\n",
    "head(metadata)"
   ]
  },
  {
   "cell_type": "code",
   "execution_count": 17,
   "id": "954f43af",
   "metadata": {},
   "outputs": [],
   "source": [
    "obj = AddMetaData(object = obj, metadata = metadata$sample_id, col.name = \"sample_id\")\n",
    "obj = AddMetaData(object = obj, metadata = metadata$dataset, col.name = \"dataset\")\n",
    "obj = AddMetaData(object = obj, metadata = metadata$tissue_type, col.name = \"tissue_type\")"
   ]
  },
  {
   "cell_type": "code",
   "execution_count": 18,
   "id": "0d701f91",
   "metadata": {},
   "outputs": [
    {
     "data": {
      "text/html": [
       "<table class=\"dataframe\">\n",
       "<caption>A data.frame: 6 × 3</caption>\n",
       "<thead>\n",
       "\t<tr><th></th><th scope=col>sample_id</th><th scope=col>dataset</th><th scope=col>tissue_type</th></tr>\n",
       "\t<tr><th></th><th scope=col>&lt;chr&gt;</th><th scope=col>&lt;chr&gt;</th><th scope=col>&lt;chr&gt;</th></tr>\n",
       "</thead>\n",
       "<tbody>\n",
       "\t<tr><th scope=row>htan01_AAACCTGAGACCTAGG-1</th><td>htan01</td><td>htan_surgical</td><td>tumor_primary</td></tr>\n",
       "\t<tr><th scope=row>htan01_AAACCTGAGCAGCCTC-1</th><td>htan01</td><td>htan_surgical</td><td>tumor_primary</td></tr>\n",
       "\t<tr><th scope=row>htan01_AAACCTGAGTGCGTGA-1</th><td>htan01</td><td>htan_surgical</td><td>tumor_primary</td></tr>\n",
       "\t<tr><th scope=row>htan01_AAACCTGCAATCGGTT-1</th><td>htan01</td><td>htan_surgical</td><td>tumor_primary</td></tr>\n",
       "\t<tr><th scope=row>htan01_AAACCTGCACCGTTGG-1</th><td>htan01</td><td>htan_surgical</td><td>tumor_primary</td></tr>\n",
       "\t<tr><th scope=row>htan01_AAACCTGCATCCCACT-1</th><td>htan01</td><td>htan_surgical</td><td>tumor_primary</td></tr>\n",
       "</tbody>\n",
       "</table>\n"
      ],
      "text/latex": [
       "A data.frame: 6 × 3\n",
       "\\begin{tabular}{r|lll}\n",
       "  & sample\\_id & dataset & tissue\\_type\\\\\n",
       "  & <chr> & <chr> & <chr>\\\\\n",
       "\\hline\n",
       "\thtan01\\_AAACCTGAGACCTAGG-1 & htan01 & htan\\_surgical & tumor\\_primary\\\\\n",
       "\thtan01\\_AAACCTGAGCAGCCTC-1 & htan01 & htan\\_surgical & tumor\\_primary\\\\\n",
       "\thtan01\\_AAACCTGAGTGCGTGA-1 & htan01 & htan\\_surgical & tumor\\_primary\\\\\n",
       "\thtan01\\_AAACCTGCAATCGGTT-1 & htan01 & htan\\_surgical & tumor\\_primary\\\\\n",
       "\thtan01\\_AAACCTGCACCGTTGG-1 & htan01 & htan\\_surgical & tumor\\_primary\\\\\n",
       "\thtan01\\_AAACCTGCATCCCACT-1 & htan01 & htan\\_surgical & tumor\\_primary\\\\\n",
       "\\end{tabular}\n"
      ],
      "text/markdown": [
       "\n",
       "A data.frame: 6 × 3\n",
       "\n",
       "| <!--/--> | sample_id &lt;chr&gt; | dataset &lt;chr&gt; | tissue_type &lt;chr&gt; |\n",
       "|---|---|---|---|\n",
       "| htan01_AAACCTGAGACCTAGG-1 | htan01 | htan_surgical | tumor_primary |\n",
       "| htan01_AAACCTGAGCAGCCTC-1 | htan01 | htan_surgical | tumor_primary |\n",
       "| htan01_AAACCTGAGTGCGTGA-1 | htan01 | htan_surgical | tumor_primary |\n",
       "| htan01_AAACCTGCAATCGGTT-1 | htan01 | htan_surgical | tumor_primary |\n",
       "| htan01_AAACCTGCACCGTTGG-1 | htan01 | htan_surgical | tumor_primary |\n",
       "| htan01_AAACCTGCATCCCACT-1 | htan01 | htan_surgical | tumor_primary |\n",
       "\n"
      ],
      "text/plain": [
       "                          sample_id dataset       tissue_type  \n",
       "htan01_AAACCTGAGACCTAGG-1 htan01    htan_surgical tumor_primary\n",
       "htan01_AAACCTGAGCAGCCTC-1 htan01    htan_surgical tumor_primary\n",
       "htan01_AAACCTGAGTGCGTGA-1 htan01    htan_surgical tumor_primary\n",
       "htan01_AAACCTGCAATCGGTT-1 htan01    htan_surgical tumor_primary\n",
       "htan01_AAACCTGCACCGTTGG-1 htan01    htan_surgical tumor_primary\n",
       "htan01_AAACCTGCATCCCACT-1 htan01    htan_surgical tumor_primary"
      ]
     },
     "metadata": {},
     "output_type": "display_data"
    }
   ],
   "source": [
    "head(obj@meta.data)"
   ]
  },
  {
   "cell_type": "code",
   "execution_count": 19,
   "id": "0a330005",
   "metadata": {},
   "outputs": [
    {
     "name": "stderr",
     "output_type": "stream",
     "text": [
      "   [[ suppressing 34 column names ‘htan01_AAACCTGAGACCTAGG-1’, ‘htan01_AAACCTGAGCAGCCTC-1’, ‘htan01_AAACCTGAGTGCGTGA-1’ ... ]]\n",
      "\n"
     ]
    },
    {
     "data": {
      "text/plain": [
       "6 x 554515 sparse Matrix of class \"dgCMatrix\"\n",
       "                                                                            \n",
       "TSPAN6   . . . . . . . . . . . . . . . . . . . . . . . . . . . . . . . . . .\n",
       "TNMD     . . . . . . . . . . . . . . . . . . . . . . . . . . . . . . . . . .\n",
       "DPM1     . . . . . . . . . . . . . . . . . . . . . . . . . . . . . . . . . .\n",
       "SCYL3    . . . . . . . . . . . . . . . . . . . . . . . . . . . . . . . . . .\n",
       "C1orf112 . . . . 1 . . . . . . . . . . . . . . . . . . . . . . . . . . . . .\n",
       "FGR      . . . . . . . . . . . . . . . . . . . . . . . . . . . . . . . . . .\n",
       "               \n",
       "TSPAN6   ......\n",
       "TNMD     ......\n",
       "DPM1     ......\n",
       "SCYL3    ......\n",
       "C1orf112 ......\n",
       "FGR      ......\n",
       "\n",
       " .....suppressing 554481 columns in show(); maybe adjust 'options(max.print= *, width = *)'\n",
       " .............................."
      ]
     },
     "metadata": {},
     "output_type": "display_data"
    }
   ],
   "source": [
    "head(obj@assays$RNA@counts)"
   ]
  },
  {
   "cell_type": "code",
   "execution_count": 20,
   "id": "42c08a53",
   "metadata": {},
   "outputs": [
    {
     "data": {
      "text/plain": [
       "An object of class Seurat \n",
       "34985 features across 554515 samples within 1 assay \n",
       "Active assay: RNA (34985 features, 0 variable features)"
      ]
     },
     "metadata": {},
     "output_type": "display_data"
    }
   ],
   "source": [
    "obj <- CreateSeuratObject(counts = obj@assays$RNA, project = \"pdac\", min.cells = 1, min.features = 100, meta.data = obj@meta.data, )\n",
    "obj"
   ]
  },
  {
   "cell_type": "code",
   "execution_count": 21,
   "id": "8371de36",
   "metadata": {},
   "outputs": [],
   "source": [
    "saveRDS(object=obj, file='../data/single_cell/original/count_matrix/counts.rds')"
   ]
  },
  {
   "cell_type": "code",
   "execution_count": null,
   "id": "9242e92f",
   "metadata": {},
   "outputs": [],
   "source": []
  },
  {
   "cell_type": "code",
   "execution_count": 22,
   "id": "126d3257",
   "metadata": {},
   "outputs": [
    {
     "data": {
      "text/plain": [
       "An object of class Seurat \n",
       "34985 features across 554515 samples within 1 assay \n",
       "Active assay: RNA (34985 features, 0 variable features)"
      ]
     },
     "metadata": {},
     "output_type": "display_data"
    }
   ],
   "source": [
    "obj = readRDS('../data/single_cell/original/count_matrix/counts.rds')\n",
    "obj"
   ]
  },
  {
   "cell_type": "code",
   "execution_count": 23,
   "id": "7ed86f50",
   "metadata": {},
   "outputs": [
    {
     "data": {
      "text/html": [
       "<style>\n",
       ".list-inline {list-style: none; margin:0; padding: 0}\n",
       ".list-inline>li {display: inline-block}\n",
       ".list-inline>li:not(:last-child)::after {content: \"\\00b7\"; padding: 0 .5ex}\n",
       "</style>\n",
       "<ol class=list-inline><li>'MT-ND6'</li><li>'MT-CO2'</li><li>'MT-CYB'</li><li>'MT-ND2'</li><li>'MT-ND5'</li><li>'MT-CO1'</li><li>'MT-ND3'</li><li>'MT-ND4'</li><li>'MT-ND1'</li><li>'MT-ATP6'</li><li>'MT-CO3'</li><li>'MT-ND4L'</li><li>'MT-ATP8'</li></ol>\n"
      ],
      "text/latex": [
       "\\begin{enumerate*}\n",
       "\\item 'MT-ND6'\n",
       "\\item 'MT-CO2'\n",
       "\\item 'MT-CYB'\n",
       "\\item 'MT-ND2'\n",
       "\\item 'MT-ND5'\n",
       "\\item 'MT-CO1'\n",
       "\\item 'MT-ND3'\n",
       "\\item 'MT-ND4'\n",
       "\\item 'MT-ND1'\n",
       "\\item 'MT-ATP6'\n",
       "\\item 'MT-CO3'\n",
       "\\item 'MT-ND4L'\n",
       "\\item 'MT-ATP8'\n",
       "\\end{enumerate*}\n"
      ],
      "text/markdown": [
       "1. 'MT-ND6'\n",
       "2. 'MT-CO2'\n",
       "3. 'MT-CYB'\n",
       "4. 'MT-ND2'\n",
       "5. 'MT-ND5'\n",
       "6. 'MT-CO1'\n",
       "7. 'MT-ND3'\n",
       "8. 'MT-ND4'\n",
       "9. 'MT-ND1'\n",
       "10. 'MT-ATP6'\n",
       "11. 'MT-CO3'\n",
       "12. 'MT-ND4L'\n",
       "13. 'MT-ATP8'\n",
       "\n",
       "\n"
      ],
      "text/plain": [
       " [1] \"MT-ND6\"  \"MT-CO2\"  \"MT-CYB\"  \"MT-ND2\"  \"MT-ND5\"  \"MT-CO1\"  \"MT-ND3\" \n",
       " [8] \"MT-ND4\"  \"MT-ND1\"  \"MT-ATP6\" \"MT-CO3\"  \"MT-ND4L\" \"MT-ATP8\""
      ]
     },
     "metadata": {},
     "output_type": "display_data"
    }
   ],
   "source": [
    "grep(pattern = \"^MT-\", x = row.names(obj@assays$RNA@meta.features), value = TRUE)"
   ]
  },
  {
   "cell_type": "code",
   "execution_count": 24,
   "id": "ba5b863f",
   "metadata": {},
   "outputs": [],
   "source": [
    "obj[[\"percent.mt\"]] <- PercentageFeatureSet(obj, pattern = \"^MT-\")"
   ]
  },
  {
   "cell_type": "code",
   "execution_count": 25,
   "id": "91471a4b",
   "metadata": {},
   "outputs": [
    {
     "data": {
      "image/png": "[encoded data removed]",
      "text/plain": [
       "plot without title"
      ]
     },
     "metadata": {
      "image/png": {
       "height": 420,
       "width": 420
      }
     },
     "output_type": "display_data"
    }
   ],
   "source": [
    "VlnPlot(obj, features = c(\"percent.mt\"), group.by = \"dataset\")"
   ]
  },
  {
   "cell_type": "code",
   "execution_count": null,
   "id": "c19e3f94",
   "metadata": {},
   "outputs": [],
   "source": []
  },
  {
   "cell_type": "code",
   "execution_count": null,
   "id": "5be45717",
   "metadata": {},
   "outputs": [],
   "source": []
  },
  {
   "cell_type": "code",
   "execution_count": null,
   "id": "4d991afc",
   "metadata": {},
   "outputs": [],
   "source": []
  },
  {
   "cell_type": "code",
   "execution_count": null,
   "id": "5114259f",
   "metadata": {},
   "outputs": [],
   "source": []
  },
  {
   "cell_type": "code",
   "execution_count": null,
   "id": "88c32322",
   "metadata": {},
   "outputs": [],
   "source": []
  },
  {
   "cell_type": "code",
   "execution_count": null,
   "id": "0151c58d",
   "metadata": {},
   "outputs": [],
   "source": []
  },
  {
   "cell_type": "code",
   "execution_count": null,
   "id": "0c27121a",
   "metadata": {},
   "outputs": [],
   "source": []
  },
  {
   "cell_type": "code",
   "execution_count": null,
   "id": "9190a305",
   "metadata": {},
   "outputs": [],
   "source": []
  },
  {
   "cell_type": "code",
   "execution_count": null,
   "id": "ad23bc29",
   "metadata": {},
   "outputs": [],
   "source": []
  },
  {
   "cell_type": "code",
   "execution_count": null,
   "id": "52c9afdc",
   "metadata": {},
   "outputs": [],
   "source": []
  },
  {
   "cell_type": "code",
   "execution_count": null,
   "id": "a30388df",
   "metadata": {},
   "outputs": [],
   "source": []
  },
  {
   "cell_type": "code",
   "execution_count": null,
   "id": "0ef06e5b",
   "metadata": {},
   "outputs": [],
   "source": []
  },
  {
   "cell_type": "code",
   "execution_count": null,
   "id": "da9a9c26",
   "metadata": {},
   "outputs": [],
   "source": []
  },
  {
   "cell_type": "code",
   "execution_count": null,
   "id": "bdea99a7",
   "metadata": {},
   "outputs": [],
   "source": []
  },
  {
   "cell_type": "code",
   "execution_count": null,
   "id": "1d6770b4",
   "metadata": {},
   "outputs": [],
   "source": []
  },
  {
   "cell_type": "code",
   "execution_count": null,
   "id": "70b0f1c2",
   "metadata": {},
   "outputs": [],
   "source": []
  }
 ],
 "metadata": {
  "kernelspec": {
   "display_name": "R",
   "language": "R",
   "name": "ir"
  },
  "language_info": {
   "codemirror_mode": "r",
   "file_extension": ".r",
   "mimetype": "text/x-r-source",
   "name": "R",
   "pygments_lexer": "r",
   "version": "4.1.3"
  }
 },
 "nbformat": 4,
 "nbformat_minor": 5
}
