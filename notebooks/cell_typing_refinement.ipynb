{
 "cells": [
  {
   "cell_type": "code",
   "execution_count": 19,
   "id": "2dc93597",
   "metadata": {},
   "outputs": [],
   "source": [
    "import os\n",
    "import re\n",
    "\n",
    "import pandas as pd\n",
    "import scanpy as sc\n",
    "import seaborn as sns\n",
    "import matplotlib.pyplot as plt\n",
    "import anndata"
   ]
  },
  {
   "cell_type": "markdown",
   "id": "ee27cf3e",
   "metadata": {},
   "source": [
    "#### integrated object cell type refinement"
   ]
  },
  {
   "cell_type": "code",
   "execution_count": 7,
   "id": "6dd58964",
   "metadata": {},
   "outputs": [
    {
     "data": {
      "text/plain": [
       "AnnData object with n_obs × n_vars = 113052 × 31915\n",
       "    obs: 'orig.ident', 'nCount_RNA', 'nFeature_RNA', 'percent.mt', 'nCount_SCT', 'nFeature_SCT', 'CELL', 'CONDITION', 'Patient', 'Type', 'Cell_type', 'integrated_snn_res.0.75', 'seurat_clusters', 'sample_id', 'cell_type'\n",
       "    var: '_index', 'features'\n",
       "    obsm: 'X_umap'"
      ]
     },
     "execution_count": 7,
     "metadata": {},
     "output_type": "execute_result"
    }
   ],
   "source": [
    "# raw counts are raw.X\n",
    "counts_adata = sc.read_h5ad('../data/single_cell/original/integrated_rna.h5ad')\n",
    "counts_adata"
   ]
  },
  {
   "cell_type": "code",
   "execution_count": 9,
   "id": "37b57f3e",
   "metadata": {
    "scrolled": true
   },
   "outputs": [
    {
     "data": {
      "text/plain": [
       "{0.0,\n",
       " 1.0,\n",
       " 2.0,\n",
       " 3.0,\n",
       " 4.0,\n",
       " 5.0,\n",
       " 6.0,\n",
       " 7.0,\n",
       " 8.0,\n",
       " 9.0,\n",
       " 10.0,\n",
       " 11.0,\n",
       " 12.0,\n",
       " 13.0,\n",
       " 14.0,\n",
       " 15.0,\n",
       " 16.0,\n",
       " 17.0,\n",
       " 18.0,\n",
       " 19.0,\n",
       " 21.0,\n",
       " 22.0,\n",
       " 23.0,\n",
       " 24.0,\n",
       " 25.0,\n",
       " 26.0,\n",
       " 27.0,\n",
       " 29.0,\n",
       " 31.0,\n",
       " 33.0,\n",
       " 34.0,\n",
       " 41.0,\n",
       " 52.0,\n",
       " 58.0,\n",
       " 67.0}"
      ]
     },
     "execution_count": 9,
     "metadata": {},
     "output_type": "execute_result"
    }
   ],
   "source": [
    "set(counts_adata.raw.X[0].toarray().flatten())"
   ]
  },
  {
   "cell_type": "code",
   "execution_count": 17,
   "id": "3f16d1d7",
   "metadata": {},
   "outputs": [
    {
     "data": {
      "text/html": [
       "<div>\n",
       "<style scoped>\n",
       "    .dataframe tbody tr th:only-of-type {\n",
       "        vertical-align: middle;\n",
       "    }\n",
       "\n",
       "    .dataframe tbody tr th {\n",
       "        vertical-align: top;\n",
       "    }\n",
       "\n",
       "    .dataframe thead th {\n",
       "        text-align: right;\n",
       "    }\n",
       "</style>\n",
       "<table border=\"1\" class=\"dataframe\">\n",
       "  <thead>\n",
       "    <tr style=\"text-align: right;\">\n",
       "      <th></th>\n",
       "      <th>_index</th>\n",
       "      <th>features</th>\n",
       "    </tr>\n",
       "  </thead>\n",
       "  <tbody>\n",
       "    <tr>\n",
       "      <th>0</th>\n",
       "      <td>AL627309.1</td>\n",
       "      <td>AL627309.1</td>\n",
       "    </tr>\n",
       "    <tr>\n",
       "      <th>1</th>\n",
       "      <td>AL669831.5</td>\n",
       "      <td>AL669831.5</td>\n",
       "    </tr>\n",
       "    <tr>\n",
       "      <th>2</th>\n",
       "      <td>LINC00115</td>\n",
       "      <td>LINC00115</td>\n",
       "    </tr>\n",
       "    <tr>\n",
       "      <th>3</th>\n",
       "      <td>SAMD11</td>\n",
       "      <td>SAMD11</td>\n",
       "    </tr>\n",
       "    <tr>\n",
       "      <th>4</th>\n",
       "      <td>NOC2L</td>\n",
       "      <td>NOC2L</td>\n",
       "    </tr>\n",
       "    <tr>\n",
       "      <th>...</th>\n",
       "      <td>...</td>\n",
       "      <td>...</td>\n",
       "    </tr>\n",
       "    <tr>\n",
       "      <th>31910</th>\n",
       "      <td>RP11-403B2.6</td>\n",
       "      <td>RP11-403B2.6</td>\n",
       "    </tr>\n",
       "    <tr>\n",
       "      <th>31911</th>\n",
       "      <td>RP11-1136G4.1</td>\n",
       "      <td>RP11-1136G4.1</td>\n",
       "    </tr>\n",
       "    <tr>\n",
       "      <th>31912</th>\n",
       "      <td>AP005530.1</td>\n",
       "      <td>AP005530.1</td>\n",
       "    </tr>\n",
       "    <tr>\n",
       "      <th>31913</th>\n",
       "      <td>AC008440.10</td>\n",
       "      <td>AC008440.10</td>\n",
       "    </tr>\n",
       "    <tr>\n",
       "      <th>31914</th>\n",
       "      <td>AP000473.8</td>\n",
       "      <td>AP000473.8</td>\n",
       "    </tr>\n",
       "  </tbody>\n",
       "</table>\n",
       "<p>31915 rows × 2 columns</p>\n",
       "</div>"
      ],
      "text/plain": [
       "              _index       features\n",
       "0         AL627309.1     AL627309.1\n",
       "1         AL669831.5     AL669831.5\n",
       "2          LINC00115      LINC00115\n",
       "3             SAMD11         SAMD11\n",
       "4              NOC2L          NOC2L\n",
       "...              ...            ...\n",
       "31910   RP11-403B2.6   RP11-403B2.6\n",
       "31911  RP11-1136G4.1  RP11-1136G4.1\n",
       "31912     AP005530.1     AP005530.1\n",
       "31913    AC008440.10    AC008440.10\n",
       "31914     AP000473.8     AP000473.8\n",
       "\n",
       "[31915 rows x 2 columns]"
      ]
     },
     "execution_count": 17,
     "metadata": {},
     "output_type": "execute_result"
    }
   ],
   "source": [
    "counts_adata.var"
   ]
  },
  {
   "cell_type": "code",
   "execution_count": 8,
   "id": "50a03759",
   "metadata": {},
   "outputs": [
    {
     "name": "stderr",
     "output_type": "stream",
     "text": [
      "/data/estorrs/miniconda3/envs/sc_pdac/lib/python3.7/site-packages/anndata/compat/__init__.py:235: FutureWarning: Moving element from .uns['neighbors']['distances'] to .obsp['distances'].\n",
      "\n",
      "This is where adjacency matrices should go now.\n",
      "  FutureWarning,\n"
     ]
    },
    {
     "data": {
      "text/plain": [
       "AnnData object with n_obs × n_vars = 113052 × 3000\n",
       "    obs: 'orig.ident', 'nCount_RNA', 'nFeature_RNA', 'percent.mt', 'nCount_SCT', 'nFeature_SCT', 'CELL', 'CONDITION', 'Patient', 'Type', 'Cell_type', 'integrated_snn_res.0.75', 'seurat_clusters', 'sample_id', 'cell_type'\n",
       "    var: 'SCT_features', '_index', 'features'\n",
       "    uns: 'neighbors'\n",
       "    obsm: 'X_pca', 'X_umap'\n",
       "    varm: 'PCs'\n",
       "    layers: 'SCT'\n",
       "    obsp: 'distances'"
      ]
     },
     "execution_count": 8,
     "metadata": {},
     "output_type": "execute_result"
    }
   ],
   "source": [
    "# X is scale.data from integrated assay and raw.X is data from integrated assay\n",
    "adata = sc.read_h5ad('../data/single_cell/original/integrated_integrated.h5ad')\n",
    "adata"
   ]
  },
  {
   "cell_type": "code",
   "execution_count": 14,
   "id": "55de5bc1",
   "metadata": {},
   "outputs": [
    {
     "data": {
      "text/html": [
       "<div>\n",
       "<style scoped>\n",
       "    .dataframe tbody tr th:only-of-type {\n",
       "        vertical-align: middle;\n",
       "    }\n",
       "\n",
       "    .dataframe tbody tr th {\n",
       "        vertical-align: top;\n",
       "    }\n",
       "\n",
       "    .dataframe thead th {\n",
       "        text-align: right;\n",
       "    }\n",
       "</style>\n",
       "<table border=\"1\" class=\"dataframe\">\n",
       "  <thead>\n",
       "    <tr style=\"text-align: right;\">\n",
       "      <th></th>\n",
       "      <th>SCT_features</th>\n",
       "      <th>_index</th>\n",
       "      <th>features</th>\n",
       "    </tr>\n",
       "  </thead>\n",
       "  <tbody>\n",
       "    <tr>\n",
       "      <th>0</th>\n",
       "      <td>SAMD11</td>\n",
       "      <td>SPP1</td>\n",
       "      <td>SPP1</td>\n",
       "    </tr>\n",
       "    <tr>\n",
       "      <th>1</th>\n",
       "      <td>HES4</td>\n",
       "      <td>COL1A1</td>\n",
       "      <td>COL1A1</td>\n",
       "    </tr>\n",
       "    <tr>\n",
       "      <th>2</th>\n",
       "      <td>ISG15</td>\n",
       "      <td>LUM</td>\n",
       "      <td>LUM</td>\n",
       "    </tr>\n",
       "    <tr>\n",
       "      <th>3</th>\n",
       "      <td>TNFRSF18</td>\n",
       "      <td>MGP</td>\n",
       "      <td>MGP</td>\n",
       "    </tr>\n",
       "    <tr>\n",
       "      <th>4</th>\n",
       "      <td>TNFRSF4</td>\n",
       "      <td>SFRP2</td>\n",
       "      <td>SFRP2</td>\n",
       "    </tr>\n",
       "    <tr>\n",
       "      <th>...</th>\n",
       "      <td>...</td>\n",
       "      <td>...</td>\n",
       "      <td>...</td>\n",
       "    </tr>\n",
       "    <tr>\n",
       "      <th>2995</th>\n",
       "      <td>TP53TG3D</td>\n",
       "      <td>LINC00205</td>\n",
       "      <td>LINC00205</td>\n",
       "    </tr>\n",
       "    <tr>\n",
       "      <th>2996</th>\n",
       "      <td>CSF3</td>\n",
       "      <td>SYT11</td>\n",
       "      <td>SYT11</td>\n",
       "    </tr>\n",
       "    <tr>\n",
       "      <th>2997</th>\n",
       "      <td>PTPRT</td>\n",
       "      <td>BCL2L10</td>\n",
       "      <td>BCL2L10</td>\n",
       "    </tr>\n",
       "    <tr>\n",
       "      <th>2998</th>\n",
       "      <td>KCNB1</td>\n",
       "      <td>ATP6V1G2</td>\n",
       "      <td>ATP6V1G2</td>\n",
       "    </tr>\n",
       "    <tr>\n",
       "      <th>2999</th>\n",
       "      <td>CBLN4</td>\n",
       "      <td>KLF9</td>\n",
       "      <td>KLF9</td>\n",
       "    </tr>\n",
       "  </tbody>\n",
       "</table>\n",
       "<p>3000 rows × 3 columns</p>\n",
       "</div>"
      ],
      "text/plain": [
       "     SCT_features     _index   features\n",
       "0          SAMD11       SPP1       SPP1\n",
       "1            HES4     COL1A1     COL1A1\n",
       "2           ISG15        LUM        LUM\n",
       "3        TNFRSF18        MGP        MGP\n",
       "4         TNFRSF4      SFRP2      SFRP2\n",
       "...           ...        ...        ...\n",
       "2995     TP53TG3D  LINC00205  LINC00205\n",
       "2996         CSF3      SYT11      SYT11\n",
       "2997        PTPRT    BCL2L10    BCL2L10\n",
       "2998        KCNB1   ATP6V1G2   ATP6V1G2\n",
       "2999        CBLN4       KLF9       KLF9\n",
       "\n",
       "[3000 rows x 3 columns]"
      ]
     },
     "execution_count": 14,
     "metadata": {},
     "output_type": "execute_result"
    }
   ],
   "source": [
    "adata.var"
   ]
  },
  {
   "cell_type": "code",
   "execution_count": 16,
   "id": "eb68e7a2",
   "metadata": {},
   "outputs": [
    {
     "data": {
      "text/plain": [
       "(113052, 3000)"
      ]
     },
     "execution_count": 16,
     "metadata": {},
     "output_type": "execute_result"
    }
   ],
   "source": [
    "adata.layers['SCT'].shape"
   ]
  },
  {
   "cell_type": "code",
   "execution_count": 13,
   "id": "4c3a1b79",
   "metadata": {},
   "outputs": [
    {
     "data": {
      "text/plain": [
       "(113052, 3000)"
      ]
     },
     "execution_count": 13,
     "metadata": {},
     "output_type": "execute_result"
    }
   ],
   "source": [
    "adata.raw.X.shape"
   ]
  },
  {
   "cell_type": "code",
   "execution_count": 11,
   "id": "0b7c350f",
   "metadata": {},
   "outputs": [
    {
     "ename": "ValueError",
     "evalue": "Value passed for key 'counts' is of incorrect shape. Values of layers must match dimensions (0, 1) of parent. Value had shape (113052, 31915) while it should have had (113052, 3000).",
     "output_type": "error",
     "traceback": [
      "\u001b[0;31m---------------------------------------------------------------------------\u001b[0m",
      "\u001b[0;31mValueError\u001b[0m                                Traceback (most recent call last)",
      "\u001b[0;32m/tmp/ipykernel_27194/2080702775.py\u001b[0m in \u001b[0;36m<module>\u001b[0;34m\u001b[0m\n\u001b[0;32m----> 1\u001b[0;31m \u001b[0madata\u001b[0m\u001b[0;34m.\u001b[0m\u001b[0mlayers\u001b[0m\u001b[0;34m[\u001b[0m\u001b[0;34m'counts'\u001b[0m\u001b[0;34m]\u001b[0m \u001b[0;34m=\u001b[0m \u001b[0mcounts_adata\u001b[0m\u001b[0;34m.\u001b[0m\u001b[0mraw\u001b[0m\u001b[0;34m.\u001b[0m\u001b[0mX\u001b[0m\u001b[0;34m\u001b[0m\u001b[0;34m\u001b[0m\u001b[0m\n\u001b[0m",
      "\u001b[0;32m/data/estorrs/miniconda3/envs/sc_pdac/lib/python3.7/site-packages/anndata/_core/aligned_mapping.py\u001b[0m in \u001b[0;36m__setitem__\u001b[0;34m(self, key, value)\u001b[0m\n\u001b[1;32m    149\u001b[0m \u001b[0;34m\u001b[0m\u001b[0m\n\u001b[1;32m    150\u001b[0m     \u001b[0;32mdef\u001b[0m \u001b[0m__setitem__\u001b[0m\u001b[0;34m(\u001b[0m\u001b[0mself\u001b[0m\u001b[0;34m,\u001b[0m \u001b[0mkey\u001b[0m\u001b[0;34m:\u001b[0m \u001b[0mstr\u001b[0m\u001b[0;34m,\u001b[0m \u001b[0mvalue\u001b[0m\u001b[0;34m:\u001b[0m \u001b[0mV\u001b[0m\u001b[0;34m)\u001b[0m\u001b[0;34m:\u001b[0m\u001b[0;34m\u001b[0m\u001b[0;34m\u001b[0m\u001b[0m\n\u001b[0;32m--> 151\u001b[0;31m         \u001b[0mvalue\u001b[0m \u001b[0;34m=\u001b[0m \u001b[0mself\u001b[0m\u001b[0;34m.\u001b[0m\u001b[0m_validate_value\u001b[0m\u001b[0;34m(\u001b[0m\u001b[0mvalue\u001b[0m\u001b[0;34m,\u001b[0m \u001b[0mkey\u001b[0m\u001b[0;34m)\u001b[0m\u001b[0;34m\u001b[0m\u001b[0;34m\u001b[0m\u001b[0m\n\u001b[0m\u001b[1;32m    152\u001b[0m         \u001b[0mself\u001b[0m\u001b[0;34m.\u001b[0m\u001b[0m_data\u001b[0m\u001b[0;34m[\u001b[0m\u001b[0mkey\u001b[0m\u001b[0;34m]\u001b[0m \u001b[0;34m=\u001b[0m \u001b[0mvalue\u001b[0m\u001b[0;34m\u001b[0m\u001b[0;34m\u001b[0m\u001b[0m\n\u001b[1;32m    153\u001b[0m \u001b[0;34m\u001b[0m\u001b[0m\n",
      "\u001b[0;32m/data/estorrs/miniconda3/envs/sc_pdac/lib/python3.7/site-packages/anndata/_core/aligned_mapping.py\u001b[0m in \u001b[0;36m_validate_value\u001b[0;34m(self, val, key)\u001b[0m\n\u001b[1;32m     51\u001b[0m                 \u001b[0mright_shape\u001b[0m \u001b[0;34m=\u001b[0m \u001b[0mtuple\u001b[0m\u001b[0;34m(\u001b[0m\u001b[0mself\u001b[0m\u001b[0;34m.\u001b[0m\u001b[0mparent\u001b[0m\u001b[0;34m.\u001b[0m\u001b[0mshape\u001b[0m\u001b[0;34m[\u001b[0m\u001b[0ma\u001b[0m\u001b[0;34m]\u001b[0m \u001b[0;32mfor\u001b[0m \u001b[0ma\u001b[0m \u001b[0;32min\u001b[0m \u001b[0mself\u001b[0m\u001b[0;34m.\u001b[0m\u001b[0maxes\u001b[0m\u001b[0;34m)\u001b[0m\u001b[0;34m\u001b[0m\u001b[0;34m\u001b[0m\u001b[0m\n\u001b[1;32m     52\u001b[0m                 raise ValueError(\n\u001b[0;32m---> 53\u001b[0;31m                     \u001b[0;34mf\"Value passed for key {key!r} is of incorrect shape. \"\u001b[0m\u001b[0;34m\u001b[0m\u001b[0;34m\u001b[0m\u001b[0m\n\u001b[0m\u001b[1;32m     54\u001b[0m                     \u001b[0;34mf\"Values of {self.attrname} must match dimensions \"\u001b[0m\u001b[0;34m\u001b[0m\u001b[0;34m\u001b[0m\u001b[0m\n\u001b[1;32m     55\u001b[0m                     \u001b[0;34mf\"{self.axes} of parent. Value had shape {val.shape} while \"\u001b[0m\u001b[0;34m\u001b[0m\u001b[0;34m\u001b[0m\u001b[0m\n",
      "\u001b[0;31mValueError\u001b[0m: Value passed for key 'counts' is of incorrect shape. Values of layers must match dimensions (0, 1) of parent. Value had shape (113052, 31915) while it should have had (113052, 3000)."
     ]
    }
   ],
   "source": [
    "adata.layers['counts'] = counts_adata.raw.X"
   ]
  },
  {
   "cell_type": "code",
   "execution_count": 3,
   "id": "9753ba4b",
   "metadata": {},
   "outputs": [
    {
     "data": {
      "text/plain": [
       "array([[-2.21198275, -2.44697471, -2.67837706, ..., -0.09416235,\n",
       "        -0.07340713, -0.23156486],\n",
       "       [-3.17365415, -2.19511218, -2.96876128, ..., -0.11958864,\n",
       "        -0.1289242 , -0.59067   ],\n",
       "       [-1.80783225, -1.67735685, -1.53501979, ..., -0.03703795,\n",
       "        -0.31251288, -0.13506925],\n",
       "       ...,\n",
       "       [-1.92023382, 10.        , 10.        , ..., -0.09778932,\n",
       "        -0.06233593, -0.82954187],\n",
       "       [ 0.07365613, -2.21592259, -2.53493226, ...,  0.02935523,\n",
       "        -0.18326476,  1.42124371],\n",
       "       [-1.93877699, -2.70065107, -2.61501048, ..., -0.05858634,\n",
       "        -0.06076754,  1.68742749]])"
      ]
     },
     "execution_count": 3,
     "metadata": {},
     "output_type": "execute_result"
    }
   ],
   "source": [
    "adata.X"
   ]
  },
  {
   "cell_type": "code",
   "execution_count": 4,
   "id": "df35c15a",
   "metadata": {},
   "outputs": [
    {
     "data": {
      "text/plain": [
       "array([[-0.07365578, -0.28201198, -0.64118657, ..., -0.01079224,\n",
       "        -0.02593469, -0.00852385],\n",
       "       [-0.15699102,  3.11789246, -0.67812708, ..., -0.04953781,\n",
       "        -0.06826268, -0.04781286],\n",
       "       [-0.03337659, -0.10653823, -0.36900279, ...,  0.00374125,\n",
       "        -0.00983258,  0.00586419],\n",
       "       ...,\n",
       "       [-0.22245112,  0.54281014, -0.38986595, ..., -0.18769368,\n",
       "        -0.09947098, -0.10806374],\n",
       "       [-0.24002901, -0.83723332,  0.27987207, ..., -0.19848254,\n",
       "        -0.10516399, -0.11461643],\n",
       "       [-0.2755587 , -0.2214901 , -1.56272384, ..., -0.22003168,\n",
       "        -0.11663569, -0.1277709 ]])"
      ]
     },
     "execution_count": 4,
     "metadata": {},
     "output_type": "execute_result"
    }
   ],
   "source": [
    "adata.layers['SCT']"
   ]
  },
  {
   "cell_type": "code",
   "execution_count": 5,
   "id": "978c28b7",
   "metadata": {},
   "outputs": [
    {
     "data": {
      "text/plain": [
       "<113052x3000 sparse matrix of type '<class 'numpy.float64'>'\n",
       "\twith 339156000 stored elements in Compressed Sparse Row format>"
      ]
     },
     "execution_count": 5,
     "metadata": {},
     "output_type": "execute_result"
    }
   ],
   "source": [
    "adata.raw.X"
   ]
  },
  {
   "cell_type": "code",
   "execution_count": 6,
   "id": "c611414e",
   "metadata": {},
   "outputs": [
    {
     "data": {
      "text/plain": [
       "array([[-2.54102635, -3.36626981, -3.49649925, ..., -0.06412523,\n",
       "        -0.0756337 , -0.36814463]])"
      ]
     },
     "execution_count": 6,
     "metadata": {},
     "output_type": "execute_result"
    }
   ],
   "source": [
    "adata.raw.X[0].toarray()"
   ]
  },
  {
   "cell_type": "code",
   "execution_count": 25,
   "id": "fd6ae314",
   "metadata": {},
   "outputs": [],
   "source": [
    "adata.var = adata.var.set_index('features')"
   ]
  },
  {
   "cell_type": "code",
   "execution_count": 28,
   "id": "078b8d29",
   "metadata": {},
   "outputs": [
    {
     "data": {
      "text/html": [
       "<div>\n",
       "<style scoped>\n",
       "    .dataframe tbody tr th:only-of-type {\n",
       "        vertical-align: middle;\n",
       "    }\n",
       "\n",
       "    .dataframe tbody tr th {\n",
       "        vertical-align: top;\n",
       "    }\n",
       "\n",
       "    .dataframe thead th {\n",
       "        text-align: right;\n",
       "    }\n",
       "</style>\n",
       "<table border=\"1\" class=\"dataframe\">\n",
       "  <thead>\n",
       "    <tr style=\"text-align: right;\">\n",
       "      <th></th>\n",
       "      <th>SCT_features</th>\n",
       "      <th>_index</th>\n",
       "    </tr>\n",
       "    <tr>\n",
       "      <th>features</th>\n",
       "      <th></th>\n",
       "      <th></th>\n",
       "    </tr>\n",
       "  </thead>\n",
       "  <tbody>\n",
       "    <tr>\n",
       "      <th>SPP1</th>\n",
       "      <td>SAMD11</td>\n",
       "      <td>SPP1</td>\n",
       "    </tr>\n",
       "    <tr>\n",
       "      <th>COL1A1</th>\n",
       "      <td>HES4</td>\n",
       "      <td>COL1A1</td>\n",
       "    </tr>\n",
       "    <tr>\n",
       "      <th>LUM</th>\n",
       "      <td>ISG15</td>\n",
       "      <td>LUM</td>\n",
       "    </tr>\n",
       "    <tr>\n",
       "      <th>MGP</th>\n",
       "      <td>TNFRSF18</td>\n",
       "      <td>MGP</td>\n",
       "    </tr>\n",
       "    <tr>\n",
       "      <th>SFRP2</th>\n",
       "      <td>TNFRSF4</td>\n",
       "      <td>SFRP2</td>\n",
       "    </tr>\n",
       "    <tr>\n",
       "      <th>...</th>\n",
       "      <td>...</td>\n",
       "      <td>...</td>\n",
       "    </tr>\n",
       "    <tr>\n",
       "      <th>LINC00205</th>\n",
       "      <td>TP53TG3D</td>\n",
       "      <td>LINC00205</td>\n",
       "    </tr>\n",
       "    <tr>\n",
       "      <th>SYT11</th>\n",
       "      <td>CSF3</td>\n",
       "      <td>SYT11</td>\n",
       "    </tr>\n",
       "    <tr>\n",
       "      <th>BCL2L10</th>\n",
       "      <td>PTPRT</td>\n",
       "      <td>BCL2L10</td>\n",
       "    </tr>\n",
       "    <tr>\n",
       "      <th>ATP6V1G2</th>\n",
       "      <td>KCNB1</td>\n",
       "      <td>ATP6V1G2</td>\n",
       "    </tr>\n",
       "    <tr>\n",
       "      <th>KLF9</th>\n",
       "      <td>CBLN4</td>\n",
       "      <td>KLF9</td>\n",
       "    </tr>\n",
       "  </tbody>\n",
       "</table>\n",
       "<p>3000 rows × 2 columns</p>\n",
       "</div>"
      ],
      "text/plain": [
       "          SCT_features     _index\n",
       "features                         \n",
       "SPP1            SAMD11       SPP1\n",
       "COL1A1            HES4     COL1A1\n",
       "LUM              ISG15        LUM\n",
       "MGP           TNFRSF18        MGP\n",
       "SFRP2          TNFRSF4      SFRP2\n",
       "...                ...        ...\n",
       "LINC00205     TP53TG3D  LINC00205\n",
       "SYT11             CSF3      SYT11\n",
       "BCL2L10          PTPRT    BCL2L10\n",
       "ATP6V1G2         KCNB1   ATP6V1G2\n",
       "KLF9             CBLN4       KLF9\n",
       "\n",
       "[3000 rows x 2 columns]"
      ]
     },
     "execution_count": 28,
     "metadata": {},
     "output_type": "execute_result"
    }
   ],
   "source": []
  },
  {
   "cell_type": "code",
   "execution_count": 29,
   "id": "e3671076",
   "metadata": {},
   "outputs": [
    {
     "name": "stdout",
     "output_type": "stream",
     "text": [
      "WARNING: Default of the method has been changed to 't-test' from 't-test_overestim_var'\n"
     ]
    },
    {
     "name": "stderr",
     "output_type": "stream",
     "text": [
      "/data/estorrs/miniconda3/envs/sc_pdac/lib/python3.7/site-packages/scanpy/tools/_rank_genes_groups.py:421: RuntimeWarning: invalid value encountered in log2\n",
      "  foldchanges[global_indices]\n"
     ]
    }
   ],
   "source": [
    "sc.tl.rank_genes_groups(adata, groupby='cell_type', groups=['UNK_immune'], use_raw=False)"
   ]
  },
  {
   "cell_type": "code",
   "execution_count": 30,
   "id": "b0b96377",
   "metadata": {},
   "outputs": [
    {
     "data": {
      "text/plain": [
       "{'params': {'groupby': 'cell_type',\n",
       "  'reference': 'rest',\n",
       "  'method': 't-test',\n",
       "  'use_raw': False,\n",
       "  'layer': None,\n",
       "  'corr_method': 'benjamini-hochberg'},\n",
       " 'names': rec.array([('HMGB2',), ('STMN1',), ('CORO1A',), ..., ('SERPINA1',),\n",
       "            ('S100A6',), ('C19orf33',)],\n",
       "           dtype=[('UNK_immune', 'O')]),\n",
       " 'scores': rec.array([( 108.40344,), (  79.76527,), (  53.02902,), ...,\n",
       "            (-100.6699 ,), (-104.77608,), (-107.68163,)],\n",
       "           dtype=[('UNK_immune', '<f4')]),\n",
       " 'pvals': rec.array([(0.0000000e+000,), (1.0673687e-285,), (9.1856467e-207,), ...,\n",
       "            (0.0000000e+000,), (0.0000000e+000,), (0.0000000e+000,)],\n",
       "           dtype=[('UNK_immune', '<f8')]),\n",
       " 'pvals_adj': rec.array([(0.00000000e+000,), (3.07894816e-284,), (1.46579469e-205,),\n",
       "            ..., (0.00000000e+000,), (0.00000000e+000,),\n",
       "            (0.00000000e+000,)],\n",
       "           dtype=[('UNK_immune', '<f8')]),\n",
       " 'logfoldchanges': rec.array([(      nan,), (      nan,), (      nan,), ..., (1.7532507,),\n",
       "            (2.182978 ,), (3.6188724,)],\n",
       "           dtype=[('UNK_immune', '<f4')])}"
      ]
     },
     "execution_count": 30,
     "metadata": {},
     "output_type": "execute_result"
    }
   ],
   "source": [
    "adata.uns['rank_genes_groups']"
   ]
  },
  {
   "cell_type": "code",
   "execution_count": null,
   "id": "920ebb3f",
   "metadata": {},
   "outputs": [],
   "source": []
  }
 ],
 "metadata": {
  "kernelspec": {
   "display_name": "Python 3 (ipykernel)",
   "language": "python",
   "name": "python3"
  },
  "language_info": {
   "codemirror_mode": {
    "name": "ipython",
    "version": 3
   },
   "file_extension": ".py",
   "mimetype": "text/x-python",
   "name": "python",
   "nbconvert_exporter": "python",
   "pygments_lexer": "ipython3",
   "version": "3.7.12"
  }
 },
 "nbformat": 4,
 "nbformat_minor": 5
}
