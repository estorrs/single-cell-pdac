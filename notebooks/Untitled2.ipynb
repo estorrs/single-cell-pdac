{
 "cells": [
  {
   "cell_type": "code",
   "execution_count": 1,
   "id": "56e20f92",
   "metadata": {},
   "outputs": [
    {
     "name": "stderr",
     "output_type": "stream",
     "text": [
      "Registered S3 method overwritten by 'spatstat.core':\n",
      "  method          from\n",
      "  formula.glmmPQL MASS\n",
      "\n",
      "Attaching SeuratObject\n",
      "\n"
     ]
    }
   ],
   "source": [
    "library(Seurat)"
   ]
  },
  {
   "cell_type": "code",
   "execution_count": null,
   "id": "1302c842",
   "metadata": {},
   "outputs": [],
   "source": []
  },
  {
   "cell_type": "code",
   "execution_count": null,
   "id": "e8b5c0e8",
   "metadata": {},
   "outputs": [],
   "source": [
    "counts = read.table('../data/single_cell/original/count_matrix/counts.csv.gz', sep=',', header=TRUE, row.names=1)\n",
    "transposed_counts = t(counts)\n",
    "metadata =  read.table('../data/single_cell/original/count_matrix/metadata.csv', sep=',', header=TRUE, row.names=1)"
   ]
  },
  {
   "cell_type": "code",
   "execution_count": null,
   "id": "d9fdea11",
   "metadata": {},
   "outputs": [],
   "source": [
    "peng = CreateSeuratObject(\n",
    "  transposed_counts,\n",
    "  project = \"pdac\",\n",
    "  assay = \"RNA\",\n",
    "#  names.field = \"CELL\",\n",
    "#   names.delim = \"_\",\n",
    "  meta.data = metadata,\n",
    "\n",
    ")"
   ]
  }
 ],
 "metadata": {
  "kernelspec": {
   "display_name": "R",
   "language": "R",
   "name": "ir"
  },
  "language_info": {
   "codemirror_mode": "r",
   "file_extension": ".r",
   "mimetype": "text/x-r-source",
   "name": "R",
   "pygments_lexer": "r",
   "version": "4.1.3"
  }
 },
 "nbformat": 4,
 "nbformat_minor": 5
}
