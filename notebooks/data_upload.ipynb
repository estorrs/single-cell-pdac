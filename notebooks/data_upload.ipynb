{
 "cells": [
  {
   "cell_type": "code",
   "execution_count": 1,
   "id": "145c6652",
   "metadata": {},
   "outputs": [],
   "source": [
    "import os\n",
    "import re\n",
    "from collections import Counter\n",
    "\n",
    "import anndata\n",
    "import pandas as pd\n",
    "import scanpy as sc\n",
    "import scanpy.external as sce\n",
    "import numpy as np\n",
    "import matplotlib.pyplot as plt\n",
    "import seaborn as sns\n"
   ]
  },
  {
   "cell_type": "code",
   "execution_count": 2,
   "id": "19ef433d",
   "metadata": {},
   "outputs": [
    {
     "data": {
      "text/plain": [
       "AnnData object with n_obs × n_vars = 196868 × 3000\n",
       "    obs: 'sample_id', 'dataset', 'tissue_type', 'doublet_score', 'is_doublet', 'n_genes', 'n_genes_by_counts', 'total_counts', 'total_counts_mt', 'pct_counts_mt', 'leiden', 'Bailey | ADEX score', 'Collison | Exocrine-like score', 'Moffit | Basal score', 'Bailey | Squamous-like score', 'Bailey | Pancreatic-Progenitor score', 'Bailey | Immunogenic score', 'Collison | Quasi-Mesenchymal score', 'Collison | Classical score', 'Moffit | Classical score', 'subTME | deserted score', 'subTME | reactive score', 'raghaven | scBasal score', 'raghaven | scClassical score', 'raghaven | IC score', 'raghaven | Pericyte-like score', 'raghaven | Fibroblast-like score', 'raghaven | Inflammatory score', 'raghaven | TAM-FCN1 score', 'raghaven | TAM-C1QC score', 'raghaven | TAM-SPP1 score', 'elyada | myCAF score', 'elyada | iCAF score', 'elyada | apCAF score', 'ben-porath | ES exp1 score', 'ben-porath | ES exp2 score', 'ben-porath | Nanog targets score', 'ben-porath | Oct4 targets score', 'ben-porath | Sox2 targets score', 'ben-porath | NOS targets score', 'ben-porath | NOS TFs score', 'ben-porath | Suz12 targets score', 'ben-porath | Eed targets score', 'ben-porath | H3K27 bound score', 'ben-porath | PRC2 targets score', 'ben-porath | Myc targets1 score', 'ben-porath | Myc targets2 score', 'ben-porath | Genes functionally associated with proliferation score', 'ben-porath | Cycling genes score', 'ben-porath | Proliferation cluster score', 'ben-porath | ES TFs score', 'wong | stem_core score', 'sanchez-vega | Cell Cycle score', 'sanchez-vega | HIPPO score', 'sanchez-vega | MYC score', 'sanchez-vega | NOTCH score', 'sanchez-vega | NRF2 score', 'sanchez-vega | PI3K score', 'sanchez-vega | TGF-Beta score', 'sanchez-vega | RTK RAS score', 'sanchez-vega | TP53 score', 'sanchez-vega | WNT score', 'Chan-Seng-Yue | Signature 2 (Basal-like A) score', 'Chan-Seng-Yue | Signature 10 (Basal-like B) score', 'Chan-Seng-Yue | Signature 1 (Classical A) score', 'Chan-Seng-Yue | Signature 6 (Classical B) score', 'luoma | CD4_T_cell - IL7R+ CD4 score', 'luoma | CD4_T_cell - OX40+ Treg score', 'luoma | CD4_T_cell - HLA-DR+ Treg score', 'luoma | CD4_T_cell - CXCL+ CD4 score', 'luoma | CD4_T_cell - Cycling CD4 score', 'luoma | CD4_T_cell - GZMA+ CD4 score', 'luoma | CD4_T_cell - ISG CD4 score', 'luoma | CD8_T_cell - KLF2-high CD8 score', 'luoma | CD8_T_cell - GZMK+ CD8 score', 'luoma | CD8_T_cell - ITGAE+ CD8 score', 'luoma | CD8_T_cell - Cycling CD8 score', 'luoma | CD8_T_cell - IL7R+ CD8 score', 'luoma | CD8_T_cell - ISG CD8 score', 'luoma | CD8_T_cell - CD3D+ CD8 score', 'luoma | myeloid_cell - CD14+ Mono score', 'luoma | myeloid_cell - C1QB+ TAM score', 'luoma | myeloid_cell - CXCL8+ TAM score', 'luoma | myeloid_cell - Unassigned score', 'luoma | myeloid_cell - CD1C+ DC score', 'luoma | myeloid_cell - pDC score', 'luoma | myeloid_cell - SPP1+ TAM score', 'luoma | myeloid_cell - LAMP3+ DC score', 'luoma | myeloid_cell - CLEC9A+ DC score', 'luoma | immune_activity_scores - Tissue-resident memory  score', 'luoma | immune_activity_scores - Cytotoxicity  score', 'luoma | immune_activity_scores - NK cell receptors  score', 'luoma | immune_activity_scores - Inhibitory Receptors  score', 'luoma | Tx_signatures - Tx-E T cell Post-Tx signature  score', 'luoma | Tx_signatures - Tx-NE T cell Post-Tx signature  score', 'luoma | Tx_signatures - Tx-E T cell Pre-Tx signature  score', 'luoma | Tx_signatures - Tx-NE T cell Pre-Tx signature  score', 'copykat_prediction', 'copykat_cna_count', 'cell_type', 'cell_type_specific'\n",
       "    var: 'n_cells', 'mt', 'n_cells_by_counts', 'mean_counts', 'pct_dropout_by_counts', 'total_counts', 'highly_variable', 'means', 'dispersions', 'dispersions_norm', 'mean', 'std'\n",
       "    uns: 'cell_type_colors', 'cell_type_specific_colors', 'copykat_prediction_colors', 'dataset_colors', 'hvg', 'leiden', 'leiden_colors', 'log1p', 'neighbors', 'pca', 'rank_genes_groups', 'sample_id_colors', 'tissue_type_colors', 'umap'\n",
       "    obsm: 'X_pca', 'X_pca_harmony', 'X_umap'\n",
       "    varm: 'PCs'\n",
       "    layers: 'counts'\n",
       "    obsp: 'connectivities', 'distances'"
      ]
     },
     "execution_count": 2,
     "metadata": {},
     "output_type": "execute_result"
    }
   ],
   "source": [
    "a = sc.read_h5ad('../data/single_cell/annotated/all_annotated.h5ad')\n",
    "a"
   ]
  },
  {
   "cell_type": "code",
   "execution_count": 3,
   "id": "c66d359f",
   "metadata": {},
   "outputs": [
    {
     "data": {
      "text/plain": [
       "AnnData object with n_obs × n_vars = 196868 × 3000\n",
       "    obs: 'sample_id', 'dataset', 'tissue_type', 'cell_type', 'cell_type_specific', 'n_genes', 'n_genes_by_counts', 'total_counts', 'total_counts_mt', 'pct_counts_mt'\n",
       "    var: 'n_cells', 'mt', 'n_cells_by_counts', 'mean_counts', 'pct_dropout_by_counts', 'total_counts', 'highly_variable', 'means', 'dispersions', 'dispersions_norm', 'mean', 'std'\n",
       "    uns: 'hvg', 'log1p', 'neighbors', 'pca', 'umap'\n",
       "    obsm: 'X_pca', 'X_pca_harmony', 'X_umap'\n",
       "    varm: 'PCs'\n",
       "    layers: 'counts'"
      ]
     },
     "execution_count": 3,
     "metadata": {},
     "output_type": "execute_result"
    }
   ],
   "source": [
    "keep = ['sample_id', 'dataset', 'tissue_type', 'cell_type', 'cell_type_specific', 'n_genes', 'n_genes_by_counts',\n",
    "       'total_counts', 'total_counts_mt', 'pct_counts_mt']\n",
    "a.obs = a.obs.loc[:, keep]\n",
    "\n",
    "keep = ['hvg', 'log1p', 'neighbors', 'pca', 'umap']\n",
    "a.uns = {k:v for k, v in a.uns.items() if k in keep}\n",
    "\n",
    "a.obsp = None\n",
    "\n",
    "a\n",
    "\n"
   ]
  },
  {
   "cell_type": "code",
   "execution_count": 6,
   "id": "5f4481ae",
   "metadata": {},
   "outputs": [
    {
     "data": {
      "text/plain": [
       "(196868, 3000)"
      ]
     },
     "execution_count": 6,
     "metadata": {},
     "output_type": "execute_result"
    }
   ],
   "source": [
    "a.layers['counts']"
   ]
  },
  {
   "cell_type": "code",
   "execution_count": null,
   "id": "04283432",
   "metadata": {},
   "outputs": [],
   "source": []
  },
  {
   "cell_type": "code",
   "execution_count": 7,
   "id": "d411be30",
   "metadata": {},
   "outputs": [
    {
     "data": {
      "text/plain": [
       "AnnData object with n_obs × n_vars = 323120 × 34985\n",
       "    obs: 'sample_id', 'dataset', 'tissue_type'"
      ]
     },
     "execution_count": 7,
     "metadata": {},
     "output_type": "execute_result"
    }
   ],
   "source": [
    "counts = sc.read_h5ad('../data/single_cell/original/count_matrix/counts.h5ad')\n",
    "counts"
   ]
  },
  {
   "cell_type": "code",
   "execution_count": 9,
   "id": "34b323c4",
   "metadata": {},
   "outputs": [
    {
     "data": {
      "text/html": [
       "<div>\n",
       "<style scoped>\n",
       "    .dataframe tbody tr th:only-of-type {\n",
       "        vertical-align: middle;\n",
       "    }\n",
       "\n",
       "    .dataframe tbody tr th {\n",
       "        vertical-align: top;\n",
       "    }\n",
       "\n",
       "    .dataframe thead th {\n",
       "        text-align: right;\n",
       "    }\n",
       "</style>\n",
       "<table border=\"1\" class=\"dataframe\">\n",
       "  <thead>\n",
       "    <tr style=\"text-align: right;\">\n",
       "      <th></th>\n",
       "      <th>sample_id</th>\n",
       "      <th>dataset</th>\n",
       "      <th>tissue_type</th>\n",
       "    </tr>\n",
       "    <tr>\n",
       "      <th>cell_id</th>\n",
       "      <th></th>\n",
       "      <th></th>\n",
       "      <th></th>\n",
       "    </tr>\n",
       "  </thead>\n",
       "  <tbody>\n",
       "    <tr>\n",
       "      <th>htan01_AAACCTGAGACCTAGG-1</th>\n",
       "      <td>htan01</td>\n",
       "      <td>htan_surgical</td>\n",
       "      <td>tumor_primary</td>\n",
       "    </tr>\n",
       "    <tr>\n",
       "      <th>htan01_AAACCTGAGTGCGTGA-1</th>\n",
       "      <td>htan01</td>\n",
       "      <td>htan_surgical</td>\n",
       "      <td>tumor_primary</td>\n",
       "    </tr>\n",
       "    <tr>\n",
       "      <th>htan01_AAACCTGCAATCGGTT-1</th>\n",
       "      <td>htan01</td>\n",
       "      <td>htan_surgical</td>\n",
       "      <td>tumor_primary</td>\n",
       "    </tr>\n",
       "    <tr>\n",
       "      <th>htan01_AAACCTGCACCGTTGG-1</th>\n",
       "      <td>htan01</td>\n",
       "      <td>htan_surgical</td>\n",
       "      <td>tumor_primary</td>\n",
       "    </tr>\n",
       "    <tr>\n",
       "      <th>htan01_AAACCTGCATCCCACT-1</th>\n",
       "      <td>htan01</td>\n",
       "      <td>htan_surgical</td>\n",
       "      <td>tumor_primary</td>\n",
       "    </tr>\n",
       "    <tr>\n",
       "      <th>...</th>\n",
       "      <td>...</td>\n",
       "      <td>...</td>\n",
       "      <td>...</td>\n",
       "    </tr>\n",
       "    <tr>\n",
       "      <th>G9903_TTTGTCAAGTTGTCGT-1</th>\n",
       "      <td>G9903</td>\n",
       "      <td>chan-seng-yue</td>\n",
       "      <td>tumor_primary</td>\n",
       "    </tr>\n",
       "    <tr>\n",
       "      <th>G9903_TTTGTCACAACTTGAC-1</th>\n",
       "      <td>G9903</td>\n",
       "      <td>chan-seng-yue</td>\n",
       "      <td>tumor_primary</td>\n",
       "    </tr>\n",
       "    <tr>\n",
       "      <th>G9903_TTTGTCACATATGGTC-1</th>\n",
       "      <td>G9903</td>\n",
       "      <td>chan-seng-yue</td>\n",
       "      <td>tumor_primary</td>\n",
       "    </tr>\n",
       "    <tr>\n",
       "      <th>G9903_TTTGTCATCCGAACGC-1</th>\n",
       "      <td>G9903</td>\n",
       "      <td>chan-seng-yue</td>\n",
       "      <td>tumor_primary</td>\n",
       "    </tr>\n",
       "    <tr>\n",
       "      <th>G9903_TTTGTCATCTCTTGAT-1</th>\n",
       "      <td>G9903</td>\n",
       "      <td>chan-seng-yue</td>\n",
       "      <td>tumor_primary</td>\n",
       "    </tr>\n",
       "  </tbody>\n",
       "</table>\n",
       "<p>323120 rows × 3 columns</p>\n",
       "</div>"
      ],
      "text/plain": [
       "                          sample_id        dataset    tissue_type\n",
       "cell_id                                                          \n",
       "htan01_AAACCTGAGACCTAGG-1    htan01  htan_surgical  tumor_primary\n",
       "htan01_AAACCTGAGTGCGTGA-1    htan01  htan_surgical  tumor_primary\n",
       "htan01_AAACCTGCAATCGGTT-1    htan01  htan_surgical  tumor_primary\n",
       "htan01_AAACCTGCACCGTTGG-1    htan01  htan_surgical  tumor_primary\n",
       "htan01_AAACCTGCATCCCACT-1    htan01  htan_surgical  tumor_primary\n",
       "...                             ...            ...            ...\n",
       "G9903_TTTGTCAAGTTGTCGT-1      G9903  chan-seng-yue  tumor_primary\n",
       "G9903_TTTGTCACAACTTGAC-1      G9903  chan-seng-yue  tumor_primary\n",
       "G9903_TTTGTCACATATGGTC-1      G9903  chan-seng-yue  tumor_primary\n",
       "G9903_TTTGTCATCCGAACGC-1      G9903  chan-seng-yue  tumor_primary\n",
       "G9903_TTTGTCATCTCTTGAT-1      G9903  chan-seng-yue  tumor_primary\n",
       "\n",
       "[323120 rows x 3 columns]"
      ]
     },
     "execution_count": 9,
     "metadata": {},
     "output_type": "execute_result"
    }
   ],
   "source": [
    "counts.obs"
   ]
  },
  {
   "cell_type": "code",
   "execution_count": 14,
   "id": "379d0d39",
   "metadata": {},
   "outputs": [],
   "source": [
    "counts.obs = pd.merge(\n",
    "    counts.obs, a.obs[['cell_type', 'cell_type_specific']], left_index=True, right_index=True, how='left')"
   ]
  },
  {
   "cell_type": "code",
   "execution_count": 15,
   "id": "774f740c",
   "metadata": {},
   "outputs": [],
   "source": [
    "counts.obs['filtered'] = pd.isnull(counts.obs['cell_type'])"
   ]
  },
  {
   "cell_type": "code",
   "execution_count": 16,
   "id": "621f4404",
   "metadata": {},
   "outputs": [
    {
     "data": {
      "text/html": [
       "<div>\n",
       "<style scoped>\n",
       "    .dataframe tbody tr th:only-of-type {\n",
       "        vertical-align: middle;\n",
       "    }\n",
       "\n",
       "    .dataframe tbody tr th {\n",
       "        vertical-align: top;\n",
       "    }\n",
       "\n",
       "    .dataframe thead th {\n",
       "        text-align: right;\n",
       "    }\n",
       "</style>\n",
       "<table border=\"1\" class=\"dataframe\">\n",
       "  <thead>\n",
       "    <tr style=\"text-align: right;\">\n",
       "      <th></th>\n",
       "      <th>sample_id</th>\n",
       "      <th>dataset</th>\n",
       "      <th>tissue_type</th>\n",
       "      <th>cell_type</th>\n",
       "      <th>cell_type_specific</th>\n",
       "      <th>filtered</th>\n",
       "    </tr>\n",
       "    <tr>\n",
       "      <th>cell_id</th>\n",
       "      <th></th>\n",
       "      <th></th>\n",
       "      <th></th>\n",
       "      <th></th>\n",
       "      <th></th>\n",
       "      <th></th>\n",
       "    </tr>\n",
       "  </thead>\n",
       "  <tbody>\n",
       "    <tr>\n",
       "      <th>htan01_AAACCTGAGACCTAGG-1</th>\n",
       "      <td>htan01</td>\n",
       "      <td>htan_surgical</td>\n",
       "      <td>tumor_primary</td>\n",
       "      <td>NK/T cell</td>\n",
       "      <td>NK</td>\n",
       "      <td>False</td>\n",
       "    </tr>\n",
       "    <tr>\n",
       "      <th>htan01_AAACCTGAGTGCGTGA-1</th>\n",
       "      <td>htan01</td>\n",
       "      <td>htan_surgical</td>\n",
       "      <td>tumor_primary</td>\n",
       "      <td>Malignant</td>\n",
       "      <td>Malignant - Classical</td>\n",
       "      <td>False</td>\n",
       "    </tr>\n",
       "    <tr>\n",
       "      <th>htan01_AAACCTGCAATCGGTT-1</th>\n",
       "      <td>htan01</td>\n",
       "      <td>htan_surgical</td>\n",
       "      <td>tumor_primary</td>\n",
       "      <td>NaN</td>\n",
       "      <td>NaN</td>\n",
       "      <td>True</td>\n",
       "    </tr>\n",
       "    <tr>\n",
       "      <th>htan01_AAACCTGCACCGTTGG-1</th>\n",
       "      <td>htan01</td>\n",
       "      <td>htan_surgical</td>\n",
       "      <td>tumor_primary</td>\n",
       "      <td>NaN</td>\n",
       "      <td>NaN</td>\n",
       "      <td>True</td>\n",
       "    </tr>\n",
       "    <tr>\n",
       "      <th>htan01_AAACCTGCATCCCACT-1</th>\n",
       "      <td>htan01</td>\n",
       "      <td>htan_surgical</td>\n",
       "      <td>tumor_primary</td>\n",
       "      <td>NK/T cell</td>\n",
       "      <td>Treg</td>\n",
       "      <td>False</td>\n",
       "    </tr>\n",
       "    <tr>\n",
       "      <th>...</th>\n",
       "      <td>...</td>\n",
       "      <td>...</td>\n",
       "      <td>...</td>\n",
       "      <td>...</td>\n",
       "      <td>...</td>\n",
       "      <td>...</td>\n",
       "    </tr>\n",
       "    <tr>\n",
       "      <th>G9903_TTTGTCAAGTTGTCGT-1</th>\n",
       "      <td>G9903</td>\n",
       "      <td>chan-seng-yue</td>\n",
       "      <td>tumor_primary</td>\n",
       "      <td>Fibroblast</td>\n",
       "      <td>iCAF</td>\n",
       "      <td>False</td>\n",
       "    </tr>\n",
       "    <tr>\n",
       "      <th>G9903_TTTGTCACAACTTGAC-1</th>\n",
       "      <td>G9903</td>\n",
       "      <td>chan-seng-yue</td>\n",
       "      <td>tumor_primary</td>\n",
       "      <td>Fibroblast</td>\n",
       "      <td>myCAF</td>\n",
       "      <td>False</td>\n",
       "    </tr>\n",
       "    <tr>\n",
       "      <th>G9903_TTTGTCACATATGGTC-1</th>\n",
       "      <td>G9903</td>\n",
       "      <td>chan-seng-yue</td>\n",
       "      <td>tumor_primary</td>\n",
       "      <td>Malignant</td>\n",
       "      <td>Malignant - Classical</td>\n",
       "      <td>False</td>\n",
       "    </tr>\n",
       "    <tr>\n",
       "      <th>G9903_TTTGTCATCCGAACGC-1</th>\n",
       "      <td>G9903</td>\n",
       "      <td>chan-seng-yue</td>\n",
       "      <td>tumor_primary</td>\n",
       "      <td>Malignant</td>\n",
       "      <td>Malignant - Classical</td>\n",
       "      <td>False</td>\n",
       "    </tr>\n",
       "    <tr>\n",
       "      <th>G9903_TTTGTCATCTCTTGAT-1</th>\n",
       "      <td>G9903</td>\n",
       "      <td>chan-seng-yue</td>\n",
       "      <td>tumor_primary</td>\n",
       "      <td>NaN</td>\n",
       "      <td>NaN</td>\n",
       "      <td>True</td>\n",
       "    </tr>\n",
       "  </tbody>\n",
       "</table>\n",
       "<p>323120 rows × 6 columns</p>\n",
       "</div>"
      ],
      "text/plain": [
       "                          sample_id        dataset    tissue_type   cell_type  \\\n",
       "cell_id                                                                         \n",
       "htan01_AAACCTGAGACCTAGG-1    htan01  htan_surgical  tumor_primary   NK/T cell   \n",
       "htan01_AAACCTGAGTGCGTGA-1    htan01  htan_surgical  tumor_primary   Malignant   \n",
       "htan01_AAACCTGCAATCGGTT-1    htan01  htan_surgical  tumor_primary         NaN   \n",
       "htan01_AAACCTGCACCGTTGG-1    htan01  htan_surgical  tumor_primary         NaN   \n",
       "htan01_AAACCTGCATCCCACT-1    htan01  htan_surgical  tumor_primary   NK/T cell   \n",
       "...                             ...            ...            ...         ...   \n",
       "G9903_TTTGTCAAGTTGTCGT-1      G9903  chan-seng-yue  tumor_primary  Fibroblast   \n",
       "G9903_TTTGTCACAACTTGAC-1      G9903  chan-seng-yue  tumor_primary  Fibroblast   \n",
       "G9903_TTTGTCACATATGGTC-1      G9903  chan-seng-yue  tumor_primary   Malignant   \n",
       "G9903_TTTGTCATCCGAACGC-1      G9903  chan-seng-yue  tumor_primary   Malignant   \n",
       "G9903_TTTGTCATCTCTTGAT-1      G9903  chan-seng-yue  tumor_primary         NaN   \n",
       "\n",
       "                              cell_type_specific  filtered  \n",
       "cell_id                                                     \n",
       "htan01_AAACCTGAGACCTAGG-1                     NK     False  \n",
       "htan01_AAACCTGAGTGCGTGA-1  Malignant - Classical     False  \n",
       "htan01_AAACCTGCAATCGGTT-1                    NaN      True  \n",
       "htan01_AAACCTGCACCGTTGG-1                    NaN      True  \n",
       "htan01_AAACCTGCATCCCACT-1                   Treg     False  \n",
       "...                                          ...       ...  \n",
       "G9903_TTTGTCAAGTTGTCGT-1                    iCAF     False  \n",
       "G9903_TTTGTCACAACTTGAC-1                   myCAF     False  \n",
       "G9903_TTTGTCACATATGGTC-1   Malignant - Classical     False  \n",
       "G9903_TTTGTCATCCGAACGC-1   Malignant - Classical     False  \n",
       "G9903_TTTGTCATCTCTTGAT-1                     NaN      True  \n",
       "\n",
       "[323120 rows x 6 columns]"
      ]
     },
     "execution_count": 16,
     "metadata": {},
     "output_type": "execute_result"
    }
   ],
   "source": [
    "counts.obs"
   ]
  },
  {
   "cell_type": "code",
   "execution_count": 17,
   "id": "d6722b2e",
   "metadata": {},
   "outputs": [
    {
     "data": {
      "text/plain": [
       "AnnData object with n_obs × n_vars = 323120 × 34985\n",
       "    obs: 'sample_id', 'dataset', 'tissue_type', 'cell_type', 'cell_type_specific', 'filtered'"
      ]
     },
     "execution_count": 17,
     "metadata": {},
     "output_type": "execute_result"
    }
   ],
   "source": [
    "counts"
   ]
  },
  {
   "cell_type": "code",
   "execution_count": 19,
   "id": "01e5cee5",
   "metadata": {},
   "outputs": [],
   "source": [
    "counts.write_h5ad('../data/single_cell/uploaded/counts.h5ad')"
   ]
  },
  {
   "cell_type": "code",
   "execution_count": 20,
   "id": "70cf5bc4",
   "metadata": {},
   "outputs": [
    {
     "data": {
      "text/plain": [
       "<323120x34985 sparse matrix of type '<class 'numpy.float32'>'\n",
       "\twith 547692474 stored elements in Compressed Sparse Row format>"
      ]
     },
     "execution_count": 20,
     "metadata": {},
     "output_type": "execute_result"
    }
   ],
   "source": [
    "counts.X"
   ]
  },
  {
   "cell_type": "code",
   "execution_count": null,
   "id": "ac323f19",
   "metadata": {},
   "outputs": [],
   "source": []
  }
 ],
 "metadata": {
  "kernelspec": {
   "display_name": "Python 3 (ipykernel)",
   "language": "python",
   "name": "python3"
  },
  "language_info": {
   "codemirror_mode": {
    "name": "ipython",
    "version": 3
   },
   "file_extension": ".py",
   "mimetype": "text/x-python",
   "name": "python",
   "nbconvert_exporter": "python",
   "pygments_lexer": "ipython3",
   "version": "3.7.12"
  }
 },
 "nbformat": 4,
 "nbformat_minor": 5
}
