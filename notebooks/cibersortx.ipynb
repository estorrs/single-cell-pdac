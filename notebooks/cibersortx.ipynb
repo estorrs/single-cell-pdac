{
 "cells": [
  {
   "cell_type": "code",
   "execution_count": 15,
   "id": "e0b7e427",
   "metadata": {},
   "outputs": [],
   "source": [
    "import os\n",
    "from pathlib import Path\n",
    "\n",
    "import pandas as pd\n",
    "import numpy as np\n",
    "import scanpy as sc\n"
   ]
  },
  {
   "cell_type": "markdown",
   "id": "e2663848",
   "metadata": {},
   "source": [
    "#### prepare inputs for cibersortx"
   ]
  },
  {
   "cell_type": "code",
   "execution_count": 2,
   "id": "4b24a806",
   "metadata": {
    "scrolled": true
   },
   "outputs": [
    {
     "data": {
      "text/plain": [
       "AnnData object with n_obs × n_vars = 113052 × 29227\n",
       "    obs: 'orig.ident', 'nCount_RNA', 'nFeature_RNA', 'percent.mt', 'nCount_SCT', 'nFeature_SCT', 'CELL', 'CONDITION', 'Patient', 'Type', 'Cell_type', 'integrated_snn_res.0.75', 'seurat_clusters', 'sample_id', 'cell_type', 'pollock_cell_type', 'dataset', 'Bailey | ADEX | score', 'Bailey | Squamous-like | score', 'Bailey | Pancreatic-Progenitor | score', 'Bailey | Immunogenic | score', 'Collison | Exocrine-like | score', 'Collison | Quasi-Mesenchymal | score', 'Collison | Classical | score', 'Moffit | Basal | score', 'Moffit | Classical | score', 'subTME | deserted | score', 'subTME | reactive | score', 'raghaven | scBasal | score', 'raghaven | scClassical | score', 'raghaven | IC | score', 'raghaven | Pericyte-like | score', 'raghaven | Fibroblast-like | score', 'raghaven | Inflammatory | score', 'raghaven | TAM-FCN1 | score', 'raghaven | TAM-C1QC | score', 'raghaven | TAM-SPP1 | score', 'elyada | myCAF | score', 'elyada | iCAF | score', 'elyada | apCAF | score', 'ben-porath | ES exp1 | score', 'ben-porath | ES exp2 | score', 'ben-porath | Nanog targets | score', 'ben-porath | Oct4 targets | score', 'ben-porath | Sox2 targets | score', 'ben-porath | NOS targets | score', 'ben-porath | NOS TFs | score', 'ben-porath | Suz12 targets | score', 'ben-porath | Eed targets | score', 'ben-porath | H3K27 bound | score', 'ben-porath | PRC2 targets | score', 'ben-porath | Myc targets1 | score', 'ben-porath | Myc targets2 | score', 'ben-porath | Genes functionally associated with proliferation | score', 'ben-porath | Cycling genes | score', 'ben-porath | Proliferation cluster | score', 'ben-porath | ES TFs | score', 'wong | stem_core | score', 'sanchez-vega | Cell Cycle | score', 'sanchez-vega | HIPPO | score', 'sanchez-vega | MYC | score', 'sanchez-vega | NOTCH | score', 'sanchez-vega | NRF2 | score', 'sanchez-vega | PI3K | score', 'sanchez-vega | TGF-Beta | score', 'sanchez-vega | RTK RAS | score', 'sanchez-vega | TP53 | score', 'sanchez-vega | WNT | score', 'Chan-Seng-Yue | Signature 2 (Basal-like A) | score', 'Chan-Seng-Yue | Signature 10 (Basal-like B) | score', 'Chan-Seng-Yue | Signature 1 (Classical A) | score', 'Chan-Seng-Yue | Signature 6 (Classical B) | score', 'MCPcounter | MCPcounter_B lineage | score', 'MCPcounter | MCPcounter_CD8 T cells | score', 'MCPcounter | MCPcounter_Cytotoxic lymphocytes | score', 'MCPcounter | MCPcounter_Endothelial cells | score', 'MCPcounter | MCPcounter_Fibroblasts | score', 'MCPcounter | MCPcounter_Monocytic lineage | score', 'MCPcounter | MCPcounter_Myeloid dendritic cells | score', 'MCPcounter | MCPcounter_NK cells | score', 'MCPcounter | MCPcounter_Neutrophils | score', 'MCPcounter | MCPcounter_T cells | score', 'Immunophenogram | Immunophenogram_Activated B cell: Adaptive | score', 'Immunophenogram | Immunophenogram_Activated CD4 T cell: Adaptive | score', 'Immunophenogram | Immunophenogram_Activated CD8 T cell: Adaptive | score', 'Immunophenogram | Immunophenogram_Central memory CD4 T cell: Adaptive | score', 'Immunophenogram | Immunophenogram_Central memory CD8 T cell: Adaptive | score', 'Immunophenogram | Immunophenogram_Effector memeory CD4 T cell: Adaptive | score', 'Immunophenogram | Immunophenogram_Effector memeory CD8 T cell: Adaptive | score', 'Immunophenogram | Immunophenogram_Gamma delta T cell: Adaptive | score', 'Immunophenogram | Immunophenogram_Immature  B cell: Adaptive | score', 'Immunophenogram | Immunophenogram_Memory B cell: Adaptive | score', 'Immunophenogram | Immunophenogram_Regulatory T cell: Adaptive | score', 'Immunophenogram | Immunophenogram_T follicular helper cell: Adaptive | score', 'Immunophenogram | Immunophenogram_Type 1 T helper cell: Adaptive | score', 'Immunophenogram | Immunophenogram_Type 17 T helper cell: Adaptive | score', 'Immunophenogram | Immunophenogram_Type 2 T helper cell: Adaptive | score', 'Immunophenogram | Immunophenogram_Activated dendritic cell: Innate | score', 'Immunophenogram | Immunophenogram_CD56bright natural killer cell: Innate | score', 'Immunophenogram | Immunophenogram_CD56dim natural killer cell: Innate | score', 'Immunophenogram | Immunophenogram_Eosinophil: Innate | score', 'Immunophenogram | Immunophenogram_Immature dendritic cell: Innate | score', 'Immunophenogram | Immunophenogram_Macrophage: Innate | score', 'Immunophenogram | Immunophenogram_Mast cell: Innate | score', 'Immunophenogram | Immunophenogram_MDSC: Innate | score', 'Immunophenogram | Immunophenogram_Monocyte: Innate | score', 'Immunophenogram | Immunophenogram_Natural killer cell: Innate | score', 'Immunophenogram | Immunophenogram_Natural killer T cell: Innate | score', 'Immunophenogram | Immunophenogram_Neutrophil: Innate | score', 'Immunophenogram | Immunophenogram_Plasmacytoid dendritic cell: Innate | score', 'CYT | CYT_score_genes | score', 'copykat_prediction', 'copykat_cna_count', 'cytotrace', 'cell_type_specific', 'cytotrace_mesenchymal', 'cell_type_specific_v2', 'malignant_recluster_cell_type', 'cell_type_specific_v3', 'cell_type_specific_final'\n",
       "    uns: 'cell_type_colors', 'cell_type_specific_colors', 'cell_type_specific_v2_colors', 'cell_type_specific_v3_colors', 'cytogenes', 'cytogenes_mesenchymal', 'dataset_colors', 'pollock_cell_type_colors', 'sample_id_colors'\n",
       "    obsm: 'X_umap', 'X_umap_pollock', 'pollock_prediction_probs'\n",
       "    layers: 'counts'"
      ]
     },
     "execution_count": 2,
     "metadata": {},
     "output_type": "execute_result"
    }
   ],
   "source": [
    "sct = sc.read_h5ad('../data/single_cell/checkpoints/non_eus_processed.h5ad')\n",
    "sct"
   ]
  },
  {
   "cell_type": "code",
   "execution_count": 19,
   "id": "9b7f7802",
   "metadata": {},
   "outputs": [],
   "source": [
    "# from collections import Counter\n",
    "# for dataset in set(sct.obs['dataset']):\n",
    "#     print(dataset)\n",
    "#     tups = Counter(sct[sct.obs['dataset']==dataset].obs['cell_type_specific_final']).most_common()\n",
    "#     for ct, c in tups:\n",
    "#         print(ct, c)"
   ]
  },
  {
   "cell_type": "code",
   "execution_count": 3,
   "id": "20b64852",
   "metadata": {
    "scrolled": true
   },
   "outputs": [],
   "source": [
    "# # subsample to 5k cells per cell type\n",
    "# cell_types = sorted(set(sct.obs['cell_type_specific_final']))\n",
    "# pool = []\n",
    "# for ct in cell_types:\n",
    "#     if 'Exclude' not in ct:\n",
    "#         f = sct[sct.obs['cell_type_specific_final']==ct]\n",
    "#         ids = list(np.random.choice(f.obs.index.to_list(), size=min(500, f.shape[0]), replace=False))\n",
    "#         pool += ids\n",
    "# f = sct[pool]\n",
    "# f"
   ]
  },
  {
   "cell_type": "code",
   "execution_count": 4,
   "id": "1fa240a5",
   "metadata": {
    "scrolled": true
   },
   "outputs": [
    {
     "data": {
      "text/plain": [
       "View of AnnData object with n_obs × n_vars = 104486 × 29227\n",
       "    obs: 'orig.ident', 'nCount_RNA', 'nFeature_RNA', 'percent.mt', 'nCount_SCT', 'nFeature_SCT', 'CELL', 'CONDITION', 'Patient', 'Type', 'Cell_type', 'integrated_snn_res.0.75', 'seurat_clusters', 'sample_id', 'cell_type', 'pollock_cell_type', 'dataset', 'Bailey | ADEX | score', 'Bailey | Squamous-like | score', 'Bailey | Pancreatic-Progenitor | score', 'Bailey | Immunogenic | score', 'Collison | Exocrine-like | score', 'Collison | Quasi-Mesenchymal | score', 'Collison | Classical | score', 'Moffit | Basal | score', 'Moffit | Classical | score', 'subTME | deserted | score', 'subTME | reactive | score', 'raghaven | scBasal | score', 'raghaven | scClassical | score', 'raghaven | IC | score', 'raghaven | Pericyte-like | score', 'raghaven | Fibroblast-like | score', 'raghaven | Inflammatory | score', 'raghaven | TAM-FCN1 | score', 'raghaven | TAM-C1QC | score', 'raghaven | TAM-SPP1 | score', 'elyada | myCAF | score', 'elyada | iCAF | score', 'elyada | apCAF | score', 'ben-porath | ES exp1 | score', 'ben-porath | ES exp2 | score', 'ben-porath | Nanog targets | score', 'ben-porath | Oct4 targets | score', 'ben-porath | Sox2 targets | score', 'ben-porath | NOS targets | score', 'ben-porath | NOS TFs | score', 'ben-porath | Suz12 targets | score', 'ben-porath | Eed targets | score', 'ben-porath | H3K27 bound | score', 'ben-porath | PRC2 targets | score', 'ben-porath | Myc targets1 | score', 'ben-porath | Myc targets2 | score', 'ben-porath | Genes functionally associated with proliferation | score', 'ben-porath | Cycling genes | score', 'ben-porath | Proliferation cluster | score', 'ben-porath | ES TFs | score', 'wong | stem_core | score', 'sanchez-vega | Cell Cycle | score', 'sanchez-vega | HIPPO | score', 'sanchez-vega | MYC | score', 'sanchez-vega | NOTCH | score', 'sanchez-vega | NRF2 | score', 'sanchez-vega | PI3K | score', 'sanchez-vega | TGF-Beta | score', 'sanchez-vega | RTK RAS | score', 'sanchez-vega | TP53 | score', 'sanchez-vega | WNT | score', 'Chan-Seng-Yue | Signature 2 (Basal-like A) | score', 'Chan-Seng-Yue | Signature 10 (Basal-like B) | score', 'Chan-Seng-Yue | Signature 1 (Classical A) | score', 'Chan-Seng-Yue | Signature 6 (Classical B) | score', 'MCPcounter | MCPcounter_B lineage | score', 'MCPcounter | MCPcounter_CD8 T cells | score', 'MCPcounter | MCPcounter_Cytotoxic lymphocytes | score', 'MCPcounter | MCPcounter_Endothelial cells | score', 'MCPcounter | MCPcounter_Fibroblasts | score', 'MCPcounter | MCPcounter_Monocytic lineage | score', 'MCPcounter | MCPcounter_Myeloid dendritic cells | score', 'MCPcounter | MCPcounter_NK cells | score', 'MCPcounter | MCPcounter_Neutrophils | score', 'MCPcounter | MCPcounter_T cells | score', 'Immunophenogram | Immunophenogram_Activated B cell: Adaptive | score', 'Immunophenogram | Immunophenogram_Activated CD4 T cell: Adaptive | score', 'Immunophenogram | Immunophenogram_Activated CD8 T cell: Adaptive | score', 'Immunophenogram | Immunophenogram_Central memory CD4 T cell: Adaptive | score', 'Immunophenogram | Immunophenogram_Central memory CD8 T cell: Adaptive | score', 'Immunophenogram | Immunophenogram_Effector memeory CD4 T cell: Adaptive | score', 'Immunophenogram | Immunophenogram_Effector memeory CD8 T cell: Adaptive | score', 'Immunophenogram | Immunophenogram_Gamma delta T cell: Adaptive | score', 'Immunophenogram | Immunophenogram_Immature  B cell: Adaptive | score', 'Immunophenogram | Immunophenogram_Memory B cell: Adaptive | score', 'Immunophenogram | Immunophenogram_Regulatory T cell: Adaptive | score', 'Immunophenogram | Immunophenogram_T follicular helper cell: Adaptive | score', 'Immunophenogram | Immunophenogram_Type 1 T helper cell: Adaptive | score', 'Immunophenogram | Immunophenogram_Type 17 T helper cell: Adaptive | score', 'Immunophenogram | Immunophenogram_Type 2 T helper cell: Adaptive | score', 'Immunophenogram | Immunophenogram_Activated dendritic cell: Innate | score', 'Immunophenogram | Immunophenogram_CD56bright natural killer cell: Innate | score', 'Immunophenogram | Immunophenogram_CD56dim natural killer cell: Innate | score', 'Immunophenogram | Immunophenogram_Eosinophil: Innate | score', 'Immunophenogram | Immunophenogram_Immature dendritic cell: Innate | score', 'Immunophenogram | Immunophenogram_Macrophage: Innate | score', 'Immunophenogram | Immunophenogram_Mast cell: Innate | score', 'Immunophenogram | Immunophenogram_MDSC: Innate | score', 'Immunophenogram | Immunophenogram_Monocyte: Innate | score', 'Immunophenogram | Immunophenogram_Natural killer cell: Innate | score', 'Immunophenogram | Immunophenogram_Natural killer T cell: Innate | score', 'Immunophenogram | Immunophenogram_Neutrophil: Innate | score', 'Immunophenogram | Immunophenogram_Plasmacytoid dendritic cell: Innate | score', 'CYT | CYT_score_genes | score', 'copykat_prediction', 'copykat_cna_count', 'cytotrace', 'cell_type_specific', 'cytotrace_mesenchymal', 'cell_type_specific_v2', 'malignant_recluster_cell_type', 'cell_type_specific_v3', 'cell_type_specific_final'\n",
       "    uns: 'cell_type_colors', 'cell_type_specific_v3_colors', 'cytogenes', 'cytogenes_mesenchymal', 'dataset_colors', 'pollock_cell_type_colors', 'sample_id_colors'\n",
       "    obsm: 'X_umap', 'X_umap_pollock', 'pollock_prediction_probs'\n",
       "    layers: 'counts'"
      ]
     },
     "execution_count": 4,
     "metadata": {},
     "output_type": "execute_result"
    }
   ],
   "source": [
    "sct = sct[[True if 'Exclude' not in c else False\n",
    "          for c in sct.obs['cell_type_specific_final']]]\n",
    "sct"
   ]
  },
  {
   "cell_type": "code",
   "execution_count": null,
   "id": "db9e03b4",
   "metadata": {},
   "outputs": [],
   "source": []
  },
  {
   "cell_type": "code",
   "execution_count": 7,
   "id": "c0218524",
   "metadata": {},
   "outputs": [
    {
     "data": {
      "text/plain": [
       "20297"
      ]
     },
     "execution_count": 7,
     "metadata": {},
     "output_type": "execute_result"
    }
   ],
   "source": [
    "from mgitools.os_helpers import listfiles\n",
    "bulk_fps = sorted(listfiles('../data/bulk_rna_seq/', regex=r'bulk_rna_seq/[^/]+_counts.txt$'))\n",
    "ref_genes = set(sct.var.index.to_list())\n",
    "bulk_genes = set()\n",
    "for fp in bulk_fps:\n",
    "    df = pd.read_csv(fp, sep='\\t', index_col=0)\n",
    "    bulk_genes.update(set(df.index.to_list()))\n",
    "keep = bulk_genes.intersection(ref_genes)\n",
    "len(keep)"
   ]
  },
  {
   "cell_type": "code",
   "execution_count": 9,
   "id": "13c4c8c7",
   "metadata": {
    "scrolled": true
   },
   "outputs": [
    {
     "data": {
      "text/plain": [
       "View of AnnData object with n_obs × n_vars = 104486 × 20297\n",
       "    obs: 'orig.ident', 'nCount_RNA', 'nFeature_RNA', 'percent.mt', 'nCount_SCT', 'nFeature_SCT', 'CELL', 'CONDITION', 'Patient', 'Type', 'Cell_type', 'integrated_snn_res.0.75', 'seurat_clusters', 'sample_id', 'cell_type', 'pollock_cell_type', 'dataset', 'Bailey | ADEX | score', 'Bailey | Squamous-like | score', 'Bailey | Pancreatic-Progenitor | score', 'Bailey | Immunogenic | score', 'Collison | Exocrine-like | score', 'Collison | Quasi-Mesenchymal | score', 'Collison | Classical | score', 'Moffit | Basal | score', 'Moffit | Classical | score', 'subTME | deserted | score', 'subTME | reactive | score', 'raghaven | scBasal | score', 'raghaven | scClassical | score', 'raghaven | IC | score', 'raghaven | Pericyte-like | score', 'raghaven | Fibroblast-like | score', 'raghaven | Inflammatory | score', 'raghaven | TAM-FCN1 | score', 'raghaven | TAM-C1QC | score', 'raghaven | TAM-SPP1 | score', 'elyada | myCAF | score', 'elyada | iCAF | score', 'elyada | apCAF | score', 'ben-porath | ES exp1 | score', 'ben-porath | ES exp2 | score', 'ben-porath | Nanog targets | score', 'ben-porath | Oct4 targets | score', 'ben-porath | Sox2 targets | score', 'ben-porath | NOS targets | score', 'ben-porath | NOS TFs | score', 'ben-porath | Suz12 targets | score', 'ben-porath | Eed targets | score', 'ben-porath | H3K27 bound | score', 'ben-porath | PRC2 targets | score', 'ben-porath | Myc targets1 | score', 'ben-porath | Myc targets2 | score', 'ben-porath | Genes functionally associated with proliferation | score', 'ben-porath | Cycling genes | score', 'ben-porath | Proliferation cluster | score', 'ben-porath | ES TFs | score', 'wong | stem_core | score', 'sanchez-vega | Cell Cycle | score', 'sanchez-vega | HIPPO | score', 'sanchez-vega | MYC | score', 'sanchez-vega | NOTCH | score', 'sanchez-vega | NRF2 | score', 'sanchez-vega | PI3K | score', 'sanchez-vega | TGF-Beta | score', 'sanchez-vega | RTK RAS | score', 'sanchez-vega | TP53 | score', 'sanchez-vega | WNT | score', 'Chan-Seng-Yue | Signature 2 (Basal-like A) | score', 'Chan-Seng-Yue | Signature 10 (Basal-like B) | score', 'Chan-Seng-Yue | Signature 1 (Classical A) | score', 'Chan-Seng-Yue | Signature 6 (Classical B) | score', 'MCPcounter | MCPcounter_B lineage | score', 'MCPcounter | MCPcounter_CD8 T cells | score', 'MCPcounter | MCPcounter_Cytotoxic lymphocytes | score', 'MCPcounter | MCPcounter_Endothelial cells | score', 'MCPcounter | MCPcounter_Fibroblasts | score', 'MCPcounter | MCPcounter_Monocytic lineage | score', 'MCPcounter | MCPcounter_Myeloid dendritic cells | score', 'MCPcounter | MCPcounter_NK cells | score', 'MCPcounter | MCPcounter_Neutrophils | score', 'MCPcounter | MCPcounter_T cells | score', 'Immunophenogram | Immunophenogram_Activated B cell: Adaptive | score', 'Immunophenogram | Immunophenogram_Activated CD4 T cell: Adaptive | score', 'Immunophenogram | Immunophenogram_Activated CD8 T cell: Adaptive | score', 'Immunophenogram | Immunophenogram_Central memory CD4 T cell: Adaptive | score', 'Immunophenogram | Immunophenogram_Central memory CD8 T cell: Adaptive | score', 'Immunophenogram | Immunophenogram_Effector memeory CD4 T cell: Adaptive | score', 'Immunophenogram | Immunophenogram_Effector memeory CD8 T cell: Adaptive | score', 'Immunophenogram | Immunophenogram_Gamma delta T cell: Adaptive | score', 'Immunophenogram | Immunophenogram_Immature  B cell: Adaptive | score', 'Immunophenogram | Immunophenogram_Memory B cell: Adaptive | score', 'Immunophenogram | Immunophenogram_Regulatory T cell: Adaptive | score', 'Immunophenogram | Immunophenogram_T follicular helper cell: Adaptive | score', 'Immunophenogram | Immunophenogram_Type 1 T helper cell: Adaptive | score', 'Immunophenogram | Immunophenogram_Type 17 T helper cell: Adaptive | score', 'Immunophenogram | Immunophenogram_Type 2 T helper cell: Adaptive | score', 'Immunophenogram | Immunophenogram_Activated dendritic cell: Innate | score', 'Immunophenogram | Immunophenogram_CD56bright natural killer cell: Innate | score', 'Immunophenogram | Immunophenogram_CD56dim natural killer cell: Innate | score', 'Immunophenogram | Immunophenogram_Eosinophil: Innate | score', 'Immunophenogram | Immunophenogram_Immature dendritic cell: Innate | score', 'Immunophenogram | Immunophenogram_Macrophage: Innate | score', 'Immunophenogram | Immunophenogram_Mast cell: Innate | score', 'Immunophenogram | Immunophenogram_MDSC: Innate | score', 'Immunophenogram | Immunophenogram_Monocyte: Innate | score', 'Immunophenogram | Immunophenogram_Natural killer cell: Innate | score', 'Immunophenogram | Immunophenogram_Natural killer T cell: Innate | score', 'Immunophenogram | Immunophenogram_Neutrophil: Innate | score', 'Immunophenogram | Immunophenogram_Plasmacytoid dendritic cell: Innate | score', 'CYT | CYT_score_genes | score', 'copykat_prediction', 'copykat_cna_count', 'cytotrace', 'cell_type_specific', 'cytotrace_mesenchymal', 'cell_type_specific_v2', 'malignant_recluster_cell_type', 'cell_type_specific_v3', 'cell_type_specific_final'\n",
       "    uns: 'cell_type_colors', 'cell_type_specific_v3_colors', 'cytogenes', 'cytogenes_mesenchymal', 'dataset_colors', 'pollock_cell_type_colors', 'sample_id_colors'\n",
       "    obsm: 'X_umap', 'X_umap_pollock', 'pollock_prediction_probs'\n",
       "    layers: 'counts'"
      ]
     },
     "execution_count": 9,
     "metadata": {},
     "output_type": "execute_result"
    }
   ],
   "source": [
    "f = sct[:, sorted(keep)]\n",
    "f"
   ]
  },
  {
   "cell_type": "code",
   "execution_count": 10,
   "id": "377a89bc",
   "metadata": {},
   "outputs": [
    {
     "data": {
      "text/html": [
       "<div>\n",
       "<style scoped>\n",
       "    .dataframe tbody tr th:only-of-type {\n",
       "        vertical-align: middle;\n",
       "    }\n",
       "\n",
       "    .dataframe tbody tr th {\n",
       "        vertical-align: top;\n",
       "    }\n",
       "\n",
       "    .dataframe thead th {\n",
       "        text-align: right;\n",
       "    }\n",
       "</style>\n",
       "<table border=\"1\" class=\"dataframe\">\n",
       "  <thead>\n",
       "    <tr style=\"text-align: right;\">\n",
       "      <th></th>\n",
       "      <th>NK</th>\n",
       "      <th>Malignant - Classical</th>\n",
       "      <th>Treg</th>\n",
       "      <th>B cell</th>\n",
       "      <th>CD8 T cell</th>\n",
       "      <th>Malignant - Proliferating Classical</th>\n",
       "      <th>CD8 T cell - Exhausted</th>\n",
       "      <th>CD4 T cell</th>\n",
       "      <th>Stellate</th>\n",
       "      <th>B cell</th>\n",
       "      <th>...</th>\n",
       "      <th>Malignant - IC</th>\n",
       "      <th>Malignant - IC</th>\n",
       "      <th>iCAF</th>\n",
       "      <th>Malignant - IC</th>\n",
       "      <th>Malignant - IC</th>\n",
       "      <th>iCAF</th>\n",
       "      <th>myCAF</th>\n",
       "      <th>myCAF</th>\n",
       "      <th>myCAF</th>\n",
       "      <th>Malignant - IC</th>\n",
       "    </tr>\n",
       "    <tr>\n",
       "      <th>Gene</th>\n",
       "      <th></th>\n",
       "      <th></th>\n",
       "      <th></th>\n",
       "      <th></th>\n",
       "      <th></th>\n",
       "      <th></th>\n",
       "      <th></th>\n",
       "      <th></th>\n",
       "      <th></th>\n",
       "      <th></th>\n",
       "      <th></th>\n",
       "      <th></th>\n",
       "      <th></th>\n",
       "      <th></th>\n",
       "      <th></th>\n",
       "      <th></th>\n",
       "      <th></th>\n",
       "      <th></th>\n",
       "      <th></th>\n",
       "      <th></th>\n",
       "      <th></th>\n",
       "    </tr>\n",
       "  </thead>\n",
       "  <tbody>\n",
       "    <tr>\n",
       "      <th>7SK</th>\n",
       "      <td>0</td>\n",
       "      <td>0</td>\n",
       "      <td>0</td>\n",
       "      <td>0</td>\n",
       "      <td>0</td>\n",
       "      <td>0</td>\n",
       "      <td>0</td>\n",
       "      <td>0</td>\n",
       "      <td>0</td>\n",
       "      <td>0</td>\n",
       "      <td>...</td>\n",
       "      <td>0</td>\n",
       "      <td>0</td>\n",
       "      <td>0</td>\n",
       "      <td>0</td>\n",
       "      <td>0</td>\n",
       "      <td>0</td>\n",
       "      <td>0</td>\n",
       "      <td>0</td>\n",
       "      <td>0</td>\n",
       "      <td>0</td>\n",
       "    </tr>\n",
       "    <tr>\n",
       "      <th>A1BG</th>\n",
       "      <td>0</td>\n",
       "      <td>0</td>\n",
       "      <td>0</td>\n",
       "      <td>0</td>\n",
       "      <td>0</td>\n",
       "      <td>0</td>\n",
       "      <td>0</td>\n",
       "      <td>0</td>\n",
       "      <td>1</td>\n",
       "      <td>0</td>\n",
       "      <td>...</td>\n",
       "      <td>0</td>\n",
       "      <td>0</td>\n",
       "      <td>0</td>\n",
       "      <td>0</td>\n",
       "      <td>0</td>\n",
       "      <td>1</td>\n",
       "      <td>1</td>\n",
       "      <td>1</td>\n",
       "      <td>1</td>\n",
       "      <td>0</td>\n",
       "    </tr>\n",
       "    <tr>\n",
       "      <th>A1BG-AS1</th>\n",
       "      <td>0</td>\n",
       "      <td>0</td>\n",
       "      <td>0</td>\n",
       "      <td>0</td>\n",
       "      <td>0</td>\n",
       "      <td>0</td>\n",
       "      <td>0</td>\n",
       "      <td>0</td>\n",
       "      <td>1</td>\n",
       "      <td>0</td>\n",
       "      <td>...</td>\n",
       "      <td>0</td>\n",
       "      <td>0</td>\n",
       "      <td>0</td>\n",
       "      <td>0</td>\n",
       "      <td>0</td>\n",
       "      <td>0</td>\n",
       "      <td>0</td>\n",
       "      <td>0</td>\n",
       "      <td>0</td>\n",
       "      <td>0</td>\n",
       "    </tr>\n",
       "    <tr>\n",
       "      <th>A1CF</th>\n",
       "      <td>0</td>\n",
       "      <td>0</td>\n",
       "      <td>0</td>\n",
       "      <td>0</td>\n",
       "      <td>0</td>\n",
       "      <td>0</td>\n",
       "      <td>0</td>\n",
       "      <td>0</td>\n",
       "      <td>0</td>\n",
       "      <td>0</td>\n",
       "      <td>...</td>\n",
       "      <td>0</td>\n",
       "      <td>0</td>\n",
       "      <td>0</td>\n",
       "      <td>0</td>\n",
       "      <td>0</td>\n",
       "      <td>0</td>\n",
       "      <td>0</td>\n",
       "      <td>0</td>\n",
       "      <td>0</td>\n",
       "      <td>0</td>\n",
       "    </tr>\n",
       "    <tr>\n",
       "      <th>A2M</th>\n",
       "      <td>0</td>\n",
       "      <td>0</td>\n",
       "      <td>0</td>\n",
       "      <td>0</td>\n",
       "      <td>0</td>\n",
       "      <td>0</td>\n",
       "      <td>0</td>\n",
       "      <td>0</td>\n",
       "      <td>4</td>\n",
       "      <td>0</td>\n",
       "      <td>...</td>\n",
       "      <td>0</td>\n",
       "      <td>0</td>\n",
       "      <td>4</td>\n",
       "      <td>0</td>\n",
       "      <td>0</td>\n",
       "      <td>0</td>\n",
       "      <td>0</td>\n",
       "      <td>0</td>\n",
       "      <td>0</td>\n",
       "      <td>0</td>\n",
       "    </tr>\n",
       "    <tr>\n",
       "      <th>...</th>\n",
       "      <td>...</td>\n",
       "      <td>...</td>\n",
       "      <td>...</td>\n",
       "      <td>...</td>\n",
       "      <td>...</td>\n",
       "      <td>...</td>\n",
       "      <td>...</td>\n",
       "      <td>...</td>\n",
       "      <td>...</td>\n",
       "      <td>...</td>\n",
       "      <td>...</td>\n",
       "      <td>...</td>\n",
       "      <td>...</td>\n",
       "      <td>...</td>\n",
       "      <td>...</td>\n",
       "      <td>...</td>\n",
       "      <td>...</td>\n",
       "      <td>...</td>\n",
       "      <td>...</td>\n",
       "      <td>...</td>\n",
       "      <td>...</td>\n",
       "    </tr>\n",
       "    <tr>\n",
       "      <th>ZYG11A</th>\n",
       "      <td>0</td>\n",
       "      <td>0</td>\n",
       "      <td>0</td>\n",
       "      <td>0</td>\n",
       "      <td>0</td>\n",
       "      <td>0</td>\n",
       "      <td>0</td>\n",
       "      <td>0</td>\n",
       "      <td>0</td>\n",
       "      <td>0</td>\n",
       "      <td>...</td>\n",
       "      <td>0</td>\n",
       "      <td>0</td>\n",
       "      <td>0</td>\n",
       "      <td>0</td>\n",
       "      <td>0</td>\n",
       "      <td>0</td>\n",
       "      <td>0</td>\n",
       "      <td>0</td>\n",
       "      <td>0</td>\n",
       "      <td>0</td>\n",
       "    </tr>\n",
       "    <tr>\n",
       "      <th>ZYG11B</th>\n",
       "      <td>0</td>\n",
       "      <td>1</td>\n",
       "      <td>0</td>\n",
       "      <td>0</td>\n",
       "      <td>0</td>\n",
       "      <td>0</td>\n",
       "      <td>0</td>\n",
       "      <td>0</td>\n",
       "      <td>0</td>\n",
       "      <td>0</td>\n",
       "      <td>...</td>\n",
       "      <td>0</td>\n",
       "      <td>0</td>\n",
       "      <td>0</td>\n",
       "      <td>0</td>\n",
       "      <td>0</td>\n",
       "      <td>0</td>\n",
       "      <td>0</td>\n",
       "      <td>0</td>\n",
       "      <td>0</td>\n",
       "      <td>1</td>\n",
       "    </tr>\n",
       "    <tr>\n",
       "      <th>ZYX</th>\n",
       "      <td>1</td>\n",
       "      <td>4</td>\n",
       "      <td>0</td>\n",
       "      <td>0</td>\n",
       "      <td>0</td>\n",
       "      <td>1</td>\n",
       "      <td>0</td>\n",
       "      <td>0</td>\n",
       "      <td>4</td>\n",
       "      <td>0</td>\n",
       "      <td>...</td>\n",
       "      <td>2</td>\n",
       "      <td>0</td>\n",
       "      <td>0</td>\n",
       "      <td>0</td>\n",
       "      <td>2</td>\n",
       "      <td>2</td>\n",
       "      <td>1</td>\n",
       "      <td>0</td>\n",
       "      <td>0</td>\n",
       "      <td>2</td>\n",
       "    </tr>\n",
       "    <tr>\n",
       "      <th>ZZEF1</th>\n",
       "      <td>0</td>\n",
       "      <td>0</td>\n",
       "      <td>0</td>\n",
       "      <td>0</td>\n",
       "      <td>1</td>\n",
       "      <td>0</td>\n",
       "      <td>0</td>\n",
       "      <td>0</td>\n",
       "      <td>0</td>\n",
       "      <td>0</td>\n",
       "      <td>...</td>\n",
       "      <td>0</td>\n",
       "      <td>0</td>\n",
       "      <td>0</td>\n",
       "      <td>0</td>\n",
       "      <td>0</td>\n",
       "      <td>0</td>\n",
       "      <td>0</td>\n",
       "      <td>0</td>\n",
       "      <td>0</td>\n",
       "      <td>0</td>\n",
       "    </tr>\n",
       "    <tr>\n",
       "      <th>ZZZ3</th>\n",
       "      <td>0</td>\n",
       "      <td>0</td>\n",
       "      <td>0</td>\n",
       "      <td>0</td>\n",
       "      <td>0</td>\n",
       "      <td>0</td>\n",
       "      <td>0</td>\n",
       "      <td>0</td>\n",
       "      <td>0</td>\n",
       "      <td>0</td>\n",
       "      <td>...</td>\n",
       "      <td>0</td>\n",
       "      <td>1</td>\n",
       "      <td>0</td>\n",
       "      <td>0</td>\n",
       "      <td>1</td>\n",
       "      <td>0</td>\n",
       "      <td>0</td>\n",
       "      <td>0</td>\n",
       "      <td>0</td>\n",
       "      <td>0</td>\n",
       "    </tr>\n",
       "  </tbody>\n",
       "</table>\n",
       "<p>20262 rows × 104486 columns</p>\n",
       "</div>"
      ],
      "text/plain": [
       "          NK  Malignant - Classical  Treg  B cell  CD8 T cell  \\\n",
       "Gene                                                            \n",
       "7SK        0                      0     0       0           0   \n",
       "A1BG       0                      0     0       0           0   \n",
       "A1BG-AS1   0                      0     0       0           0   \n",
       "A1CF       0                      0     0       0           0   \n",
       "A2M        0                      0     0       0           0   \n",
       "...       ..                    ...   ...     ...         ...   \n",
       "ZYG11A     0                      0     0       0           0   \n",
       "ZYG11B     0                      1     0       0           0   \n",
       "ZYX        1                      4     0       0           0   \n",
       "ZZEF1      0                      0     0       0           1   \n",
       "ZZZ3       0                      0     0       0           0   \n",
       "\n",
       "          Malignant - Proliferating Classical  CD8 T cell - Exhausted  \\\n",
       "Gene                                                                    \n",
       "7SK                                         0                       0   \n",
       "A1BG                                        0                       0   \n",
       "A1BG-AS1                                    0                       0   \n",
       "A1CF                                        0                       0   \n",
       "A2M                                         0                       0   \n",
       "...                                       ...                     ...   \n",
       "ZYG11A                                      0                       0   \n",
       "ZYG11B                                      0                       0   \n",
       "ZYX                                         1                       0   \n",
       "ZZEF1                                       0                       0   \n",
       "ZZZ3                                        0                       0   \n",
       "\n",
       "          CD4 T cell  Stellate  B cell  ...  Malignant - IC  Malignant - IC  \\\n",
       "Gene                                    ...                                   \n",
       "7SK                0         0       0  ...               0               0   \n",
       "A1BG               0         1       0  ...               0               0   \n",
       "A1BG-AS1           0         1       0  ...               0               0   \n",
       "A1CF               0         0       0  ...               0               0   \n",
       "A2M                0         4       0  ...               0               0   \n",
       "...              ...       ...     ...  ...             ...             ...   \n",
       "ZYG11A             0         0       0  ...               0               0   \n",
       "ZYG11B             0         0       0  ...               0               0   \n",
       "ZYX                0         4       0  ...               2               0   \n",
       "ZZEF1              0         0       0  ...               0               0   \n",
       "ZZZ3               0         0       0  ...               0               1   \n",
       "\n",
       "          iCAF  Malignant - IC  Malignant - IC  iCAF  myCAF  myCAF  myCAF  \\\n",
       "Gene                                                                        \n",
       "7SK          0               0               0     0      0      0      0   \n",
       "A1BG         0               0               0     1      1      1      1   \n",
       "A1BG-AS1     0               0               0     0      0      0      0   \n",
       "A1CF         0               0               0     0      0      0      0   \n",
       "A2M          4               0               0     0      0      0      0   \n",
       "...        ...             ...             ...   ...    ...    ...    ...   \n",
       "ZYG11A       0               0               0     0      0      0      0   \n",
       "ZYG11B       0               0               0     0      0      0      0   \n",
       "ZYX          0               0               2     2      1      0      0   \n",
       "ZZEF1        0               0               0     0      0      0      0   \n",
       "ZZZ3         0               0               1     0      0      0      0   \n",
       "\n",
       "          Malignant - IC  \n",
       "Gene                      \n",
       "7SK                    0  \n",
       "A1BG                   0  \n",
       "A1BG-AS1               0  \n",
       "A1CF                   0  \n",
       "A2M                    0  \n",
       "...                  ...  \n",
       "ZYG11A                 0  \n",
       "ZYG11B                 1  \n",
       "ZYX                    2  \n",
       "ZZEF1                  0  \n",
       "ZZZ3                   0  \n",
       "\n",
       "[20262 rows x 104486 columns]"
      ]
     },
     "execution_count": 10,
     "metadata": {},
     "output_type": "execute_result"
    }
   ],
   "source": [
    "# save counts for cytotrace\n",
    "df = pd.DataFrame(data=f.layers['counts'].toarray(), columns=f.var.index.to_list(),\n",
    "                  index=f.obs.index.to_list(), dtype=int)\n",
    "df = df.transpose()\n",
    "df['gene'] = [g.split('.')[0] for g in df.index.to_list()]\n",
    "df = df.groupby('gene').mean().astype(int)\n",
    "df.index.name = 'Gene'\n",
    "# make ids compatible with r\n",
    "# df.columns = ['X' + c for c in df.columns]\n",
    "df.columns = [f.obs.loc[c, 'cell_type_specific_final'] for c in df.columns]\n",
    "df = df[np.sum(df.values, axis=1)>0]\n",
    "df"
   ]
  },
  {
   "cell_type": "code",
   "execution_count": 11,
   "id": "dfa0517e",
   "metadata": {},
   "outputs": [],
   "source": [
    "df.to_csv('../data/deconvolution/cibersortx/inputs/sc_ref.txt', sep='\\t')"
   ]
  },
  {
   "cell_type": "markdown",
   "id": "d5729da6",
   "metadata": {},
   "source": [
    "#### run cibersortx via docker"
   ]
  },
  {
   "cell_type": "markdown",
   "id": "86ae045d",
   "metadata": {},
   "source": [
    "example command from docs"
   ]
  },
  {
   "cell_type": "markdown",
   "id": "7963a419",
   "metadata": {},
   "source": [
    "docker run -v absolute/path/to/input/dir:/src/data -v absolute/path/to/output/dir:/src/outdir cibersortx/fractions --username email_address_registered_on_CIBERSORTx_website --token token_obtained_from_CIBERSORTx_website --single_cell TRUE --refsample Fig2ab-NSCLC_PBMCs_scRNAseq_refsample.txt --mixture Fig2b-WholeBlood_RNAseq.txt --fraction 0 --rmbatchSmode TRUE "
   ]
  },
  {
   "cell_type": "code",
   "execution_count": 23,
   "id": "178ed888",
   "metadata": {},
   "outputs": [
    {
     "data": {
      "text/plain": [
       "['../data/bulk_rna_seq/bailey_cpm.txt',\n",
       " '../data/bulk_rna_seq/cptac_cpm.txt',\n",
       " '../data/bulk_rna_seq/kirby_cpm.txt',\n",
       " '../data/bulk_rna_seq/tcga_cpm.txt']"
      ]
     },
     "execution_count": 23,
     "metadata": {},
     "output_type": "execute_result"
    }
   ],
   "source": [
    "bulk_fps = sorted(listfiles('../data/bulk_rna_seq/', regex=r'bulk_rna_seq/[^/]+_cpm.txt$'))\n",
    "bulk_fps"
   ]
  },
  {
   "cell_type": "code",
   "execution_count": 24,
   "id": "b554279d",
   "metadata": {},
   "outputs": [],
   "source": [
    "input_dir = '/diskmnt/Projects/Users/estorrs/single-cell-pdac/data/deconvolution/cibersortx/inputs'\n",
    "output_dir = '/diskmnt/Projects/Users/estorrs/single-cell-pdac/data/deconvolution/cibersortx/outputs'\n",
    "sc_ref = '/src/data/sc_ref.txt'\n",
    "username = 'estorrs@wustl.edu'\n",
    "token = '5f2162d7ed4084effa23b2b794c31def'"
   ]
  },
  {
   "cell_type": "code",
   "execution_count": 25,
   "id": "d8d0489b",
   "metadata": {},
   "outputs": [],
   "source": [
    "import subprocess"
   ]
  },
  {
   "cell_type": "code",
   "execution_count": 29,
   "id": "044005e0",
   "metadata": {},
   "outputs": [
    {
     "name": "stdout",
     "output_type": "stream",
     "text": [
      "bailey\n",
      "cptac\n",
      "kirby\n",
      "tcga\n"
     ]
    },
    {
     "data": {
      "text/plain": [
       "['docker run -v /diskmnt/Projects/Users/estorrs/single-cell-pdac/data/deconvolution/cibersortx/inputs:/src/data -v /diskmnt/Projects/Users/estorrs/single-cell-pdac/data/deconvolution/cibersortx/outputs/bailey:/src/outdir cibersortx/fractions --username estorrs@wustl.edu --token 5f2162d7ed4084effa23b2b794c31def --single_cell TRUE --refsample /src/data/sc_ref.txt --mixture /src/data/bailey_cpm.txt --fraction 0 --rmbatchSmode TRUE',\n",
       " 'docker run -v /diskmnt/Projects/Users/estorrs/single-cell-pdac/data/deconvolution/cibersortx/inputs:/src/data -v /diskmnt/Projects/Users/estorrs/single-cell-pdac/data/deconvolution/cibersortx/outputs/cptac:/src/outdir cibersortx/fractions --username estorrs@wustl.edu --token 5f2162d7ed4084effa23b2b794c31def --single_cell TRUE --refsample /src/data/sc_ref.txt --mixture /src/data/cptac_cpm.txt --fraction 0 --rmbatchSmode TRUE',\n",
       " 'docker run -v /diskmnt/Projects/Users/estorrs/single-cell-pdac/data/deconvolution/cibersortx/inputs:/src/data -v /diskmnt/Projects/Users/estorrs/single-cell-pdac/data/deconvolution/cibersortx/outputs/kirby:/src/outdir cibersortx/fractions --username estorrs@wustl.edu --token 5f2162d7ed4084effa23b2b794c31def --single_cell TRUE --refsample /src/data/sc_ref.txt --mixture /src/data/kirby_cpm.txt --fraction 0 --rmbatchSmode TRUE',\n",
       " 'docker run -v /diskmnt/Projects/Users/estorrs/single-cell-pdac/data/deconvolution/cibersortx/inputs:/src/data -v /diskmnt/Projects/Users/estorrs/single-cell-pdac/data/deconvolution/cibersortx/outputs/tcga:/src/outdir cibersortx/fractions --username estorrs@wustl.edu --token 5f2162d7ed4084effa23b2b794c31def --single_cell TRUE --refsample /src/data/sc_ref.txt --mixture /src/data/tcga_cpm.txt --fraction 0 --rmbatchSmode TRUE']"
      ]
     },
     "execution_count": 29,
     "metadata": {},
     "output_type": "execute_result"
    }
   ],
   "source": [
    "cmds = []\n",
    "for fp in bulk_fps:\n",
    "    dataset = fp.split('/')[-1].split('_cpm.txt')[0]\n",
    "    print(dataset)\n",
    "    Path(os.path.join(output_dir, dataset)).mkdir(parents=True, exist_ok=True)\n",
    "    out = os.path.join(output_dir, dataset)\n",
    "    mixture = f'/src/data/{dataset}_cpm.txt'\n",
    "    \n",
    "    cmd = f'docker run -v {input_dir}:/src/data -v {out}:/src/outdir cibersortx/fractions --username {username} --token {token} --single_cell TRUE --refsample {sc_ref} --mixture {mixture} --fraction 0 --rmbatchSmode TRUE'\n",
    "    cmds.append(cmd)\n",
    "cmds"
   ]
  },
  {
   "cell_type": "code",
   "execution_count": 30,
   "id": "40a0ac32",
   "metadata": {},
   "outputs": [
    {
     "name": "stdout",
     "output_type": "stream",
     "text": [
      "docker run -v /diskmnt/Projects/Users/estorrs/single-cell-pdac/data/deconvolution/cibersortx/inputs:/src/data -v /diskmnt/Projects/Users/estorrs/single-cell-pdac/data/deconvolution/cibersortx/outputs/bailey:/src/outdir cibersortx/fractions --username estorrs@wustl.edu --token 5f2162d7ed4084effa23b2b794c31def --single_cell TRUE --refsample /src/data/sc_ref.txt --mixture /src/data/bailey_cpm.txt --fraction 0 --rmbatchSmode TRUE\n"
     ]
    },
    {
     "ename": "KeyboardInterrupt",
     "evalue": "",
     "output_type": "error",
     "traceback": [
      "\u001b[0;31m---------------------------------------------------------------------------\u001b[0m",
      "\u001b[0;31mKeyboardInterrupt\u001b[0m                         Traceback (most recent call last)",
      "\u001b[0;32m/tmp/ipykernel_262661/3657932768.py\u001b[0m in \u001b[0;36m<module>\u001b[0;34m\u001b[0m\n\u001b[1;32m      1\u001b[0m \u001b[0;32mfor\u001b[0m \u001b[0mcmd\u001b[0m \u001b[0;32min\u001b[0m \u001b[0mcmds\u001b[0m\u001b[0;34m:\u001b[0m\u001b[0;34m\u001b[0m\u001b[0;34m\u001b[0m\u001b[0m\n\u001b[1;32m      2\u001b[0m     \u001b[0mprint\u001b[0m\u001b[0;34m(\u001b[0m\u001b[0mcmd\u001b[0m\u001b[0;34m)\u001b[0m\u001b[0;34m\u001b[0m\u001b[0;34m\u001b[0m\u001b[0m\n\u001b[0;32m----> 3\u001b[0;31m     \u001b[0moutput\u001b[0m \u001b[0;34m=\u001b[0m \u001b[0msubprocess\u001b[0m\u001b[0;34m.\u001b[0m\u001b[0mcheck_output\u001b[0m\u001b[0;34m(\u001b[0m\u001b[0mcmd\u001b[0m\u001b[0;34m,\u001b[0m \u001b[0mshell\u001b[0m\u001b[0;34m=\u001b[0m\u001b[0;32mTrue\u001b[0m\u001b[0;34m)\u001b[0m\u001b[0;34m\u001b[0m\u001b[0;34m\u001b[0m\u001b[0m\n\u001b[0m\u001b[1;32m      4\u001b[0m     \u001b[0mprint\u001b[0m\u001b[0;34m(\u001b[0m\u001b[0moutput\u001b[0m\u001b[0;34m)\u001b[0m\u001b[0;34m\u001b[0m\u001b[0;34m\u001b[0m\u001b[0m\n",
      "\u001b[0;32m/diskmnt/Projects/Users/estorrs/miniconda3/envs/single-cell-pdac/lib/python3.7/subprocess.py\u001b[0m in \u001b[0;36mcheck_output\u001b[0;34m(timeout, *popenargs, **kwargs)\u001b[0m\n\u001b[1;32m    409\u001b[0m \u001b[0;34m\u001b[0m\u001b[0m\n\u001b[1;32m    410\u001b[0m     return run(*popenargs, stdout=PIPE, timeout=timeout, check=True,\n\u001b[0;32m--> 411\u001b[0;31m                **kwargs).stdout\n\u001b[0m\u001b[1;32m    412\u001b[0m \u001b[0;34m\u001b[0m\u001b[0m\n\u001b[1;32m    413\u001b[0m \u001b[0;34m\u001b[0m\u001b[0m\n",
      "\u001b[0;32m/diskmnt/Projects/Users/estorrs/miniconda3/envs/single-cell-pdac/lib/python3.7/subprocess.py\u001b[0m in \u001b[0;36mrun\u001b[0;34m(input, capture_output, timeout, check, *popenargs, **kwargs)\u001b[0m\n\u001b[1;32m    488\u001b[0m     \u001b[0;32mwith\u001b[0m \u001b[0mPopen\u001b[0m\u001b[0;34m(\u001b[0m\u001b[0;34m*\u001b[0m\u001b[0mpopenargs\u001b[0m\u001b[0;34m,\u001b[0m \u001b[0;34m**\u001b[0m\u001b[0mkwargs\u001b[0m\u001b[0;34m)\u001b[0m \u001b[0;32mas\u001b[0m \u001b[0mprocess\u001b[0m\u001b[0;34m:\u001b[0m\u001b[0;34m\u001b[0m\u001b[0;34m\u001b[0m\u001b[0m\n\u001b[1;32m    489\u001b[0m         \u001b[0;32mtry\u001b[0m\u001b[0;34m:\u001b[0m\u001b[0;34m\u001b[0m\u001b[0;34m\u001b[0m\u001b[0m\n\u001b[0;32m--> 490\u001b[0;31m             \u001b[0mstdout\u001b[0m\u001b[0;34m,\u001b[0m \u001b[0mstderr\u001b[0m \u001b[0;34m=\u001b[0m \u001b[0mprocess\u001b[0m\u001b[0;34m.\u001b[0m\u001b[0mcommunicate\u001b[0m\u001b[0;34m(\u001b[0m\u001b[0minput\u001b[0m\u001b[0;34m,\u001b[0m \u001b[0mtimeout\u001b[0m\u001b[0;34m=\u001b[0m\u001b[0mtimeout\u001b[0m\u001b[0;34m)\u001b[0m\u001b[0;34m\u001b[0m\u001b[0;34m\u001b[0m\u001b[0m\n\u001b[0m\u001b[1;32m    491\u001b[0m         \u001b[0;32mexcept\u001b[0m \u001b[0mTimeoutExpired\u001b[0m \u001b[0;32mas\u001b[0m \u001b[0mexc\u001b[0m\u001b[0;34m:\u001b[0m\u001b[0;34m\u001b[0m\u001b[0;34m\u001b[0m\u001b[0m\n\u001b[1;32m    492\u001b[0m             \u001b[0mprocess\u001b[0m\u001b[0;34m.\u001b[0m\u001b[0mkill\u001b[0m\u001b[0;34m(\u001b[0m\u001b[0;34m)\u001b[0m\u001b[0;34m\u001b[0m\u001b[0;34m\u001b[0m\u001b[0m\n",
      "\u001b[0;32m/diskmnt/Projects/Users/estorrs/miniconda3/envs/single-cell-pdac/lib/python3.7/subprocess.py\u001b[0m in \u001b[0;36mcommunicate\u001b[0;34m(self, input, timeout)\u001b[0m\n\u001b[1;32m    949\u001b[0m                 \u001b[0mself\u001b[0m\u001b[0;34m.\u001b[0m\u001b[0m_stdin_write\u001b[0m\u001b[0;34m(\u001b[0m\u001b[0minput\u001b[0m\u001b[0;34m)\u001b[0m\u001b[0;34m\u001b[0m\u001b[0;34m\u001b[0m\u001b[0m\n\u001b[1;32m    950\u001b[0m             \u001b[0;32melif\u001b[0m \u001b[0mself\u001b[0m\u001b[0;34m.\u001b[0m\u001b[0mstdout\u001b[0m\u001b[0;34m:\u001b[0m\u001b[0;34m\u001b[0m\u001b[0;34m\u001b[0m\u001b[0m\n\u001b[0;32m--> 951\u001b[0;31m                 \u001b[0mstdout\u001b[0m \u001b[0;34m=\u001b[0m \u001b[0mself\u001b[0m\u001b[0;34m.\u001b[0m\u001b[0mstdout\u001b[0m\u001b[0;34m.\u001b[0m\u001b[0mread\u001b[0m\u001b[0;34m(\u001b[0m\u001b[0;34m)\u001b[0m\u001b[0;34m\u001b[0m\u001b[0;34m\u001b[0m\u001b[0m\n\u001b[0m\u001b[1;32m    952\u001b[0m                 \u001b[0mself\u001b[0m\u001b[0;34m.\u001b[0m\u001b[0mstdout\u001b[0m\u001b[0;34m.\u001b[0m\u001b[0mclose\u001b[0m\u001b[0;34m(\u001b[0m\u001b[0;34m)\u001b[0m\u001b[0;34m\u001b[0m\u001b[0;34m\u001b[0m\u001b[0m\n\u001b[1;32m    953\u001b[0m             \u001b[0;32melif\u001b[0m \u001b[0mself\u001b[0m\u001b[0;34m.\u001b[0m\u001b[0mstderr\u001b[0m\u001b[0;34m:\u001b[0m\u001b[0;34m\u001b[0m\u001b[0;34m\u001b[0m\u001b[0m\n",
      "\u001b[0;31mKeyboardInterrupt\u001b[0m: "
     ]
    }
   ],
   "source": [
    "for cmd in cmds:\n",
    "    print(cmd)\n",
    "    output = subprocess.check_output(cmd, shell=True)\n",
    "    print(output)"
   ]
  },
  {
   "cell_type": "markdown",
   "id": "e1e0d871",
   "metadata": {},
   "source": [
    "#### read and save results"
   ]
  },
  {
   "cell_type": "code",
   "execution_count": null,
   "id": "ce459e45",
   "metadata": {},
   "outputs": [],
   "source": []
  }
 ],
 "metadata": {
  "kernelspec": {
   "display_name": "Python 3 (ipykernel)",
   "language": "python",
   "name": "python3"
  },
  "language_info": {
   "codemirror_mode": {
    "name": "ipython",
    "version": 3
   },
   "file_extension": ".py",
   "mimetype": "text/x-python",
   "name": "python",
   "nbconvert_exporter": "python",
   "pygments_lexer": "ipython3",
   "version": "3.7.12"
  }
 },
 "nbformat": 4,
 "nbformat_minor": 5
}
