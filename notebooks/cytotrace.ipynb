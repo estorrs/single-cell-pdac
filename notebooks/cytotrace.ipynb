{
 "cells": [
  {
   "cell_type": "code",
   "execution_count": 1,
   "id": "efa7caf5",
   "metadata": {},
   "outputs": [],
   "source": [
    "Sys.setenv(RETICULATE_PYTHON=\"/diskmnt/Projects/Users/estorrs/miniconda3/envs/cytotrace/bin\")"
   ]
  },
  {
   "cell_type": "code",
   "execution_count": 2,
   "id": "daa7e66d",
   "metadata": {},
   "outputs": [
    {
     "name": "stderr",
     "output_type": "stream",
     "text": [
      "Welcome to the CytoTRACE R package, a tool for the unbiased prediction of differentiation states in scRNA-seq data. For more information about this method, visit https://cytotrace.stanford.edu.\n",
      "\n",
      "\n"
     ]
    }
   ],
   "source": [
    "library(CytoTRACE)"
   ]
  },
  {
   "cell_type": "code",
   "execution_count": 3,
   "id": "5babb740",
   "metadata": {},
   "outputs": [],
   "source": [
    "options(future.globals.maxSize = 20000 * 1024^2)"
   ]
  },
  {
   "cell_type": "markdown",
   "id": "dbcc19c6",
   "metadata": {},
   "source": [
    "###### malignant"
   ]
  },
  {
   "cell_type": "code",
   "execution_count": 10,
   "id": "d37e8d78",
   "metadata": {},
   "outputs": [],
   "source": [
    "surgical = read.table('../data/single_cell/cytotrace/inputs/malignant_redo_in-house surgical.txt', sep = \"\\t\", header = TRUE, row.names='Gene')\n",
    "peng = read.table('../data/single_cell/cytotrace/inputs/malignant_redo_peng.txt', sep = \"\\t\", header = TRUE, row.names='Gene')\n",
    "lin = read.table('../data/single_cell/cytotrace/inputs/malignant_redo_lin.txt', sep = \"\\t\", header = TRUE, row.names='Gene')\n",
    "csy = read.table('../data/single_cell/cytotrace/inputs/malignant_redo_chan-seng-yue.txt', sep = \"\\t\", header = TRUE, row.names='Gene')"
   ]
  },
  {
   "cell_type": "code",
   "execution_count": 11,
   "id": "e0576d6e",
   "metadata": {},
   "outputs": [
    {
     "name": "stderr",
     "output_type": "stream",
     "text": [
      "The number of cells in your dataset exceeds 10,000. CytoTRACE will now be run in fast mode (see documentation). You can multi-thread this run using the 'ncores' flag. To disable fast mode, please indicate 'enableFast = FALSE'.\n",
      "\n",
      "CytoTRACE will be run on 54 sub-sample(s) of approximately 991 cells each using 10 / 10 core(s)\n",
      "\n",
      "Calculating genes associated with iCytoTRACE...\n",
      "\n"
     ]
    }
   ],
   "source": [
    "datasets <- list(surgical, peng, lin, csy)\n",
    "results <- iCytoTRACE(datasets, enableFast = TRUE, ncores = 10)"
   ]
  },
  {
   "cell_type": "code",
   "execution_count": 12,
   "id": "2a35dc75",
   "metadata": {},
   "outputs": [
    {
     "data": {
      "text/html": [],
      "text/latex": [],
      "text/markdown": [],
      "text/plain": [
       "character(0)"
      ]
     },
     "metadata": {},
     "output_type": "display_data"
    }
   ],
   "source": [
    "head(results$filteredCells)"
   ]
  },
  {
   "cell_type": "code",
   "execution_count": 13,
   "id": "b2e4bf97",
   "metadata": {},
   "outputs": [
    {
     "data": {
      "text/html": [
       "<style>\n",
       ".dl-inline {width: auto; margin:0; padding: 0}\n",
       ".dl-inline>dt, .dl-inline>dd {float: none; width: auto; display: inline-block}\n",
       ".dl-inline>dt::after {content: \":\\0020\"; padding-right: .5ex}\n",
       ".dl-inline>dt:not(:first-of-type) {padding-left: .5ex}\n",
       "</style><dl class=dl-inline><dt>X1555.tumor_AAACCTGAGTGCGTGA.1</dt><dd>0.646464646464647</dd><dt>X1555.tumor_AAACGGGAGACAATAC.1</dt><dd>0.985858585858586</dd><dt>X1555.tumor_AACCATGGTACTTCTT.1</dt><dd>0.213131313131313</dd><dt>X1555.tumor_AACCATGTCGTGGTCG.1</dt><dd>0.994949494949495</dd><dt>X1555.tumor_AACCGCGAGCAATCTC.1</dt><dd>0.993939393939394</dd><dt>X1555.tumor_AACCGCGTCTTTAGTC.1</dt><dd>0.995959595959596</dd></dl>\n"
      ],
      "text/latex": [
       "\\begin{description*}\n",
       "\\item[X1555.tumor\\textbackslash{}\\_AAACCTGAGTGCGTGA.1] 0.646464646464647\n",
       "\\item[X1555.tumor\\textbackslash{}\\_AAACGGGAGACAATAC.1] 0.985858585858586\n",
       "\\item[X1555.tumor\\textbackslash{}\\_AACCATGGTACTTCTT.1] 0.213131313131313\n",
       "\\item[X1555.tumor\\textbackslash{}\\_AACCATGTCGTGGTCG.1] 0.994949494949495\n",
       "\\item[X1555.tumor\\textbackslash{}\\_AACCGCGAGCAATCTC.1] 0.993939393939394\n",
       "\\item[X1555.tumor\\textbackslash{}\\_AACCGCGTCTTTAGTC.1] 0.995959595959596\n",
       "\\end{description*}\n"
      ],
      "text/markdown": [
       "X1555.tumor_AAACCTGAGTGCGTGA.1\n",
       ":   0.646464646464647X1555.tumor_AAACGGGAGACAATAC.1\n",
       ":   0.985858585858586X1555.tumor_AACCATGGTACTTCTT.1\n",
       ":   0.213131313131313X1555.tumor_AACCATGTCGTGGTCG.1\n",
       ":   0.994949494949495X1555.tumor_AACCGCGAGCAATCTC.1\n",
       ":   0.993939393939394X1555.tumor_AACCGCGTCTTTAGTC.1\n",
       ":   0.995959595959596\n",
       "\n"
      ],
      "text/plain": [
       "X1555.tumor_AAACCTGAGTGCGTGA.1 X1555.tumor_AAACGGGAGACAATAC.1 \n",
       "                     0.6464646                      0.9858586 \n",
       "X1555.tumor_AACCATGGTACTTCTT.1 X1555.tumor_AACCATGTCGTGGTCG.1 \n",
       "                     0.2131313                      0.9949495 \n",
       "X1555.tumor_AACCGCGAGCAATCTC.1 X1555.tumor_AACCGCGTCTTTAGTC.1 \n",
       "                     0.9939394                      0.9959596 "
      ]
     },
     "metadata": {},
     "output_type": "display_data"
    }
   ],
   "source": [
    "head(results$CytoTRACE)"
   ]
  },
  {
   "cell_type": "code",
   "execution_count": 14,
   "id": "1714042d",
   "metadata": {},
   "outputs": [
    {
     "data": {
      "text/html": [
       "<table class=\"dataframe\">\n",
       "<caption>A data.frame: 6 × 5</caption>\n",
       "<thead>\n",
       "\t<tr><th></th><th scope=col>results$CytoTRACE</th><th scope=col>CytoTRACE</th><th scope=col>CytoTRACErank</th><th scope=col>GCS</th><th scope=col>Counts</th></tr>\n",
       "\t<tr><th></th><th scope=col>&lt;dbl&gt;</th><th scope=col>&lt;dbl&gt;</th><th scope=col>&lt;dbl&gt;</th><th scope=col>&lt;dbl&gt;</th><th scope=col>&lt;dbl&gt;</th></tr>\n",
       "</thead>\n",
       "<tbody>\n",
       "\t<tr><th scope=row>X1555.tumor_AAACCTGAGTGCGTGA.1</th><td>0.6464646</td><td>0.6464646</td><td>641</td><td>0.010903592</td><td>0.5115258</td></tr>\n",
       "\t<tr><th scope=row>X1555.tumor_AAACGGGAGACAATAC.1</th><td>0.9858586</td><td>0.9858586</td><td>977</td><td>0.010792344</td><td>0.4925294</td></tr>\n",
       "\t<tr><th scope=row>X1555.tumor_AACCATGGTACTTCTT.1</th><td>0.2131313</td><td>0.2131313</td><td>212</td><td>0.002839489</td><td>0.0923209</td></tr>\n",
       "\t<tr><th scope=row>X1555.tumor_AACCATGTCGTGGTCG.1</th><td>0.9949495</td><td>0.9949495</td><td>986</td><td>0.011299282</td><td>0.6175956</td></tr>\n",
       "\t<tr><th scope=row>X1555.tumor_AACCGCGAGCAATCTC.1</th><td>0.9939394</td><td>0.9939394</td><td>985</td><td>0.012466525</td><td>0.6777965</td></tr>\n",
       "\t<tr><th scope=row>X1555.tumor_AACCGCGTCTTTAGTC.1</th><td>0.9959596</td><td>0.9959596</td><td>987</td><td>0.012048972</td><td>0.6620180</td></tr>\n",
       "</tbody>\n",
       "</table>\n"
      ],
      "text/latex": [
       "A data.frame: 6 × 5\n",
       "\\begin{tabular}{r|lllll}\n",
       "  & results\\$CytoTRACE & CytoTRACE & CytoTRACErank & GCS & Counts\\\\\n",
       "  & <dbl> & <dbl> & <dbl> & <dbl> & <dbl>\\\\\n",
       "\\hline\n",
       "\tX1555.tumor\\_AAACCTGAGTGCGTGA.1 & 0.6464646 & 0.6464646 & 641 & 0.010903592 & 0.5115258\\\\\n",
       "\tX1555.tumor\\_AAACGGGAGACAATAC.1 & 0.9858586 & 0.9858586 & 977 & 0.010792344 & 0.4925294\\\\\n",
       "\tX1555.tumor\\_AACCATGGTACTTCTT.1 & 0.2131313 & 0.2131313 & 212 & 0.002839489 & 0.0923209\\\\\n",
       "\tX1555.tumor\\_AACCATGTCGTGGTCG.1 & 0.9949495 & 0.9949495 & 986 & 0.011299282 & 0.6175956\\\\\n",
       "\tX1555.tumor\\_AACCGCGAGCAATCTC.1 & 0.9939394 & 0.9939394 & 985 & 0.012466525 & 0.6777965\\\\\n",
       "\tX1555.tumor\\_AACCGCGTCTTTAGTC.1 & 0.9959596 & 0.9959596 & 987 & 0.012048972 & 0.6620180\\\\\n",
       "\\end{tabular}\n"
      ],
      "text/markdown": [
       "\n",
       "A data.frame: 6 × 5\n",
       "\n",
       "| <!--/--> | results$CytoTRACE &lt;dbl&gt; | CytoTRACE &lt;dbl&gt; | CytoTRACErank &lt;dbl&gt; | GCS &lt;dbl&gt; | Counts &lt;dbl&gt; |\n",
       "|---|---|---|---|---|---|\n",
       "| X1555.tumor_AAACCTGAGTGCGTGA.1 | 0.6464646 | 0.6464646 | 641 | 0.010903592 | 0.5115258 |\n",
       "| X1555.tumor_AAACGGGAGACAATAC.1 | 0.9858586 | 0.9858586 | 977 | 0.010792344 | 0.4925294 |\n",
       "| X1555.tumor_AACCATGGTACTTCTT.1 | 0.2131313 | 0.2131313 | 212 | 0.002839489 | 0.0923209 |\n",
       "| X1555.tumor_AACCATGTCGTGGTCG.1 | 0.9949495 | 0.9949495 | 986 | 0.011299282 | 0.6175956 |\n",
       "| X1555.tumor_AACCGCGAGCAATCTC.1 | 0.9939394 | 0.9939394 | 985 | 0.012466525 | 0.6777965 |\n",
       "| X1555.tumor_AACCGCGTCTTTAGTC.1 | 0.9959596 | 0.9959596 | 987 | 0.012048972 | 0.6620180 |\n",
       "\n"
      ],
      "text/plain": [
       "                               results$CytoTRACE CytoTRACE CytoTRACErank\n",
       "X1555.tumor_AAACCTGAGTGCGTGA.1 0.6464646         0.6464646 641          \n",
       "X1555.tumor_AAACGGGAGACAATAC.1 0.9858586         0.9858586 977          \n",
       "X1555.tumor_AACCATGGTACTTCTT.1 0.2131313         0.2131313 212          \n",
       "X1555.tumor_AACCATGTCGTGGTCG.1 0.9949495         0.9949495 986          \n",
       "X1555.tumor_AACCGCGAGCAATCTC.1 0.9939394         0.9939394 985          \n",
       "X1555.tumor_AACCGCGTCTTTAGTC.1 0.9959596         0.9959596 987          \n",
       "                               GCS         Counts   \n",
       "X1555.tumor_AAACCTGAGTGCGTGA.1 0.010903592 0.5115258\n",
       "X1555.tumor_AAACGGGAGACAATAC.1 0.010792344 0.4925294\n",
       "X1555.tumor_AACCATGGTACTTCTT.1 0.002839489 0.0923209\n",
       "X1555.tumor_AACCATGTCGTGGTCG.1 0.011299282 0.6175956\n",
       "X1555.tumor_AACCGCGAGCAATCTC.1 0.012466525 0.6777965\n",
       "X1555.tumor_AACCGCGTCTTTAGTC.1 0.012048972 0.6620180"
      ]
     },
     "metadata": {},
     "output_type": "display_data"
    }
   ],
   "source": [
    "df = as.data.frame(results$CytoTRACE)\n",
    "df$CytoTRACE = results$CytoTRACE\n",
    "df$CytoTRACErank = results$CytoTRACErank\n",
    "df$GCS = results$GCS\n",
    "df$Counts = results$Counts\n",
    "\n",
    "head(df)"
   ]
  },
  {
   "cell_type": "code",
   "execution_count": 15,
   "id": "779f1474",
   "metadata": {},
   "outputs": [],
   "source": [
    "write.table(df, file = '../data/single_cell/cytotrace/outputs/malignant_cytotrace.txt', sep = '\\t', quote = F)"
   ]
  },
  {
   "cell_type": "code",
   "execution_count": 16,
   "id": "9b1b4699",
   "metadata": {},
   "outputs": [
    {
     "data": {
      "text/html": [
       "<table class=\"dataframe\">\n",
       "<caption>A data.frame: 6 × 2</caption>\n",
       "<thead>\n",
       "\t<tr><th></th><th scope=col>results$cytoGenes</th><th scope=col>cytoGenes</th></tr>\n",
       "\t<tr><th></th><th scope=col>&lt;dbl&gt;</th><th scope=col>&lt;dbl&gt;</th></tr>\n",
       "</thead>\n",
       "<tbody>\n",
       "\t<tr><th scope=row>A1BG</th><td> 0.03659437</td><td> 0.03659437</td></tr>\n",
       "\t<tr><th scope=row>A1CF</th><td>-0.01455181</td><td>-0.01455181</td></tr>\n",
       "\t<tr><th scope=row>A2M</th><td> 0.07878254</td><td> 0.07878254</td></tr>\n",
       "\t<tr><th scope=row>A2ML1</th><td> 0.13752673</td><td> 0.13752673</td></tr>\n",
       "\t<tr><th scope=row>A4GALT</th><td> 0.19955598</td><td> 0.19955598</td></tr>\n",
       "\t<tr><th scope=row>A4GNT</th><td> 0.01467597</td><td> 0.01467597</td></tr>\n",
       "</tbody>\n",
       "</table>\n"
      ],
      "text/latex": [
       "A data.frame: 6 × 2\n",
       "\\begin{tabular}{r|ll}\n",
       "  & results\\$cytoGenes & cytoGenes\\\\\n",
       "  & <dbl> & <dbl>\\\\\n",
       "\\hline\n",
       "\tA1BG &  0.03659437 &  0.03659437\\\\\n",
       "\tA1CF & -0.01455181 & -0.01455181\\\\\n",
       "\tA2M &  0.07878254 &  0.07878254\\\\\n",
       "\tA2ML1 &  0.13752673 &  0.13752673\\\\\n",
       "\tA4GALT &  0.19955598 &  0.19955598\\\\\n",
       "\tA4GNT &  0.01467597 &  0.01467597\\\\\n",
       "\\end{tabular}\n"
      ],
      "text/markdown": [
       "\n",
       "A data.frame: 6 × 2\n",
       "\n",
       "| <!--/--> | results$cytoGenes &lt;dbl&gt; | cytoGenes &lt;dbl&gt; |\n",
       "|---|---|---|\n",
       "| A1BG |  0.03659437 |  0.03659437 |\n",
       "| A1CF | -0.01455181 | -0.01455181 |\n",
       "| A2M |  0.07878254 |  0.07878254 |\n",
       "| A2ML1 |  0.13752673 |  0.13752673 |\n",
       "| A4GALT |  0.19955598 |  0.19955598 |\n",
       "| A4GNT |  0.01467597 |  0.01467597 |\n",
       "\n"
      ],
      "text/plain": [
       "       results$cytoGenes cytoGenes  \n",
       "A1BG    0.03659437        0.03659437\n",
       "A1CF   -0.01455181       -0.01455181\n",
       "A2M     0.07878254        0.07878254\n",
       "A2ML1   0.13752673        0.13752673\n",
       "A4GALT  0.19955598        0.19955598\n",
       "A4GNT   0.01467597        0.01467597"
      ]
     },
     "metadata": {},
     "output_type": "display_data"
    }
   ],
   "source": [
    "df = as.data.frame(results$cytoGenes)\n",
    "df$cytoGenes = results$cytoGenes\n",
    "head(df)"
   ]
  },
  {
   "cell_type": "code",
   "execution_count": 17,
   "id": "dba7814a",
   "metadata": {},
   "outputs": [],
   "source": [
    "write.table(df, file = '../data/single_cell/cytotrace/outputs/malignant_cytogenes.txt', sep = '\\t', quote = F)"
   ]
  },
  {
   "cell_type": "code",
   "execution_count": null,
   "id": "9748c940",
   "metadata": {},
   "outputs": [],
   "source": []
  },
  {
   "cell_type": "markdown",
   "id": "bd2050f9",
   "metadata": {},
   "source": [
    "###### malignant"
   ]
  },
  {
   "cell_type": "code",
   "execution_count": 4,
   "id": "e2c16570",
   "metadata": {},
   "outputs": [],
   "source": [
    "surgical = read.table('../data/single_cell/cytotrace/inputs/mesenchymal_in-house surgical.txt', sep = \"\\t\", header = TRUE, row.names='Gene')\n",
    "peng = read.table('../data/single_cell/cytotrace/inputs/mesenchymal_peng.txt', sep = \"\\t\", header = TRUE, row.names='Gene')\n",
    "lin = read.table('../data/single_cell/cytotrace/inputs/mesenchymal_lin.txt', sep = \"\\t\", header = TRUE, row.names='Gene')\n",
    "csy = read.table('../data/single_cell/cytotrace/inputs/mesenchymal_chan-seng-yue.txt', sep = \"\\t\", header = TRUE, row.names='Gene')"
   ]
  },
  {
   "cell_type": "code",
   "execution_count": 5,
   "id": "d8829a28",
   "metadata": {},
   "outputs": [
    {
     "name": "stderr",
     "output_type": "stream",
     "text": [
      "The number of cells in your dataset exceeds 10,000. CytoTRACE will now be run in fast mode (see documentation). You can multi-thread this run using the 'ncores' flag. To disable fast mode, please indicate 'enableFast = FALSE'.\n",
      "\n",
      "CytoTRACE will be run on 23 sub-sample(s) of approximately 997 cells each using 10 / 10 core(s)\n",
      "\n",
      "Calculating genes associated with iCytoTRACE...\n",
      "\n"
     ]
    }
   ],
   "source": [
    "datasets <- list(surgical, peng, lin, csy)\n",
    "results <- iCytoTRACE(datasets, enableFast = TRUE, ncores = 10)"
   ]
  },
  {
   "cell_type": "code",
   "execution_count": 6,
   "id": "ebd85078",
   "metadata": {},
   "outputs": [
    {
     "data": {
      "text/html": [
       "<table class=\"dataframe\">\n",
       "<caption>A data.frame: 6 × 5</caption>\n",
       "<thead>\n",
       "\t<tr><th></th><th scope=col>results$CytoTRACE</th><th scope=col>CytoTRACE</th><th scope=col>CytoTRACErank</th><th scope=col>GCS</th><th scope=col>Counts</th></tr>\n",
       "\t<tr><th></th><th scope=col>&lt;dbl&gt;</th><th scope=col>&lt;dbl&gt;</th><th scope=col>&lt;dbl&gt;</th><th scope=col>&lt;dbl&gt;</th><th scope=col>&lt;dbl&gt;</th></tr>\n",
       "</thead>\n",
       "<tbody>\n",
       "\t<tr><th scope=row>X1555.tumor_AAACGGGGTGAGTGAC.1</th><td>0.79417671</td><td>0.79417671</td><td>792</td><td>0.009508606</td><td> 0.3463719691</td></tr>\n",
       "\t<tr><th scope=row>X1555.tumor_AAAGCAACACACAGAG.1</th><td>0.28313253</td><td>0.28313253</td><td>283</td><td>0.008522890</td><td> 0.3286992101</td></tr>\n",
       "\t<tr><th scope=row>X1555.tumor_AAAGCAACACGGCGTT.1</th><td>0.01807229</td><td>0.01807229</td><td> 19</td><td>0.001050467</td><td>-0.0318938336</td></tr>\n",
       "\t<tr><th scope=row>X1555.tumor_AAAGTAGGTCCAGTAT.1</th><td>0.59236948</td><td>0.59236948</td><td>591</td><td>0.004690976</td><td> 0.0006090691</td></tr>\n",
       "\t<tr><th scope=row>X1555.tumor_AAATGCCAGAGTACCG.1</th><td>0.02108434</td><td>0.02108434</td><td> 22</td><td>0.003005122</td><td> 0.0105981782</td></tr>\n",
       "\t<tr><th scope=row>X1555.tumor_AAATGCCAGTGTCCAT.1</th><td>0.01305221</td><td>0.01305221</td><td> 14</td><td>0.002120917</td><td>-0.0098873904</td></tr>\n",
       "</tbody>\n",
       "</table>\n"
      ],
      "text/latex": [
       "A data.frame: 6 × 5\n",
       "\\begin{tabular}{r|lllll}\n",
       "  & results\\$CytoTRACE & CytoTRACE & CytoTRACErank & GCS & Counts\\\\\n",
       "  & <dbl> & <dbl> & <dbl> & <dbl> & <dbl>\\\\\n",
       "\\hline\n",
       "\tX1555.tumor\\_AAACGGGGTGAGTGAC.1 & 0.79417671 & 0.79417671 & 792 & 0.009508606 &  0.3463719691\\\\\n",
       "\tX1555.tumor\\_AAAGCAACACACAGAG.1 & 0.28313253 & 0.28313253 & 283 & 0.008522890 &  0.3286992101\\\\\n",
       "\tX1555.tumor\\_AAAGCAACACGGCGTT.1 & 0.01807229 & 0.01807229 &  19 & 0.001050467 & -0.0318938336\\\\\n",
       "\tX1555.tumor\\_AAAGTAGGTCCAGTAT.1 & 0.59236948 & 0.59236948 & 591 & 0.004690976 &  0.0006090691\\\\\n",
       "\tX1555.tumor\\_AAATGCCAGAGTACCG.1 & 0.02108434 & 0.02108434 &  22 & 0.003005122 &  0.0105981782\\\\\n",
       "\tX1555.tumor\\_AAATGCCAGTGTCCAT.1 & 0.01305221 & 0.01305221 &  14 & 0.002120917 & -0.0098873904\\\\\n",
       "\\end{tabular}\n"
      ],
      "text/markdown": [
       "\n",
       "A data.frame: 6 × 5\n",
       "\n",
       "| <!--/--> | results$CytoTRACE &lt;dbl&gt; | CytoTRACE &lt;dbl&gt; | CytoTRACErank &lt;dbl&gt; | GCS &lt;dbl&gt; | Counts &lt;dbl&gt; |\n",
       "|---|---|---|---|---|---|\n",
       "| X1555.tumor_AAACGGGGTGAGTGAC.1 | 0.79417671 | 0.79417671 | 792 | 0.009508606 |  0.3463719691 |\n",
       "| X1555.tumor_AAAGCAACACACAGAG.1 | 0.28313253 | 0.28313253 | 283 | 0.008522890 |  0.3286992101 |\n",
       "| X1555.tumor_AAAGCAACACGGCGTT.1 | 0.01807229 | 0.01807229 |  19 | 0.001050467 | -0.0318938336 |\n",
       "| X1555.tumor_AAAGTAGGTCCAGTAT.1 | 0.59236948 | 0.59236948 | 591 | 0.004690976 |  0.0006090691 |\n",
       "| X1555.tumor_AAATGCCAGAGTACCG.1 | 0.02108434 | 0.02108434 |  22 | 0.003005122 |  0.0105981782 |\n",
       "| X1555.tumor_AAATGCCAGTGTCCAT.1 | 0.01305221 | 0.01305221 |  14 | 0.002120917 | -0.0098873904 |\n",
       "\n"
      ],
      "text/plain": [
       "                               results$CytoTRACE CytoTRACE  CytoTRACErank\n",
       "X1555.tumor_AAACGGGGTGAGTGAC.1 0.79417671        0.79417671 792          \n",
       "X1555.tumor_AAAGCAACACACAGAG.1 0.28313253        0.28313253 283          \n",
       "X1555.tumor_AAAGCAACACGGCGTT.1 0.01807229        0.01807229  19          \n",
       "X1555.tumor_AAAGTAGGTCCAGTAT.1 0.59236948        0.59236948 591          \n",
       "X1555.tumor_AAATGCCAGAGTACCG.1 0.02108434        0.02108434  22          \n",
       "X1555.tumor_AAATGCCAGTGTCCAT.1 0.01305221        0.01305221  14          \n",
       "                               GCS         Counts       \n",
       "X1555.tumor_AAACGGGGTGAGTGAC.1 0.009508606  0.3463719691\n",
       "X1555.tumor_AAAGCAACACACAGAG.1 0.008522890  0.3286992101\n",
       "X1555.tumor_AAAGCAACACGGCGTT.1 0.001050467 -0.0318938336\n",
       "X1555.tumor_AAAGTAGGTCCAGTAT.1 0.004690976  0.0006090691\n",
       "X1555.tumor_AAATGCCAGAGTACCG.1 0.003005122  0.0105981782\n",
       "X1555.tumor_AAATGCCAGTGTCCAT.1 0.002120917 -0.0098873904"
      ]
     },
     "metadata": {},
     "output_type": "display_data"
    }
   ],
   "source": [
    "df = as.data.frame(results$CytoTRACE)\n",
    "df$CytoTRACE = results$CytoTRACE\n",
    "df$CytoTRACErank = results$CytoTRACErank\n",
    "df$GCS = results$GCS\n",
    "df$Counts = results$Counts\n",
    "\n",
    "head(df)"
   ]
  },
  {
   "cell_type": "code",
   "execution_count": 7,
   "id": "e2e8b83d",
   "metadata": {},
   "outputs": [],
   "source": [
    "write.table(df, file = '../data/single_cell/cytotrace/outputs/mesenchymal_cytotrace.txt', sep = '\\t', quote = F)"
   ]
  },
  {
   "cell_type": "code",
   "execution_count": 8,
   "id": "bc37cc49",
   "metadata": {},
   "outputs": [
    {
     "data": {
      "text/html": [
       "<table class=\"dataframe\">\n",
       "<caption>A data.frame: 6 × 2</caption>\n",
       "<thead>\n",
       "\t<tr><th></th><th scope=col>results$cytoGenes</th><th scope=col>cytoGenes</th></tr>\n",
       "\t<tr><th></th><th scope=col>&lt;dbl&gt;</th><th scope=col>&lt;dbl&gt;</th></tr>\n",
       "</thead>\n",
       "<tbody>\n",
       "\t<tr><th scope=row>A1BG</th><td>-0.014392857</td><td>-0.014392857</td></tr>\n",
       "\t<tr><th scope=row>A1CF</th><td> 0.002952261</td><td> 0.002952261</td></tr>\n",
       "\t<tr><th scope=row>A2M</th><td> 0.176221527</td><td> 0.176221527</td></tr>\n",
       "\t<tr><th scope=row>A2ML1</th><td> 0.003617717</td><td> 0.003617717</td></tr>\n",
       "\t<tr><th scope=row>A4GALT</th><td> 0.131142950</td><td> 0.131142950</td></tr>\n",
       "\t<tr><th scope=row>AAAS</th><td> 0.025173486</td><td> 0.025173486</td></tr>\n",
       "</tbody>\n",
       "</table>\n"
      ],
      "text/latex": [
       "A data.frame: 6 × 2\n",
       "\\begin{tabular}{r|ll}\n",
       "  & results\\$cytoGenes & cytoGenes\\\\\n",
       "  & <dbl> & <dbl>\\\\\n",
       "\\hline\n",
       "\tA1BG & -0.014392857 & -0.014392857\\\\\n",
       "\tA1CF &  0.002952261 &  0.002952261\\\\\n",
       "\tA2M &  0.176221527 &  0.176221527\\\\\n",
       "\tA2ML1 &  0.003617717 &  0.003617717\\\\\n",
       "\tA4GALT &  0.131142950 &  0.131142950\\\\\n",
       "\tAAAS &  0.025173486 &  0.025173486\\\\\n",
       "\\end{tabular}\n"
      ],
      "text/markdown": [
       "\n",
       "A data.frame: 6 × 2\n",
       "\n",
       "| <!--/--> | results$cytoGenes &lt;dbl&gt; | cytoGenes &lt;dbl&gt; |\n",
       "|---|---|---|\n",
       "| A1BG | -0.014392857 | -0.014392857 |\n",
       "| A1CF |  0.002952261 |  0.002952261 |\n",
       "| A2M |  0.176221527 |  0.176221527 |\n",
       "| A2ML1 |  0.003617717 |  0.003617717 |\n",
       "| A4GALT |  0.131142950 |  0.131142950 |\n",
       "| AAAS |  0.025173486 |  0.025173486 |\n",
       "\n"
      ],
      "text/plain": [
       "       results$cytoGenes cytoGenes   \n",
       "A1BG   -0.014392857      -0.014392857\n",
       "A1CF    0.002952261       0.002952261\n",
       "A2M     0.176221527       0.176221527\n",
       "A2ML1   0.003617717       0.003617717\n",
       "A4GALT  0.131142950       0.131142950\n",
       "AAAS    0.025173486       0.025173486"
      ]
     },
     "metadata": {},
     "output_type": "display_data"
    }
   ],
   "source": [
    "df = as.data.frame(results$cytoGenes)\n",
    "df$cytoGenes = results$cytoGenes\n",
    "head(df)"
   ]
  },
  {
   "cell_type": "code",
   "execution_count": 9,
   "id": "cea5a5d0",
   "metadata": {},
   "outputs": [],
   "source": [
    "write.table(df, file = '../data/single_cell/cytotrace/outputs/mesenchymal_cytogenes.txt', sep = '\\t', quote = F)"
   ]
  },
  {
   "cell_type": "code",
   "execution_count": null,
   "id": "c643ada6",
   "metadata": {},
   "outputs": [],
   "source": []
  }
 ],
 "metadata": {
  "kernelspec": {
   "display_name": "R",
   "language": "R",
   "name": "ir"
  },
  "language_info": {
   "codemirror_mode": "r",
   "file_extension": ".r",
   "mimetype": "text/x-r-source",
   "name": "R",
   "pygments_lexer": "r",
   "version": "4.1.3"
  }
 },
 "nbformat": 4,
 "nbformat_minor": 5
}
