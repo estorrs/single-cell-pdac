{
 "cells": [
  {
   "cell_type": "code",
   "execution_count": 1,
   "id": "ce1584f0",
   "metadata": {},
   "outputs": [],
   "source": [
    "Sys.setenv(RETICULATE_PYTHON=\"/diskmnt/Projects/Users/estorrs/miniconda3/envs/cytotrace/bin\")"
   ]
  },
  {
   "cell_type": "code",
   "execution_count": 2,
   "id": "6bf1985a",
   "metadata": {},
   "outputs": [
    {
     "name": "stderr",
     "output_type": "stream",
     "text": [
      "Welcome to the CytoTRACE R package, a tool for the unbiased prediction of differentiation states in scRNA-seq data. For more information about this method, visit https://cytotrace.stanford.edu.\n",
      "\n",
      "\n"
     ]
    }
   ],
   "source": [
    "library(CytoTRACE)"
   ]
  },
  {
   "cell_type": "markdown",
   "id": "70030e5f",
   "metadata": {},
   "source": [
    "###### malignant"
   ]
  },
  {
   "cell_type": "code",
   "execution_count": 3,
   "id": "bf77e331",
   "metadata": {},
   "outputs": [],
   "source": [
    "surgical = read.table('../data/single_cell/cytotrace/inputs/malignant_in-house surgical.txt', sep = \"\\t\", header = TRUE, row.names='Gene')\n",
    "peng = read.table('../data/single_cell/cytotrace/inputs/malignant_peng.txt', sep = \"\\t\", header = TRUE, row.names='Gene')\n",
    "lin = read.table('../data/single_cell/cytotrace/inputs/malignant_lin.txt', sep = \"\\t\", header = TRUE, row.names='Gene')\n",
    "csy = read.table('../data/single_cell/cytotrace/inputs/malignant_chan-seng-yue.txt', sep = \"\\t\", header = TRUE, row.names='Gene')\n",
    "\n"
   ]
  },
  {
   "cell_type": "code",
   "execution_count": null,
   "id": "7b20ee00",
   "metadata": {},
   "outputs": [],
   "source": [
    "datasets <- list(surgical, peng, lin, csy)\n",
    "results <- iCytoTRACE(datasets)"
   ]
  },
  {
   "cell_type": "code",
   "execution_count": null,
   "id": "312eeab4",
   "metadata": {},
   "outputs": [],
   "source": []
  }
 ],
 "metadata": {
  "kernelspec": {
   "display_name": "R",
   "language": "R",
   "name": "ir"
  },
  "language_info": {
   "codemirror_mode": "r",
   "file_extension": ".r",
   "mimetype": "text/x-r-source",
   "name": "R",
   "pygments_lexer": "r",
   "version": "4.1.3"
  }
 },
 "nbformat": 4,
 "nbformat_minor": 5
}
